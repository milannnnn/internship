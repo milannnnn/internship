{
 "cells": [
  {
   "cell_type": "code",
   "execution_count": 9,
   "metadata": {},
   "outputs": [
    {
     "name": "stderr",
     "output_type": "stream",
     "text": [
      "Warning message in lapply(y, as.numeric):\n",
      "\"NAs introduced by coercion\""
     ]
    },
    {
     "data": {
      "text/html": [
       "<table>\n",
       "<thead><tr><th scope=col>num.dies</th><th scope=col>P.bat</th><th scope=col>P.pv.curt</th><th scope=col>f.min</th></tr></thead>\n",
       "<tbody>\n",
       "\t<tr><td>12      </td><td>-2200000</td><td>7e+06   </td><td>49.15287</td></tr>\n",
       "\t<tr><td> 4      </td><td>-2200000</td><td>6e+06   </td><td>48.53229</td></tr>\n",
       "\t<tr><td> 5      </td><td>-2200000</td><td>6e+06   </td><td>48.33673</td></tr>\n",
       "\t<tr><td> 6      </td><td>-2200000</td><td>6e+06   </td><td>48.40123</td></tr>\n",
       "\t<tr><td> 7      </td><td>-2200000</td><td>6e+06   </td><td>48.68405</td></tr>\n",
       "\t<tr><td> 8      </td><td>-2200000</td><td>6e+06   </td><td>48.89234</td></tr>\n",
       "\t<tr><td> 9      </td><td>-2200000</td><td>6e+06   </td><td>49.03404</td></tr>\n",
       "\t<tr><td>10      </td><td>-2200000</td><td>6e+06   </td><td>49.14692</td></tr>\n",
       "\t<tr><td>11      </td><td>-2200000</td><td>6e+06   </td><td>49.23873</td></tr>\n",
       "\t<tr><td>12      </td><td>-2200000</td><td>6e+06   </td><td>49.31570</td></tr>\n",
       "\t<tr><td> 4      </td><td>-2200000</td><td>5e+06   </td><td>48.67707</td></tr>\n",
       "\t<tr><td> 5      </td><td>-2200000</td><td>5e+06   </td><td>48.55655</td></tr>\n",
       "\t<tr><td> 6      </td><td>-2200000</td><td>5e+06   </td><td>48.75868</td></tr>\n",
       "</tbody>\n",
       "</table>\n"
      ],
      "text/latex": [
       "\\begin{tabular}{llll}\n",
       " num.dies & P.bat & P.pv.curt & f.min\\\\\n",
       "\\hline\n",
       "\t 12       & -2200000 & 7e+06    & 49.15287\\\\\n",
       "\t  4       & -2200000 & 6e+06    & 48.53229\\\\\n",
       "\t  5       & -2200000 & 6e+06    & 48.33673\\\\\n",
       "\t  6       & -2200000 & 6e+06    & 48.40123\\\\\n",
       "\t  7       & -2200000 & 6e+06    & 48.68405\\\\\n",
       "\t  8       & -2200000 & 6e+06    & 48.89234\\\\\n",
       "\t  9       & -2200000 & 6e+06    & 49.03404\\\\\n",
       "\t 10       & -2200000 & 6e+06    & 49.14692\\\\\n",
       "\t 11       & -2200000 & 6e+06    & 49.23873\\\\\n",
       "\t 12       & -2200000 & 6e+06    & 49.31570\\\\\n",
       "\t  4       & -2200000 & 5e+06    & 48.67707\\\\\n",
       "\t  5       & -2200000 & 5e+06    & 48.55655\\\\\n",
       "\t  6       & -2200000 & 5e+06    & 48.75868\\\\\n",
       "\\end{tabular}\n"
      ],
      "text/markdown": [
       "\n",
       "num.dies | P.bat | P.pv.curt | f.min | \n",
       "|---|---|---|---|---|---|---|---|---|---|---|---|---|\n",
       "| 12       | -2200000 | 7e+06    | 49.15287 | \n",
       "|  4       | -2200000 | 6e+06    | 48.53229 | \n",
       "|  5       | -2200000 | 6e+06    | 48.33673 | \n",
       "|  6       | -2200000 | 6e+06    | 48.40123 | \n",
       "|  7       | -2200000 | 6e+06    | 48.68405 | \n",
       "|  8       | -2200000 | 6e+06    | 48.89234 | \n",
       "|  9       | -2200000 | 6e+06    | 49.03404 | \n",
       "| 10       | -2200000 | 6e+06    | 49.14692 | \n",
       "| 11       | -2200000 | 6e+06    | 49.23873 | \n",
       "| 12       | -2200000 | 6e+06    | 49.31570 | \n",
       "|  4       | -2200000 | 5e+06    | 48.67707 | \n",
       "|  5       | -2200000 | 5e+06    | 48.55655 | \n",
       "|  6       | -2200000 | 5e+06    | 48.75868 | \n",
       "\n",
       "\n"
      ],
      "text/plain": [
       "      num.dies P.bat    P.pv.curt f.min   \n",
       " [1,] 12       -2200000 7e+06     49.15287\n",
       " [2,]  4       -2200000 6e+06     48.53229\n",
       " [3,]  5       -2200000 6e+06     48.33673\n",
       " [4,]  6       -2200000 6e+06     48.40123\n",
       " [5,]  7       -2200000 6e+06     48.68405\n",
       " [6,]  8       -2200000 6e+06     48.89234\n",
       " [7,]  9       -2200000 6e+06     49.03404\n",
       " [8,] 10       -2200000 6e+06     49.14692\n",
       " [9,] 11       -2200000 6e+06     49.23873\n",
       "[10,] 12       -2200000 6e+06     49.31570\n",
       "[11,]  4       -2200000 5e+06     48.67707\n",
       "[12,]  5       -2200000 5e+06     48.55655\n",
       "[13,]  6       -2200000 5e+06     48.75868"
      ]
     },
     "metadata": {},
     "output_type": "display_data"
    },
    {
     "data": {
      "image/png": "[encoded data removed]",
      "text/plain": [
       "plot without title"
      ]
     },
     "metadata": {},
     "output_type": "display_data"
    }
   ],
   "source": [
    "rm(list=ls())\n",
    "\n",
    "require(R.matlab)\n",
    "\n",
    "# Reading data \n",
    "data <- readMat(con = '../../Data/Generated Data/4 - Frequency/result_sim.mat')\n",
    "data <- readMat(con = '../../Data/Generated Data/4 - Frequency/result_sim - Copy.mat')\n",
    "# t() - transpose matrix\n",
    "X <- t(data.frame(data[[1]],stringsAsFactors = F)) \n",
    "X <- as.data.frame(X,row.names = T)\n",
    "y <- (lapply(X,unlist))\n",
    "z <- lapply(y,as.numeric)\n",
    "j <- matrix(unlist(z), ncol = length(z), byrow = F)\n",
    "cols <- c(2,3,4,6)\n",
    "k <- j[,cols]\n",
    "colnames(k) <- names(X[,cols])\n",
    "k[57:69,]\n",
    "\n",
    "# comportament de la variable freq vs variables\n",
    "\n",
    "# windows()\n",
    "pairs(j[,cols], labels =  names(X[,cols]))\n",
    "pairs(j[,cols], labels =  colnames(k))"
   ]
  },
  {
   "cell_type": "code",
   "execution_count": 10,
   "metadata": {},
   "outputs": [
    {
     "data": {
      "text/plain": [
       "\n",
       "Call:\n",
       "lm(formula = f.min ~ num.dies + P.bat + P.pv.curt, data = data.frame(k))\n",
       "\n",
       "Residuals:\n",
       "     Min       1Q   Median       3Q      Max \n",
       "-2.53826 -0.16391  0.03262  0.23197  1.09430 \n",
       "\n",
       "Coefficients:\n",
       "              Estimate Std. Error t value Pr(>|t|)    \n",
       "(Intercept)  4.788e+01  4.689e-02 1021.05   <2e-16 ***\n",
       "num.dies     1.545e-01  5.336e-03   28.96   <2e-16 ***\n",
       "P.bat       -1.999e-07  1.127e-08  -17.73   <2e-16 ***\n",
       "P.pv.curt   -8.570e-08  3.168e-09  -27.05   <2e-16 ***\n",
       "---\n",
       "Signif. codes:  0 '***' 0.001 '**' 0.01 '*' 0.05 '.' 0.1 ' ' 1\n",
       "\n",
       "Residual standard error: 0.3596 on 801 degrees of freedom\n",
       "Multiple R-squared:  0.6756,\tAdjusted R-squared:  0.6744 \n",
       "F-statistic:   556 on 3 and 801 DF,  p-value: < 2.2e-16\n"
      ]
     },
     "metadata": {},
     "output_type": "display_data"
    }
   ],
   "source": [
    "# linear model without transformations\n",
    "\n",
    "fit <- lm(f.min ~ num.dies + P.bat + P.pv.curt, data=data.frame(k))\n",
    "summary(fit) # show results\n"
   ]
  },
  {
   "cell_type": "code",
   "execution_count": 28,
   "metadata": {},
   "outputs": [
    {
     "data": {
      "text/html": [
       "<table>\n",
       "<tbody>\n",
       "\t<tr><td> 4.764003e+01</td></tr>\n",
       "\t<tr><td> 1.443432e-01</td></tr>\n",
       "\t<tr><td>-1.296222e-07</td></tr>\n",
       "\t<tr><td>-4.843416e-09</td></tr>\n",
       "</tbody>\n",
       "</table>\n"
      ],
      "text/latex": [
       "\\begin{tabular}{l}\n",
       "\t  4.764003e+01\\\\\n",
       "\t  1.443432e-01\\\\\n",
       "\t -1.296222e-07\\\\\n",
       "\t -4.843416e-09\\\\\n",
       "\\end{tabular}\n"
      ],
      "text/markdown": [
       "\n",
       "|  4.764003e+01 | \n",
       "|  1.443432e-01 | \n",
       "| -1.296222e-07 | \n",
       "| -4.843416e-09 | \n",
       "\n",
       "\n"
      ],
      "text/plain": [
       "     [,1]         \n",
       "[1,]  4.764003e+01\n",
       "[2,]  1.443432e-01\n",
       "[3,] -1.296222e-07\n",
       "[4,] -4.843416e-09"
      ]
     },
     "metadata": {},
     "output_type": "display_data"
    }
   ],
   "source": [
    "matrix(fit$coefficients)\n",
    "\n",
    "theta_i = matrix(fit$coefficients)[1];\n",
    "theta_d = matrix(fit$coefficients)[2];\n",
    "theta_b = matrix(fit$coefficients)[3];\n",
    "theta_p = matrix(fit$coefficients)[4];\n",
    "\n",
    "writeMat(theta_i = theta_i, theta_d = theta_d, theta_b = theta_b, theta_p = theta_p, con=\"../../Data/Generated Data/4 - Frequency/theta.mat\")\n"
   ]
  },
  {
   "cell_type": "code",
   "execution_count": null,
   "metadata": {
    "collapsed": true
   },
   "outputs": [],
   "source": []
  },
  {
   "cell_type": "code",
   "execution_count": null,
   "metadata": {
    "collapsed": true
   },
   "outputs": [],
   "source": []
  },
  {
   "cell_type": "code",
   "execution_count": null,
   "metadata": {
    "collapsed": true
   },
   "outputs": [],
   "source": []
  },
  {
   "cell_type": "code",
   "execution_count": null,
   "metadata": {
    "collapsed": true
   },
   "outputs": [],
   "source": []
  }
 ],
 "metadata": {
  "kernelspec": {
   "display_name": "R",
   "language": "R",
   "name": "ir"
  },
  "language_info": {
   "codemirror_mode": "r",
   "file_extension": ".r",
   "mimetype": "text/x-r-source",
   "name": "R",
   "pygments_lexer": "r",
   "version": "3.4.2"
  }
 },
 "nbformat": 4,
 "nbformat_minor": 2
}
