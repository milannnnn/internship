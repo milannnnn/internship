{
 "cells": [
  {
   "cell_type": "code",
   "execution_count": 5,
   "metadata": {},
   "outputs": [
    {
     "name": "stderr",
     "output_type": "stream",
     "text": [
      "Warning message in lapply(y, as.numeric):\n",
      "\"NAs introduced by coercion\""
     ]
    },
    {
     "data": {
      "text/html": [
       "<table>\n",
       "<thead><tr><th scope=col>num.dies</th><th scope=col>P.bat</th><th scope=col>P.pv.curt</th><th scope=col>f.min</th></tr></thead>\n",
       "<tbody>\n",
       "\t<tr><td> 9      </td><td>-2200000</td><td>12750000</td><td>48.77806</td></tr>\n",
       "\t<tr><td>10      </td><td>-2200000</td><td>12750000</td><td>49.03413</td></tr>\n",
       "\t<tr><td>11      </td><td>-2200000</td><td>12750000</td><td>49.17204</td></tr>\n",
       "\t<tr><td>12      </td><td>-2200000</td><td>12750000</td><td>49.29158</td></tr>\n",
       "\t<tr><td> 7      </td><td>-2200000</td><td>12500000</td><td>48.57664</td></tr>\n",
       "\t<tr><td> 8      </td><td>-2200000</td><td>12500000</td><td>48.62537</td></tr>\n",
       "\t<tr><td> 9      </td><td>-2200000</td><td>12500000</td><td>48.77821</td></tr>\n",
       "\t<tr><td>10      </td><td>-2200000</td><td>12500000</td><td>49.03413</td></tr>\n",
       "\t<tr><td>11      </td><td>-2200000</td><td>12500000</td><td>49.17194</td></tr>\n",
       "\t<tr><td>12      </td><td>-2200000</td><td>12500000</td><td>49.29122</td></tr>\n",
       "\t<tr><td> 7      </td><td>-2200000</td><td>12250000</td><td>48.58568</td></tr>\n",
       "\t<tr><td> 8      </td><td>-2200000</td><td>12250000</td><td>48.62922</td></tr>\n",
       "\t<tr><td> 9      </td><td>-2200000</td><td>12250000</td><td>48.77298</td></tr>\n",
       "</tbody>\n",
       "</table>\n"
      ],
      "text/latex": [
       "\\begin{tabular}{llll}\n",
       " num.dies & P.bat & P.pv.curt & f.min\\\\\n",
       "\\hline\n",
       "\t  9       & -2200000 & 12750000 & 48.77806\\\\\n",
       "\t 10       & -2200000 & 12750000 & 49.03413\\\\\n",
       "\t 11       & -2200000 & 12750000 & 49.17204\\\\\n",
       "\t 12       & -2200000 & 12750000 & 49.29158\\\\\n",
       "\t  7       & -2200000 & 12500000 & 48.57664\\\\\n",
       "\t  8       & -2200000 & 12500000 & 48.62537\\\\\n",
       "\t  9       & -2200000 & 12500000 & 48.77821\\\\\n",
       "\t 10       & -2200000 & 12500000 & 49.03413\\\\\n",
       "\t 11       & -2200000 & 12500000 & 49.17194\\\\\n",
       "\t 12       & -2200000 & 12500000 & 49.29122\\\\\n",
       "\t  7       & -2200000 & 12250000 & 48.58568\\\\\n",
       "\t  8       & -2200000 & 12250000 & 48.62922\\\\\n",
       "\t  9       & -2200000 & 12250000 & 48.77298\\\\\n",
       "\\end{tabular}\n"
      ],
      "text/markdown": [
       "\n",
       "num.dies | P.bat | P.pv.curt | f.min | \n",
       "|---|---|---|---|---|---|---|---|---|---|---|---|---|\n",
       "|  9       | -2200000 | 12750000 | 48.77806 | \n",
       "| 10       | -2200000 | 12750000 | 49.03413 | \n",
       "| 11       | -2200000 | 12750000 | 49.17204 | \n",
       "| 12       | -2200000 | 12750000 | 49.29158 | \n",
       "|  7       | -2200000 | 12500000 | 48.57664 | \n",
       "|  8       | -2200000 | 12500000 | 48.62537 | \n",
       "|  9       | -2200000 | 12500000 | 48.77821 | \n",
       "| 10       | -2200000 | 12500000 | 49.03413 | \n",
       "| 11       | -2200000 | 12500000 | 49.17194 | \n",
       "| 12       | -2200000 | 12500000 | 49.29122 | \n",
       "|  7       | -2200000 | 12250000 | 48.58568 | \n",
       "|  8       | -2200000 | 12250000 | 48.62922 | \n",
       "|  9       | -2200000 | 12250000 | 48.77298 | \n",
       "\n",
       "\n"
      ],
      "text/plain": [
       "      num.dies P.bat    P.pv.curt f.min   \n",
       " [1,]  9       -2200000 12750000  48.77806\n",
       " [2,] 10       -2200000 12750000  49.03413\n",
       " [3,] 11       -2200000 12750000  49.17204\n",
       " [4,] 12       -2200000 12750000  49.29158\n",
       " [5,]  7       -2200000 12500000  48.57664\n",
       " [6,]  8       -2200000 12500000  48.62537\n",
       " [7,]  9       -2200000 12500000  48.77821\n",
       " [8,] 10       -2200000 12500000  49.03413\n",
       " [9,] 11       -2200000 12500000  49.17194\n",
       "[10,] 12       -2200000 12500000  49.29122\n",
       "[11,]  7       -2200000 12250000  48.58568\n",
       "[12,]  8       -2200000 12250000  48.62922\n",
       "[13,]  9       -2200000 12250000  48.77298"
      ]
     },
     "metadata": {},
     "output_type": "display_data"
    },
    {
     "data": {
      "image/png": "[encoded data removed]",
      "text/plain": [
       "plot without title"
      ]
     },
     "metadata": {},
     "output_type": "display_data"
    }
   ],
   "source": [
    "rm(list=ls())\n",
    "\n",
    "require(R.matlab)\n",
    "\n",
    "# Reading data \n",
    "data <- readMat(con = '../../Data/Generated Data/4 - Frequency/result_sim.mat')\n",
    "# t() - transpose matrix\n",
    "X <- t(data.frame(data[[1]],stringsAsFactors = F)) \n",
    "X <- as.data.frame(X,row.names = T)\n",
    "y <- (lapply(X,unlist))\n",
    "z <- lapply(y,as.numeric)\n",
    "j <- matrix(unlist(z), ncol = length(z), byrow = F)\n",
    "cols <- c(2,3,4,6)\n",
    "k <- j[,cols]\n",
    "colnames(k) <- names(X[,cols])\n",
    "k[57:69,]\n",
    "\n",
    "# comportament de la variable freq vs variables\n",
    "\n",
    "# windows()\n",
    "pairs(j[,cols], labels =  names(X[,cols]))\n",
    "pairs(j[,cols], labels =  colnames(k))"
   ]
  },
  {
   "cell_type": "code",
   "execution_count": 6,
   "metadata": {},
   "outputs": [
    {
     "data": {
      "text/plain": [
       "\n",
       "Call:\n",
       "lm(formula = f.min ~ num.dies + P.bat + P.pv.curt, data = data.frame(k))\n",
       "\n",
       "Residuals:\n",
       "     Min       1Q   Median       3Q      Max \n",
       "-1.24302 -0.17030  0.01598  0.17914  0.86179 \n",
       "\n",
       "Coefficients:\n",
       "              Estimate Std. Error t value Pr(>|t|)    \n",
       "(Intercept)  4.823e+01  1.934e-02 2493.42   <2e-16 ***\n",
       "num.dies     1.289e-01  2.173e-03   59.33   <2e-16 ***\n",
       "P.bat       -2.389e-07  4.445e-09  -53.74   <2e-16 ***\n",
       "P.pv.curt   -8.417e-08  1.289e-09  -65.30   <2e-16 ***\n",
       "---\n",
       "Signif. codes:  0 '***' 0.001 '**' 0.01 '*' 0.05 '.' 0.1 ' ' 1\n",
       "\n",
       "Residual standard error: 0.2708 on 2967 degrees of freedom\n",
       "Multiple R-squared:  0.772,\tAdjusted R-squared:  0.7718 \n",
       "F-statistic:  3349 on 3 and 2967 DF,  p-value: < 2.2e-16\n"
      ]
     },
     "metadata": {},
     "output_type": "display_data"
    }
   ],
   "source": [
    "# linear model without transformations\n",
    "\n",
    "fit <- lm(f.min ~ num.dies + P.bat + P.pv.curt, data=data.frame(k))\n",
    "summary(fit) # show results\n"
   ]
  },
  {
   "cell_type": "code",
   "execution_count": 7,
   "metadata": {},
   "outputs": [
    {
     "data": {
      "text/html": [
       "<table>\n",
       "<tbody>\n",
       "\t<tr><td> 4.823379e+01</td></tr>\n",
       "\t<tr><td> 1.289349e-01</td></tr>\n",
       "\t<tr><td>-2.388991e-07</td></tr>\n",
       "\t<tr><td>-8.416972e-08</td></tr>\n",
       "</tbody>\n",
       "</table>\n"
      ],
      "text/latex": [
       "\\begin{tabular}{l}\n",
       "\t  4.823379e+01\\\\\n",
       "\t  1.289349e-01\\\\\n",
       "\t -2.388991e-07\\\\\n",
       "\t -8.416972e-08\\\\\n",
       "\\end{tabular}\n"
      ],
      "text/markdown": [
       "\n",
       "|  4.823379e+01 | \n",
       "|  1.289349e-01 | \n",
       "| -2.388991e-07 | \n",
       "| -8.416972e-08 | \n",
       "\n",
       "\n"
      ],
      "text/plain": [
       "     [,1]         \n",
       "[1,]  4.823379e+01\n",
       "[2,]  1.289349e-01\n",
       "[3,] -2.388991e-07\n",
       "[4,] -8.416972e-08"
      ]
     },
     "metadata": {},
     "output_type": "display_data"
    }
   ],
   "source": [
    "matrix(fit$coefficients)\n",
    "\n",
    "theta_i = matrix(fit$coefficients)[1];\n",
    "theta_d = matrix(fit$coefficients)[2];\n",
    "theta_b = matrix(fit$coefficients)[3];\n",
    "theta_p = matrix(fit$coefficients)[4];\n",
    "\n",
    "writeMat(theta_i = theta_i, theta_d = theta_d, theta_b = theta_b, theta_p = theta_p, con=\"../../Data/Generated Data/4 - Frequency/theta.mat\")\n"
   ]
  },
  {
   "cell_type": "code",
   "execution_count": null,
   "metadata": {
    "collapsed": true
   },
   "outputs": [],
   "source": []
  },
  {
   "cell_type": "code",
   "execution_count": null,
   "metadata": {
    "collapsed": true
   },
   "outputs": [],
   "source": []
  },
  {
   "cell_type": "code",
   "execution_count": null,
   "metadata": {
    "collapsed": true
   },
   "outputs": [],
   "source": []
  },
  {
   "cell_type": "code",
   "execution_count": null,
   "metadata": {
    "collapsed": true
   },
   "outputs": [],
   "source": []
  }
 ],
 "metadata": {
  "kernelspec": {
   "display_name": "R",
   "language": "R",
   "name": "ir"
  },
  "language_info": {
   "codemirror_mode": "r",
   "file_extension": ".r",
   "mimetype": "text/x-r-source",
   "name": "R",
   "pygments_lexer": "r",
   "version": "3.4.2"
  }
 },
 "nbformat": 4,
 "nbformat_minor": 2
}
