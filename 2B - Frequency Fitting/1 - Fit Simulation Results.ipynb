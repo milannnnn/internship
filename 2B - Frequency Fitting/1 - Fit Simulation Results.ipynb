{
 "cells": [
  {
   "cell_type": "code",
   "execution_count": 20,
   "metadata": {},
   "outputs": [
    {
     "name": "stderr",
     "output_type": "stream",
     "text": [
      "Warning message in lapply(y, as.numeric):\n",
      "\"NAs introduced by coercion\""
     ]
    },
    {
     "data": {
      "text/html": [
       "<table>\n",
       "<thead><tr><th scope=col>num.dies</th><th scope=col>P.bat</th><th scope=col>P.pv.curt</th><th scope=col>f.min</th></tr></thead>\n",
       "<tbody>\n",
       "\t<tr><td> 9      </td><td>-2200000</td><td>12750000</td><td>48.48815</td></tr>\n",
       "\t<tr><td>10      </td><td>-2200000</td><td>12750000</td><td>48.75676</td></tr>\n",
       "\t<tr><td>11      </td><td>-2200000</td><td>12750000</td><td>48.87863</td></tr>\n",
       "\t<tr><td>12      </td><td>-2200000</td><td>12750000</td><td>48.98174</td></tr>\n",
       "\t<tr><td> 7      </td><td>-2200000</td><td>12500000</td><td>48.07534</td></tr>\n",
       "\t<tr><td> 8      </td><td>-2200000</td><td>12500000</td><td>48.23250</td></tr>\n",
       "\t<tr><td> 9      </td><td>-2200000</td><td>12500000</td><td>48.51966</td></tr>\n",
       "\t<tr><td>10      </td><td>-2200000</td><td>12500000</td><td>48.75673</td></tr>\n",
       "\t<tr><td>11      </td><td>-2200000</td><td>12500000</td><td>48.87893</td></tr>\n",
       "\t<tr><td>12      </td><td>-2200000</td><td>12500000</td><td>48.98182</td></tr>\n",
       "\t<tr><td> 7      </td><td>-2200000</td><td>12250000</td><td>48.07618</td></tr>\n",
       "\t<tr><td> 8      </td><td>-2200000</td><td>12250000</td><td>48.23180</td></tr>\n",
       "\t<tr><td> 9      </td><td>-2200000</td><td>12250000</td><td>48.48273</td></tr>\n",
       "</tbody>\n",
       "</table>\n"
      ],
      "text/latex": [
       "\\begin{tabular}{llll}\n",
       " num.dies & P.bat & P.pv.curt & f.min\\\\\n",
       "\\hline\n",
       "\t  9       & -2200000 & 12750000 & 48.48815\\\\\n",
       "\t 10       & -2200000 & 12750000 & 48.75676\\\\\n",
       "\t 11       & -2200000 & 12750000 & 48.87863\\\\\n",
       "\t 12       & -2200000 & 12750000 & 48.98174\\\\\n",
       "\t  7       & -2200000 & 12500000 & 48.07534\\\\\n",
       "\t  8       & -2200000 & 12500000 & 48.23250\\\\\n",
       "\t  9       & -2200000 & 12500000 & 48.51966\\\\\n",
       "\t 10       & -2200000 & 12500000 & 48.75673\\\\\n",
       "\t 11       & -2200000 & 12500000 & 48.87893\\\\\n",
       "\t 12       & -2200000 & 12500000 & 48.98182\\\\\n",
       "\t  7       & -2200000 & 12250000 & 48.07618\\\\\n",
       "\t  8       & -2200000 & 12250000 & 48.23180\\\\\n",
       "\t  9       & -2200000 & 12250000 & 48.48273\\\\\n",
       "\\end{tabular}\n"
      ],
      "text/markdown": [
       "\n",
       "num.dies | P.bat | P.pv.curt | f.min | \n",
       "|---|---|---|---|---|---|---|---|---|---|---|---|---|\n",
       "|  9       | -2200000 | 12750000 | 48.48815 | \n",
       "| 10       | -2200000 | 12750000 | 48.75676 | \n",
       "| 11       | -2200000 | 12750000 | 48.87863 | \n",
       "| 12       | -2200000 | 12750000 | 48.98174 | \n",
       "|  7       | -2200000 | 12500000 | 48.07534 | \n",
       "|  8       | -2200000 | 12500000 | 48.23250 | \n",
       "|  9       | -2200000 | 12500000 | 48.51966 | \n",
       "| 10       | -2200000 | 12500000 | 48.75673 | \n",
       "| 11       | -2200000 | 12500000 | 48.87893 | \n",
       "| 12       | -2200000 | 12500000 | 48.98182 | \n",
       "|  7       | -2200000 | 12250000 | 48.07618 | \n",
       "|  8       | -2200000 | 12250000 | 48.23180 | \n",
       "|  9       | -2200000 | 12250000 | 48.48273 | \n",
       "\n",
       "\n"
      ],
      "text/plain": [
       "      num.dies P.bat    P.pv.curt f.min   \n",
       " [1,]  9       -2200000 12750000  48.48815\n",
       " [2,] 10       -2200000 12750000  48.75676\n",
       " [3,] 11       -2200000 12750000  48.87863\n",
       " [4,] 12       -2200000 12750000  48.98174\n",
       " [5,]  7       -2200000 12500000  48.07534\n",
       " [6,]  8       -2200000 12500000  48.23250\n",
       " [7,]  9       -2200000 12500000  48.51966\n",
       " [8,] 10       -2200000 12500000  48.75673\n",
       " [9,] 11       -2200000 12500000  48.87893\n",
       "[10,] 12       -2200000 12500000  48.98182\n",
       "[11,]  7       -2200000 12250000  48.07618\n",
       "[12,]  8       -2200000 12250000  48.23180\n",
       "[13,]  9       -2200000 12250000  48.48273"
      ]
     },
     "metadata": {},
     "output_type": "display_data"
    },
    {
     "data": {
      "image/png": "[encoded data removed]",
      "text/plain": [
       "plot without title"
      ]
     },
     "metadata": {},
     "output_type": "display_data"
    }
   ],
   "source": [
    "rm(list=ls())\n",
    "\n",
    "require(R.matlab)\n",
    "\n",
    "# Reading data \n",
    "data <- readMat(con = '../../Data/Generated Data/4 - Frequency/result_sim.mat')\n",
    "# t() - transpose matrix\n",
    "X <- t(data.frame(data[[1]],stringsAsFactors = F)) \n",
    "X <- as.data.frame(X,row.names = T)\n",
    "y <- (lapply(X,unlist))\n",
    "z <- lapply(y,as.numeric)\n",
    "j <- matrix(unlist(z), ncol = length(z), byrow = F)\n",
    "cols <- c(2,3,4,6)\n",
    "k <- j[,cols]\n",
    "colnames(k) <- names(X[,cols])\n",
    "k[57:69,]\n",
    "\n",
    "# comportament de la variable freq vs variables\n",
    "\n",
    "# windows()\n",
    "pairs(j[,cols], labels =  names(X[,cols]))\n",
    "pairs(j[,cols], labels =  colnames(k))"
   ]
  },
  {
   "cell_type": "code",
   "execution_count": 21,
   "metadata": {},
   "outputs": [
    {
     "data": {
      "text/plain": [
       "\n",
       "Call:\n",
       "lm(formula = f.min ~ num.dies + P.bat + P.pv.curt, data = data.frame(k))\n",
       "\n",
       "Residuals:\n",
       "     Min       1Q   Median       3Q      Max \n",
       "-0.93494 -0.15383  0.00479  0.17457  1.07176 \n",
       "\n",
       "Coefficients:\n",
       "              Estimate Std. Error t value Pr(>|t|)    \n",
       "(Intercept)  4.808e+01  1.904e-02 2525.13   <2e-16 ***\n",
       "num.dies     1.429e-01  2.133e-03   67.01   <2e-16 ***\n",
       "P.bat       -1.265e-07  4.410e-09  -28.68   <2e-16 ***\n",
       "P.pv.curt   -8.741e-08  1.224e-09  -71.43   <2e-16 ***\n",
       "---\n",
       "Signif. codes:  0 '***' 0.001 '**' 0.01 '*' 0.05 '.' 0.1 ' ' 1\n",
       "\n",
       "Residual standard error: 0.2527 on 2806 degrees of freedom\n",
       "Multiple R-squared:  0.7526,\tAdjusted R-squared:  0.7524 \n",
       "F-statistic:  2846 on 3 and 2806 DF,  p-value: < 2.2e-16\n"
      ]
     },
     "metadata": {},
     "output_type": "display_data"
    }
   ],
   "source": [
    "# linear model without transformations\n",
    "\n",
    "fit <- lm(f.min ~ num.dies + P.bat + P.pv.curt, data=data.frame(k))\n",
    "summary(fit) # show results\n"
   ]
  },
  {
   "cell_type": "code",
   "execution_count": 22,
   "metadata": {},
   "outputs": [
    {
     "data": {
      "text/html": [
       "<table>\n",
       "<tbody>\n",
       "\t<tr><td> 4.807873e+01</td></tr>\n",
       "\t<tr><td> 1.429072e-01</td></tr>\n",
       "\t<tr><td>-1.264670e-07</td></tr>\n",
       "\t<tr><td>-8.740712e-08</td></tr>\n",
       "</tbody>\n",
       "</table>\n"
      ],
      "text/latex": [
       "\\begin{tabular}{l}\n",
       "\t  4.807873e+01\\\\\n",
       "\t  1.429072e-01\\\\\n",
       "\t -1.264670e-07\\\\\n",
       "\t -8.740712e-08\\\\\n",
       "\\end{tabular}\n"
      ],
      "text/markdown": [
       "\n",
       "|  4.807873e+01 | \n",
       "|  1.429072e-01 | \n",
       "| -1.264670e-07 | \n",
       "| -8.740712e-08 | \n",
       "\n",
       "\n"
      ],
      "text/plain": [
       "     [,1]         \n",
       "[1,]  4.807873e+01\n",
       "[2,]  1.429072e-01\n",
       "[3,] -1.264670e-07\n",
       "[4,] -8.740712e-08"
      ]
     },
     "metadata": {},
     "output_type": "display_data"
    }
   ],
   "source": [
    "matrix(fit$coefficients)\n",
    "\n",
    "theta_i = matrix(fit$coefficients)[1];\n",
    "theta_d = matrix(fit$coefficients)[2];\n",
    "theta_b = matrix(fit$coefficients)[3];\n",
    "theta_p = matrix(fit$coefficients)[4];\n",
    "\n",
    "writeMat(theta_i = theta_i, theta_d = theta_d, theta_b = theta_b, theta_p = theta_p, con=\"../../Data/Generated Data/4 - Frequency/theta.mat\")\n"
   ]
  },
  {
   "cell_type": "code",
   "execution_count": null,
   "metadata": {
    "collapsed": true
   },
   "outputs": [],
   "source": []
  },
  {
   "cell_type": "code",
   "execution_count": null,
   "metadata": {
    "collapsed": true
   },
   "outputs": [],
   "source": []
  },
  {
   "cell_type": "code",
   "execution_count": null,
   "metadata": {
    "collapsed": true
   },
   "outputs": [],
   "source": []
  },
  {
   "cell_type": "code",
   "execution_count": null,
   "metadata": {
    "collapsed": true
   },
   "outputs": [],
   "source": []
  }
 ],
 "metadata": {
  "kernelspec": {
   "display_name": "R",
   "language": "R",
   "name": "ir"
  },
  "language_info": {
   "codemirror_mode": "r",
   "file_extension": ".r",
   "mimetype": "text/x-r-source",
   "name": "R",
   "pygments_lexer": "r",
   "version": "3.4.2"
  }
 },
 "nbformat": 4,
 "nbformat_minor": 2
}
