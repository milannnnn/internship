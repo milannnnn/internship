{
 "cells": [
  {
   "cell_type": "code",
   "execution_count": 20,
   "metadata": {},
   "outputs": [
    {
     "name": "stderr",
     "output_type": "stream",
     "text": [
      "Warning message in lapply(y, as.numeric):\n",
      "\"NAs introduced by coercion\""
     ]
    },
    {
     "data": {
      "text/html": [
       "<table>\n",
       "<thead><tr><th scope=col>num.dies</th><th scope=col>P.bat</th><th scope=col>P.pv.curt</th><th scope=col>f.min</th></tr></thead>\n",
       "<tbody>\n",
       "\t<tr><td> 9      </td><td>-4e+06  </td><td>10500000</td><td>49.34440</td></tr>\n",
       "\t<tr><td>10      </td><td>-4e+06  </td><td>10500000</td><td>49.46420</td></tr>\n",
       "\t<tr><td>11      </td><td>-4e+06  </td><td>10500000</td><td>49.56323</td></tr>\n",
       "\t<tr><td>12      </td><td>-4e+06  </td><td>10500000</td><td>49.64769</td></tr>\n",
       "\t<tr><td> 8      </td><td>-4e+06  </td><td>10000000</td><td>49.03020</td></tr>\n",
       "\t<tr><td> 9      </td><td>-4e+06  </td><td>10000000</td><td>49.18852</td></tr>\n",
       "\t<tr><td>10      </td><td>-4e+06  </td><td>10000000</td><td>49.31384</td></tr>\n",
       "\t<tr><td>11      </td><td>-4e+06  </td><td>10000000</td><td>49.41916</td></tr>\n",
       "\t<tr><td>12      </td><td>-4e+06  </td><td>10000000</td><td>49.50874</td></tr>\n",
       "\t<tr><td> 8      </td><td>-4e+06  </td><td> 9500000</td><td>48.90701</td></tr>\n",
       "\t<tr><td> 9      </td><td>-4e+06  </td><td> 9500000</td><td>49.07004</td></tr>\n",
       "\t<tr><td>10      </td><td>-4e+06  </td><td> 9500000</td><td>49.20448</td></tr>\n",
       "\t<tr><td>11      </td><td>-4e+06  </td><td> 9500000</td><td>49.31672</td></tr>\n",
       "</tbody>\n",
       "</table>\n"
      ],
      "text/latex": [
       "\\begin{tabular}{llll}\n",
       " num.dies & P.bat & P.pv.curt & f.min\\\\\n",
       "\\hline\n",
       "\t  9       & -4e+06   & 10500000 & 49.34440\\\\\n",
       "\t 10       & -4e+06   & 10500000 & 49.46420\\\\\n",
       "\t 11       & -4e+06   & 10500000 & 49.56323\\\\\n",
       "\t 12       & -4e+06   & 10500000 & 49.64769\\\\\n",
       "\t  8       & -4e+06   & 10000000 & 49.03020\\\\\n",
       "\t  9       & -4e+06   & 10000000 & 49.18852\\\\\n",
       "\t 10       & -4e+06   & 10000000 & 49.31384\\\\\n",
       "\t 11       & -4e+06   & 10000000 & 49.41916\\\\\n",
       "\t 12       & -4e+06   & 10000000 & 49.50874\\\\\n",
       "\t  8       & -4e+06   &  9500000 & 48.90701\\\\\n",
       "\t  9       & -4e+06   &  9500000 & 49.07004\\\\\n",
       "\t 10       & -4e+06   &  9500000 & 49.20448\\\\\n",
       "\t 11       & -4e+06   &  9500000 & 49.31672\\\\\n",
       "\\end{tabular}\n"
      ],
      "text/markdown": [
       "\n",
       "num.dies | P.bat | P.pv.curt | f.min | \n",
       "|---|---|---|---|---|---|---|---|---|---|---|---|---|\n",
       "|  9       | -4e+06   | 10500000 | 49.34440 | \n",
       "| 10       | -4e+06   | 10500000 | 49.46420 | \n",
       "| 11       | -4e+06   | 10500000 | 49.56323 | \n",
       "| 12       | -4e+06   | 10500000 | 49.64769 | \n",
       "|  8       | -4e+06   | 10000000 | 49.03020 | \n",
       "|  9       | -4e+06   | 10000000 | 49.18852 | \n",
       "| 10       | -4e+06   | 10000000 | 49.31384 | \n",
       "| 11       | -4e+06   | 10000000 | 49.41916 | \n",
       "| 12       | -4e+06   | 10000000 | 49.50874 | \n",
       "|  8       | -4e+06   |  9500000 | 48.90701 | \n",
       "|  9       | -4e+06   |  9500000 | 49.07004 | \n",
       "| 10       | -4e+06   |  9500000 | 49.20448 | \n",
       "| 11       | -4e+06   |  9500000 | 49.31672 | \n",
       "\n",
       "\n"
      ],
      "text/plain": [
       "      num.dies P.bat  P.pv.curt f.min   \n",
       " [1,]  9       -4e+06 10500000  49.34440\n",
       " [2,] 10       -4e+06 10500000  49.46420\n",
       " [3,] 11       -4e+06 10500000  49.56323\n",
       " [4,] 12       -4e+06 10500000  49.64769\n",
       " [5,]  8       -4e+06 10000000  49.03020\n",
       " [6,]  9       -4e+06 10000000  49.18852\n",
       " [7,] 10       -4e+06 10000000  49.31384\n",
       " [8,] 11       -4e+06 10000000  49.41916\n",
       " [9,] 12       -4e+06 10000000  49.50874\n",
       "[10,]  8       -4e+06  9500000  48.90701\n",
       "[11,]  9       -4e+06  9500000  49.07004\n",
       "[12,] 10       -4e+06  9500000  49.20448\n",
       "[13,] 11       -4e+06  9500000  49.31672"
      ]
     },
     "metadata": {},
     "output_type": "display_data"
    },
    {
     "data": {
      "image/png": "[encoded data removed]",
      "text/plain": [
       "plot without title"
      ]
     },
     "metadata": {},
     "output_type": "display_data"
    }
   ],
   "source": [
    "rm(list=ls())\n",
    "\n",
    "require(R.matlab)\n",
    "\n",
    "# Reading data \n",
    "data <- readMat(con = '../../Data/Generated Data/4 - Frequency/result_sim.mat')\n",
    "# t() - transpose matrix\n",
    "X <- t(data.frame(data[[1]],stringsAsFactors = F)) \n",
    "X <- as.data.frame(X,row.names = T)\n",
    "y <- (lapply(X,unlist))\n",
    "z <- lapply(y,as.numeric)\n",
    "j <- matrix(unlist(z), ncol = length(z), byrow = F)\n",
    "cols <- c(2,3,4,6)\n",
    "k <- j[,cols]\n",
    "colnames(k) <- names(X[,cols])\n",
    "k[57:69,]\n",
    "\n",
    "# comportament de la variable freq vs variables\n",
    "\n",
    "# windows()\n",
    "pairs(j[,cols], labels =  names(X[,cols]))\n",
    "pairs(j[,cols], labels =  colnames(k))"
   ]
  },
  {
   "cell_type": "code",
   "execution_count": 21,
   "metadata": {},
   "outputs": [
    {
     "data": {
      "text/plain": [
       "\n",
       "Call:\n",
       "lm(formula = f.min ~ num.dies + P.bat + P.pv.curt, data = data.frame(k))\n",
       "\n",
       "Residuals:\n",
       "     Min       1Q   Median       3Q      Max \n",
       "-0.86640 -0.18459  0.01268  0.19879  0.58451 \n",
       "\n",
       "Coefficients:\n",
       "              Estimate Std. Error  t value Pr(>|t|)    \n",
       "(Intercept)  4.764e+01  1.982e-02 2403.747  < 2e-16 ***\n",
       "num.dies     1.443e-01  2.236e-03   64.543  < 2e-16 ***\n",
       "P.bat       -1.296e-07  3.418e-09  -37.925  < 2e-16 ***\n",
       "P.pv.curt   -4.843e-09  1.450e-09   -3.341  0.00085 ***\n",
       "---\n",
       "Signif. codes:  0 '***' 0.001 '**' 0.01 '*' 0.05 '.' 0.1 ' ' 1\n",
       "\n",
       "Residual standard error: 0.2235 on 1940 degrees of freedom\n",
       "Multiple R-squared:  0.771,\tAdjusted R-squared:  0.7706 \n",
       "F-statistic:  2177 on 3 and 1940 DF,  p-value: < 2.2e-16\n"
      ]
     },
     "metadata": {},
     "output_type": "display_data"
    }
   ],
   "source": [
    "# linear model without transformations\n",
    "\n",
    "fit <- lm(f.min ~ num.dies + P.bat + P.pv.curt, data=data.frame(k))\n",
    "summary(fit) # show results\n"
   ]
  },
  {
   "cell_type": "code",
   "execution_count": 34,
   "metadata": {},
   "outputs": [
    {
     "data": {
      "text/html": [
       "<table>\n",
       "<tbody>\n",
       "\t<tr><td> 4.849818e+01</td></tr>\n",
       "\t<tr><td> 9.165092e-02</td></tr>\n",
       "\t<tr><td>-5.577571e-08</td></tr>\n",
       "\t<tr><td>-5.560319e-08</td></tr>\n",
       "</tbody>\n",
       "</table>\n"
      ],
      "text/latex": [
       "\\begin{tabular}{l}\n",
       "\t  4.849818e+01\\\\\n",
       "\t  9.165092e-02\\\\\n",
       "\t -5.577571e-08\\\\\n",
       "\t -5.560319e-08\\\\\n",
       "\\end{tabular}\n"
      ],
      "text/markdown": [
       "\n",
       "|  4.849818e+01 | \n",
       "|  9.165092e-02 | \n",
       "| -5.577571e-08 | \n",
       "| -5.560319e-08 | \n",
       "\n",
       "\n"
      ],
      "text/plain": [
       "     [,1]         \n",
       "[1,]  4.849818e+01\n",
       "[2,]  9.165092e-02\n",
       "[3,] -5.577571e-08\n",
       "[4,] -5.560319e-08"
      ]
     },
     "metadata": {},
     "output_type": "display_data"
    }
   ],
   "source": [
    "matrix(fit$coefficients)\n",
    "\n",
    "theta_i = matrix(fit$coefficients)[1];\n",
    "theta_d = matrix(fit$coefficients)[1];\n",
    "theta_b = matrix(fit$coefficients)[1];\n",
    "theta_p = matrix(fit$coefficients)[1];\n",
    "\n",
    "writeMat(cons_seg = cons_seg, con=\"../../Data/Generated Data/4 - Frequency/fit.mat\")\n"
   ]
  },
  {
   "cell_type": "code",
   "execution_count": null,
   "metadata": {
    "collapsed": true
   },
   "outputs": [],
   "source": [
    "# We observe that the battery has a linear behavior by sections, we consider that \n",
    "# it has effect within the model from a threshold\n",
    "\n",
    "# Pbat vs f.min \n",
    "n.diesels = 7;\n",
    "pv.curtail = 4e6;\n",
    "\n",
    "k1 <- k[(k[,\"num.dies\"]==n.diesels & k[,\"P.pv.curt\"]==pv.curtail),]\n",
    "\n",
    "# windows()\n",
    "plot(k1[,\"f.min\"],k1[,\"P.bat\"])\n",
    "\n",
    "# 1) Model for cases in which the battery has positive generations\n",
    "\n",
    "k_mod.pos =  k[(k[,\"P.bat\"]>=0),]\n",
    "k_mod.pos =  k_mod.pos[(k_mod.pos[,\"num.dies\"]>=4),]\n",
    "# windows()\n",
    "pairs(k_mod.pos, labels =  names(k_mod.pos))\n",
    "\n",
    "fit.bat.pos <- lm(f.min ~ num.dies + P.bat + P.pv.curt, data=data.frame(k_mod.pos))\n",
    "summary(fit.bat.pos) # show results\n",
    "\n",
    "# windows()\n",
    "plot(predict(fit.bat.pos), col = 3)\n",
    "text(predict(fit.bat.pos),labels=1:length(predict(fit.bat.pos)), cex= 0.7)\n",
    "par(new=T)\n",
    "plot(k_mod.pos[,\"f.min\"], col = 2, axes = F)\n",
    "text(k_mod.pos[,\"f.min\"],labels=1:length(predict(fit.bat.pos)), cex= 0.7)\n",
    "\n",
    "# 2) Model for cases in which the battery has negative or zero generations\n",
    "k_mod.neg =  k[(k[,\"P.bat\"]<0),]\n",
    "# windows()\n",
    "pairs(k_mod.neg, labels =  names(k_mod.neg))\n",
    "\n",
    "fit.bat.neg <- lm(f.min ~ num.dies + P.pv.curt, data=data.frame(k_mod.neg))\n",
    "summary(fit.bat.neg) # show results\n",
    "\n",
    "# windows()\n",
    "plot(predict(fit.bat.neg), col = 3)\n",
    "text(predict(fit.bat.neg),labels=1:length(predict(fit.bat.neg)), cex= 0.7)\n",
    "par(new=T)\n",
    "plot(k_mod.neg[,\"f.min\"], col = 2, axes = F)\n",
    "text(k_mod.neg[,\"f.min\"],labels=1:length(predict(fit.bat.neg)), cex= 0.7)\n",
    "\n"
   ]
  },
  {
   "cell_type": "code",
   "execution_count": null,
   "metadata": {
    "collapsed": true
   },
   "outputs": [],
   "source": []
  },
  {
   "cell_type": "code",
   "execution_count": null,
   "metadata": {
    "collapsed": true
   },
   "outputs": [],
   "source": []
  },
  {
   "cell_type": "code",
   "execution_count": null,
   "metadata": {
    "collapsed": true
   },
   "outputs": [],
   "source": []
  }
 ],
 "metadata": {
  "kernelspec": {
   "display_name": "R",
   "language": "R",
   "name": "ir"
  },
  "language_info": {
   "codemirror_mode": "r",
   "file_extension": ".r",
   "mimetype": "text/x-r-source",
   "name": "R",
   "pygments_lexer": "r",
   "version": "3.4.2"
  }
 },
 "nbformat": 4,
 "nbformat_minor": 2
}
