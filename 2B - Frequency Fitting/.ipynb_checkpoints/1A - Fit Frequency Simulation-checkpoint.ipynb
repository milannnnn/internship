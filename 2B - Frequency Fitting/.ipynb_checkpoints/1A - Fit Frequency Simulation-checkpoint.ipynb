{
 "cells": [
  {
   "cell_type": "code",
   "execution_count": 1,
   "metadata": {},
   "outputs": [
    {
     "name": "stderr",
     "output_type": "stream",
     "text": [
      "Loading required package: R.matlab\n",
      "R.matlab v3.6.1 (2016-10-19) successfully loaded. See ?R.matlab for help.\n",
      "\n",
      "Attaching package: 'R.matlab'\n",
      "\n",
      "The following objects are masked from 'package:base':\n",
      "\n",
      "    getOption, isOpen\n",
      "\n",
      "Warning message in lapply(y, as.numeric):\n",
      "\"NAs introduced by coercion\""
     ]
    },
    {
     "data": {
      "text/html": [
       "<table>\n",
       "<thead><tr><th scope=col>num.dies</th><th scope=col>P.bat</th><th scope=col>P.pv.curt</th><th scope=col>f.min</th></tr></thead>\n",
       "<tbody>\n",
       "\t<tr><td> 7      </td><td>-2200000</td><td>1.5e+07 </td><td>49.59008</td></tr>\n",
       "\t<tr><td> 8      </td><td>-2200000</td><td>1.5e+07 </td><td>49.61245</td></tr>\n",
       "\t<tr><td> 9      </td><td>-2200000</td><td>1.5e+07 </td><td>49.43035</td></tr>\n",
       "\t<tr><td>10      </td><td>-2200000</td><td>1.5e+07 </td><td>49.65075</td></tr>\n",
       "\t<tr><td>11      </td><td>-2200000</td><td>1.5e+07 </td><td>49.66711</td></tr>\n",
       "</tbody>\n",
       "</table>\n"
      ],
      "text/latex": [
       "\\begin{tabular}{llll}\n",
       " num.dies & P.bat & P.pv.curt & f.min\\\\\n",
       "\\hline\n",
       "\t  7       & -2200000 & 1.5e+07  & 49.59008\\\\\n",
       "\t  8       & -2200000 & 1.5e+07  & 49.61245\\\\\n",
       "\t  9       & -2200000 & 1.5e+07  & 49.43035\\\\\n",
       "\t 10       & -2200000 & 1.5e+07  & 49.65075\\\\\n",
       "\t 11       & -2200000 & 1.5e+07  & 49.66711\\\\\n",
       "\\end{tabular}\n"
      ],
      "text/markdown": [
       "\n",
       "num.dies | P.bat | P.pv.curt | f.min | \n",
       "|---|---|---|---|---|\n",
       "|  7       | -2200000 | 1.5e+07  | 49.59008 | \n",
       "|  8       | -2200000 | 1.5e+07  | 49.61245 | \n",
       "|  9       | -2200000 | 1.5e+07  | 49.43035 | \n",
       "| 10       | -2200000 | 1.5e+07  | 49.65075 | \n",
       "| 11       | -2200000 | 1.5e+07  | 49.66711 | \n",
       "\n",
       "\n"
      ],
      "text/plain": [
       "     num.dies P.bat    P.pv.curt f.min   \n",
       "[1,]  7       -2200000 1.5e+07   49.59008\n",
       "[2,]  8       -2200000 1.5e+07   49.61245\n",
       "[3,]  9       -2200000 1.5e+07   49.43035\n",
       "[4,] 10       -2200000 1.5e+07   49.65075\n",
       "[5,] 11       -2200000 1.5e+07   49.66711"
      ]
     },
     "metadata": {},
     "output_type": "display_data"
    },
    {
     "data": {
      "image/png": "[encoded data removed]",
      "text/plain": [
       "plot without title"
      ]
     },
     "metadata": {},
     "output_type": "display_data"
    }
   ],
   "source": [
    "rm(list=ls())\n",
    "\n",
    "require(R.matlab)\n",
    "\n",
    "# Reading data \n",
    "data <- readMat(con = '../../Data/Generated Data/4 - Frequency/result_sim.mat')\n",
    "# t() - transpose matrix\n",
    "X <- t(data.frame(data[[1]],stringsAsFactors = F)) \n",
    "X <- as.data.frame(X,row.names = T)\n",
    "y <- (lapply(X,unlist))\n",
    "z <- lapply(y,as.numeric)\n",
    "j <- matrix(unlist(z), ncol = length(z), byrow = F)\n",
    "cols <- c(2,3,4,6)\n",
    "k <- j[,cols]\n",
    "colnames(k) <- names(X[,cols])\n",
    "k[1:5,]\n",
    "\n",
    "# comportament de la variable freq vs variables\n",
    "\n",
    "# windows()\n",
    "pairs(j[,cols], labels =  names(X[,cols]))\n",
    "pairs(j[,cols], labels =  colnames(k))"
   ]
  },
  {
   "cell_type": "code",
   "execution_count": 2,
   "metadata": {},
   "outputs": [
    {
     "data": {
      "text/plain": [
       "\n",
       "Call:\n",
       "lm(formula = f.min ~ num.dies + P.bat + P.pv.curt, data = data.frame(k))\n",
       "\n",
       "Residuals:\n",
       "     Min       1Q   Median       3Q      Max \n",
       "-0.45707 -0.08379  0.01024  0.08918  0.33347 \n",
       "\n",
       "Coefficients:\n",
       "              Estimate Std. Error t value Pr(>|t|)    \n",
       "(Intercept)  4.927e+01  8.953e-03 5502.71   <2e-16 ***\n",
       "num.dies     5.181e-02  1.003e-03   51.67   <2e-16 ***\n",
       "P.bat       -1.207e-07  1.503e-09  -80.31   <2e-16 ***\n",
       "P.pv.curt   -3.149e-08  5.324e-10  -59.15   <2e-16 ***\n",
       "---\n",
       "Signif. codes:  0 '***' 0.001 '**' 0.01 '*' 0.05 '.' 0.1 ' ' 1\n",
       "\n",
       "Residual standard error: 0.1284 on 3617 degrees of freedom\n",
       "Multiple R-squared:  0.7584,\tAdjusted R-squared:  0.7582 \n",
       "F-statistic:  3784 on 3 and 3617 DF,  p-value: < 2.2e-16\n"
      ]
     },
     "metadata": {},
     "output_type": "display_data"
    }
   ],
   "source": [
    "# linear model without transformations\n",
    "\n",
    "fit <- lm(f.min ~ num.dies + P.bat + P.pv.curt, data=data.frame(k))\n",
    "summary(fit) # show results\n"
   ]
  },
  {
   "cell_type": "code",
   "execution_count": 3,
   "metadata": {},
   "outputs": [
    {
     "data": {
      "text/html": [
       "<table>\n",
       "<tbody>\n",
       "\t<tr><td> 4.926810e+01</td></tr>\n",
       "\t<tr><td> 5.180999e-02</td></tr>\n",
       "\t<tr><td>-1.207181e-07</td></tr>\n",
       "\t<tr><td>-3.149198e-08</td></tr>\n",
       "</tbody>\n",
       "</table>\n"
      ],
      "text/latex": [
       "\\begin{tabular}{l}\n",
       "\t  4.926810e+01\\\\\n",
       "\t  5.180999e-02\\\\\n",
       "\t -1.207181e-07\\\\\n",
       "\t -3.149198e-08\\\\\n",
       "\\end{tabular}\n"
      ],
      "text/markdown": [
       "\n",
       "|  4.926810e+01 | \n",
       "|  5.180999e-02 | \n",
       "| -1.207181e-07 | \n",
       "| -3.149198e-08 | \n",
       "\n",
       "\n"
      ],
      "text/plain": [
       "     [,1]         \n",
       "[1,]  4.926810e+01\n",
       "[2,]  5.180999e-02\n",
       "[3,] -1.207181e-07\n",
       "[4,] -3.149198e-08"
      ]
     },
     "metadata": {},
     "output_type": "display_data"
    }
   ],
   "source": [
    "matrix(fit$coefficients)\n",
    "\n",
    "theta_i = matrix(fit$coefficients)[1];\n",
    "theta_d = matrix(fit$coefficients)[2];\n",
    "theta_b = matrix(fit$coefficients)[3];\n",
    "theta_p = matrix(fit$coefficients)[4];\n",
    "\n",
    "writeMat(theta_i = theta_i, theta_d = theta_d, theta_b = theta_b, theta_p = theta_p, con=\"../../Data/Generated Data/4 - Frequency/theta.mat\")\n"
   ]
  },
  {
   "cell_type": "code",
   "execution_count": null,
   "metadata": {
    "collapsed": true
   },
   "outputs": [],
   "source": []
  },
  {
   "cell_type": "code",
   "execution_count": null,
   "metadata": {
    "collapsed": true
   },
   "outputs": [],
   "source": []
  },
  {
   "cell_type": "code",
   "execution_count": 4,
   "metadata": {},
   "outputs": [
    {
     "data": {
      "text/html": [
       "3621"
      ],
      "text/latex": [
       "3621"
      ],
      "text/markdown": [
       "3621"
      ],
      "text/plain": [
       "[1] 3621"
      ]
     },
     "metadata": {},
     "output_type": "display_data"
    }
   ],
   "source": [
    "# length(k[,1])"
   ]
  },
  {
   "cell_type": "code",
   "execution_count": null,
   "metadata": {
    "collapsed": true
   },
   "outputs": [],
   "source": []
  }
 ],
 "metadata": {
  "kernelspec": {
   "display_name": "R",
   "language": "R",
   "name": "ir"
  },
  "language_info": {
   "codemirror_mode": "r",
   "file_extension": ".r",
   "mimetype": "text/x-r-source",
   "name": "R",
   "pygments_lexer": "r",
   "version": "3.4.2"
  }
 },
 "nbformat": 4,
 "nbformat_minor": 2
}
