{
 "cells": [
  {
   "cell_type": "markdown",
   "metadata": {},
   "source": [
    "## Optimization code for PV microgrid:"
   ]
  },
  {
   "cell_type": "code",
   "execution_count": 1,
   "metadata": {
    "collapsed": true
   },
   "outputs": [],
   "source": [
    "# # using JuMP, AmplNLWriter, MATLAB\n",
    "# # m = Model(solver=AmplNLSolver(\"C:\\Program Files\\SCIPOptSuite 4.0.1\\bin\\scip.exe\"))\n",
    "# using JuMP, SCIP, MATLAB\n",
    "# m = Model(solver=SCIPSolver())\n"
   ]
  },
  {
   "cell_type": "code",
   "execution_count": 2,
   "metadata": {},
   "outputs": [
    {
     "data": {
      "text/latex": [
       "$$ \\begin{alignat*}{1}\\min\\quad & 0\\\\\n",
       "\\text{Subject to} \\quad\\end{alignat*}\n",
       " $$"
      ],
      "text/plain": [
       "Feasibility problem with:\n",
       " * 0 linear constraints\n",
       " * 0 variables\n",
       "Solver is Gurobi"
      ]
     },
     "execution_count": 2,
     "metadata": {},
     "output_type": "execute_result"
    }
   ],
   "source": [
    "### Model initialization:\n",
    "\n",
    "using JuMP, Gurobi, MATLAB\n",
    "# m = Model(solver=GurobiSolver(Presolve=2))\n",
    "# m = Model(solver=GurobiSolver(Presolve=2,TimeLimit=300))\n",
    "m = Model(solver=GurobiSolver(Presolve=1,TimeLimit=600))\n",
    "\n",
    "# using JuMP, CPLEX, MATLAB\n",
    "# # m = Model(solver=CplexSolver(CPX_PARAM_TILIM = 900))\n",
    "# m = Model(solver=CplexSolver(CPX_PARAM_REPEATPRESOLVE = 3, CPX_PARAM_TILIM = 900))\n",
    "\n"
   ]
  },
  {
   "cell_type": "code",
   "execution_count": 3,
   "metadata": {},
   "outputs": [
    {
     "data": {
      "text/plain": [
       "19:144"
      ]
     },
     "execution_count": 3,
     "metadata": {},
     "output_type": "execute_result"
    }
   ],
   "source": [
    "vars = read_matfile(\"../../Data/Generated Data/5 - Optimization/scenarios/scen_test.mat\")\n",
    "\n",
    "# Parameters:\n",
    "\n",
    "interval  = Int64(jvalue(vars[\"interval\"]))  # Current Interval (in day, for which we are optimizing)\n",
    "\n",
    "N_EMS   = Int64(jvalue(vars[\"N_EMS\"]))   # num of remaining EMS   intervals (opt. executions)\n",
    "N_intra = Int64(jvalue(vars[\"N_intra\"])) # num of remaining Intra intervals (opt. resolution)\n",
    "N_dies  = Int64(jvalue(vars[\"N_dies\"]))  # num of diesel generators\n",
    "N_scen  = Int64(jvalue(vars[\"N_scen\"]))  # num of different scenations\n",
    "N_firm  = Int64(jvalue(vars[\"N_firm\"]))  # num of FIRM Margin Constraint Intervals\n",
    "\n",
    "# Upper and Lower bounds:\n",
    "P_bat_min = jvalue(vars[\"P_bat_min\"])\n",
    "P_bat_max = jvalue(vars[\"P_bat_max\"])\n",
    "eta_bat  = jvalue(vars[\"eta_bat\"])\n",
    "SOC_min  = jvalue(vars[\"SOC_min\"])\n",
    "SOC_max  = jvalue(vars[\"SOC_max\"])\n",
    "SOC_init = jvalue(vars[\"SOC_init\"])\n",
    "Cap_bat  = jvalue(vars[\"Cap_bat\"])\n",
    "P_dies_max = jvalue(vars[\"P_dies_max\"])\n",
    "P_dies_min = jvalue(vars[\"P_dies_min\"])\n",
    "P_PV_inst = jvalue(vars[\"P_PV_inst\"])\n",
    "\n",
    "delta_t = jvalue(vars[\"delta_t\"]) # 1 min\n",
    "\n",
    "# f_min = -100000\n",
    "f_min = jvalue(vars[\"f_min\"])\n",
    "theta_i = jvalue(vars[\"theta_i\"])\n",
    "theta_d = jvalue(vars[\"theta_d\"])\n",
    "theta_b = jvalue(vars[\"theta_b\"])\n",
    "theta_p = jvalue(vars[\"theta_p\"])\n",
    "\n",
    "marge_dies = jvalue(vars[\"marge_dies\"])\n",
    "\n",
    "L_PV = jvalue(vars[\"L_PV\"]) # generated PV scenarios\n",
    "L_C  = jvalue(vars[\"L_C\"]) # generated load scenarios\n",
    "\n",
    "# Defining iterators:\n",
    "ts  = 1:N_EMS\n",
    "ps  = 1:N_intra\n",
    "ds  = 1:N_dies\n",
    "ss  = 1:N_scen\n",
    "m1s = 1:N_firm\n",
    "m2s = (N_firm+1):N_EMS\n"
   ]
  },
  {
   "cell_type": "code",
   "execution_count": 4,
   "metadata": {
    "collapsed": true
   },
   "outputs": [],
   "source": [
    "## Variable definitions:\n",
    "\n",
    "@variables m begin\n",
    "    \n",
    "    # Battery variables:\n",
    "    P_bat_min <= P_bat_set[t=ts,p=ps]  <= P_bat_max # Battery setpoint for time t,p (decision var.)\n",
    "    0 <= P_bat_cha[t=ts,p=ps] <= P_bat_max\n",
    "    0 <= P_bat_dis[t=ts,p=ps] <= P_bat_max\n",
    "    X_bat[t=ts,p=ps], Bin                           # Operating mode indicator (decision var.)\n",
    "                                                    # -> P_bat_set = 2*(X_bat-0.5)*P_bat_abs\n",
    "    SOC_min <= SOC_bat[t=ts,p=ps] <= SOC_max        # Obtained SOC for time t,p (solution var.)\n",
    "    \n",
    "    # PV Plant:\n",
    "    0 <= P_PV_set[t=ts,p=ps]  <= P_PV_inst          # PV setpoint variable (decision var.)\n",
    "    0 <= P_PV[t=ts,p=ps,s=ss] <= L_PV[t,p,s]        # Actual PV generation (solution var.)\n",
    "    \n",
    "    # Diesel Generators:\n",
    "    ON_dies[t=ts,d=ds], Bin                         # Dies. connectin setpoint (decision var.)\n",
    "    0 <= P_dies[t=ts,p=ps,s=ss,d=ds] <= P_dies_max  # Actual dies. generation  (solution var.)\n",
    "    # P_dies_min <= P_dies[t=ts,p=ps,s=ss,d=ds] <= P_dies_max # Actual dies. generation  (solution var.)\n",
    "    \n",
    "end\n",
    "\n",
    "# print(m)\n"
   ]
  },
  {
   "cell_type": "code",
   "execution_count": 5,
   "metadata": {
    "collapsed": true,
    "scrolled": true
   },
   "outputs": [],
   "source": [
    "@constraints m begin\n",
    "    \n",
    "    # Constraints:\n",
    "    #\n",
    "    # A1 - Diesel power limitation\n",
    "    # A2 - Diesel power limitation\n",
    "    # B1 - Power balance equation\n",
    "    # C1 - PV setpoint limitation\n",
    "    # D1 - Bat. setpoint equation\n",
    "    # D2 - Charging    mode const.\n",
    "    # D3 - Discharging mode const.\n",
    "    # E1 - FIRM    Diesel reserve margin (separated over scenarios)\n",
    "    # E2 - RELAXED Diesel reserve margin (mean over scenarios)\n",
    "    # F1 - \n",
    "    # F2 - SOC limitations\n",
    "    # F3 - \n",
    "    # G1 - Min frequency limitation\n",
    "    \n",
    "    A1[t=ts,p=ps,s=ss,d=ds], P_dies[t,p,s,d] <= ON_dies[t,d]*(P_dies_max)\n",
    "    A2[t=ts,p=ps,s=ss,d=ds], P_dies[t,p,s,d] >= ON_dies[t,d]*(P_dies_min)\n",
    "    \n",
    "    B1[t=ts,p=ps,s=ss], (P_PV[t,p,s] + sum(P_dies[t,p,s,d] for d=ds) + P_bat_set[t,p] - L_C[t,p,s]) == 0\n",
    "    \n",
    "    C1[t=ts,p=ps,s=ss],  P_PV[t,p,s] <= P_PV_set[t,p]\n",
    "    \n",
    "    D1[t=ts,p=ps], P_bat_set[t,p] == P_bat_cha[t,p] - P_bat_dis[t,p]\n",
    "    D2[t=ts,p=ps], P_bat_cha[t,p] <= P_bat_max *    X_bat[t,p]\n",
    "    D3[t=ts,p=ps], P_bat_dis[t,p] <= P_bat_max * (1-X_bat[t,p])\n",
    "    \n",
    "    # E1[t=ts,p=ps,s=ss],  sum(P_dies[t,p,s,d] for d=ds) <= sum((ON_dies[t,d]*P_dies_max) for d=ds) - marge_dies\n",
    "    E1[t=m1s,p=ps,s=ss],  sum(P_dies[t,p,s,d] for d=ds) <= sum((ON_dies[t,d]*P_dies_max) for d=ds) - marge_dies\n",
    "    E2[t=m2s,p=ps],  sum(P_dies[t,p,s,d] for d=ds,s=ss)/N_scen <= sum((ON_dies[t,d]*P_dies_max) for d=ds) - marge_dies\n",
    "    \n",
    "    F1[t=1,p=1],               SOC_bat[t,p] == SOC_init             - P_bat_set[t,p]*delta_t/Cap_bat\n",
    "    F2[t=2:N_EMS,p=1],         SOC_bat[t,p] == SOC_bat[t-1,N_intra] - P_bat_set[t,p]*delta_t/Cap_bat\n",
    "    F3[t=1:N_EMS,p=2:N_intra], SOC_bat[t,p] == SOC_bat[t,p-1]       - P_bat_set[t,p]*delta_t/Cap_bat\n",
    "\n",
    "    G1[t=ts,p=ps], f_min <= theta_i + theta_d*sum(ON_dies[t,d] for d=ds) + theta_b*P_bat_set[t,p] + theta_p*P_PV_set[t,p]\n",
    "\n",
    "end\n",
    "\n",
    "# print(m)"
   ]
  },
  {
   "cell_type": "code",
   "execution_count": 6,
   "metadata": {
    "collapsed": true
   },
   "outputs": [],
   "source": [
    "# @objective(m, Max, sum(P_PV[t,p,s] for t=ts,p=ps,s=ss) - sum(N_scen*(1-eta_bat)*(P_bat_cha[t,p]+P_bat_dis[t,p]) for t=ts,p=ps) );\n",
    "\n",
    "# Adding sum of ON_dies - to minimize their utilization:\n",
    "# @objective(m, Max, sum((sum(P_PV[t,p,s] for s=ss)-N_scen*(1-eta_bat)*(P_bat_cha[t,p]+P_bat_dis[t,p])) for t=ts,p=ps) - sum(ON_dies[t,d] for t=ts,d=ds));\n",
    "\n",
    "@objective(m, Max, sum((sum(P_PV[t,p,s] for s=ss)-N_scen*(1-eta_bat)*(P_bat_cha[t,p]+P_bat_dis[t,p])) for t=ts,p=ps));\n"
   ]
  },
  {
   "cell_type": "code",
   "execution_count": 7,
   "metadata": {},
   "outputs": [
    {
     "name": "stdout",
     "output_type": "stream",
     "text": [
      "Academic license - for non-commercial use only\r\n",
      "Optimize a model with 393120 rows, 206208 columns and 1215359 nonzeros\r\n",
      "Variable types: 201600 continuous, 4608 integer (4608 binary)\r\n",
      "Coefficient statistics:\r\n",
      "  Matrix range     [5e-09, 2e+03]\r\n",
      "  Objective range  [3e-01, 1e+00]\r\n",
      "  Bounds range     [1e+00, 2e+04]\r\n",
      "  RHS range        [4e-01, 1e+04]\r\n",
      "Presolve removed 7282 rows and 8720 columns\r\n",
      "Presolve time: 2.87s\r\n",
      "Presolved: 385838 rows, 197488 columns, 1192083 nonzeros\r\n",
      "Variable types: 192880 continuous, 4608 integer (4608 binary)\r\n",
      "\r\n",
      "Root simplex log...\r\n",
      "\r\n",
      "Iteration    Objective       Primal Inf.    Dual Inf.      Time\r\n",
      "       0    4.3333075e+07   2.024536e+07   0.000000e+00     16s\r\n",
      "   56265    3.7628531e+07   1.437541e+06   0.000000e+00     20s\r\n",
      "   76545    3.7594135e+07   1.272188e+06   0.000000e+00     25s\r\n",
      "   92262    3.7574662e+07   1.148091e+06   0.000000e+00     30s\r\n",
      "  103460    3.7558490e+07   1.050829e+06   0.000000e+00     35s\r\n",
      "  120607    3.7527075e+07   9.383640e+05   0.000000e+00     40s\r\n",
      "  136200    3.7496652e+07   8.330836e+05   0.000000e+00     45s\r\n",
      "  154448    3.7455947e+07   7.353697e+05   0.000000e+00     50s\r\n",
      "  174143    3.7401683e+07   5.994122e+05   0.000000e+00     55s\r\n",
      "  194179    3.7332280e+07   5.932293e+05   0.000000e+00     60s\r\n",
      "  212867    3.7266417e+07   4.861982e+05   0.000000e+00     66s\r\n",
      "  234429    3.7168058e+07   3.494212e+05   0.000000e+00     71s\r\n",
      "  253000    3.7064900e+07   3.143322e+05   0.000000e+00     75s\r\n",
      "  271676    3.6936095e+07   2.108545e+05   0.000000e+00     80s\r\n",
      "  290478    3.6787522e+07   2.512061e+05   0.000000e+00     85s\r\n",
      "  308293    3.6658068e+07   1.057581e+05   0.000000e+00     90s\r\n",
      "  329288    3.2433924e+07   2.696646e+06   0.000000e+00     96s\r\n",
      "  343031    3.2006879e+07   2.990459e+05   0.000000e+00    100s\r\n",
      "  352000    3.1904089e+07   1.522045e+05   0.000000e+00    106s\r\n",
      "  355998    3.1904089e+07   1.196829e+05   0.000000e+00    110s\r\n",
      "  359756    3.1904089e+07   2.602502e+04   0.000000e+00    116s\r\n",
      "  361513    3.1904092e+07   0.000000e+00   0.000000e+00    119s\r\n",
      "\r\n",
      "Root relaxation: objective 3.190409e+07, 361513 iterations, 103.93 seconds\r\n",
      "Total elapsed time = 124.64s\r\n",
      "Total elapsed time = 126.29s\r\n",
      "\r\n",
      "    Nodes    |    Current Node    |     Objective Bounds      |     Work\r\n",
      " Expl Unexpl |  Obj  Depth IntInf | Incumbent    BestBd   Gap | It/Node Time\r\n",
      "\r\n",
      "     0     0 3.1904e+07    0   46          - 3.1904e+07      -     -  127s\r\n",
      "H    0     0                    3.162588e+07 3.1904e+07  0.88%     -  130s\r\n",
      "H    0     0                    3.163383e+07 3.1904e+07  0.85%     -  132s\r\n",
      "     0     0 3.1870e+07    0   53 3.1634e+07 3.1870e+07  0.75%     -  137s\r\n",
      "     0     0 3.1641e+07    0   14 3.1634e+07 3.1641e+07  0.02%     -  153s\r\n",
      "     0     0 3.1640e+07    0   16 3.1634e+07 3.1640e+07  0.02%     -  155s\r\n",
      "     0     0 3.1640e+07    0   16 3.1634e+07 3.1640e+07  0.02%     -  156s\r\n",
      "     0     0 3.1640e+07    0   16 3.1634e+07 3.1640e+07  0.02%     -  157s\r\n",
      "     0     0 3.1640e+07    0   24 3.1634e+07 3.1640e+07  0.02%     -  159s\r\n",
      "     0     0 3.1639e+07    0   26 3.1634e+07 3.1639e+07  0.02%     -  161s\r\n",
      "     0     0 3.1639e+07    0   28 3.1634e+07 3.1639e+07  0.02%     -  162s\r\n",
      "     0     0 3.1639e+07    0   20 3.1634e+07 3.1639e+07  0.02%     -  163s\r\n",
      "     0     0 3.1639e+07    0   20 3.1634e+07 3.1639e+07  0.02%     -  164s\r\n",
      "     0     0 3.1639e+07    0   21 3.1634e+07 3.1639e+07  0.02%     -  166s\r\n",
      "     0     0 3.1639e+07    0   20 3.1634e+07 3.1639e+07  0.02%     -  169s\r\n",
      "     0     0 3.1639e+07    0   19 3.1634e+07 3.1639e+07  0.02%     -  170s\r\n",
      "     0     0 3.1639e+07    0   22 3.1634e+07 3.1639e+07  0.02%     -  172s\r\n",
      "     0     0 3.1639e+07    0   23 3.1634e+07 3.1639e+07  0.02%     -  175s\r\n",
      "     0     0 3.1639e+07    0   23 3.1634e+07 3.1639e+07  0.02%     -  176s\r\n",
      "     0     0 3.1639e+07    0   23 3.1634e+07 3.1639e+07  0.02%     -  176s\r\n",
      "     0     0 3.1639e+07    0   18 3.1634e+07 3.1639e+07  0.01%     -  181s\r\n",
      "H    0     0                    3.163545e+07 3.1639e+07  0.01%     -  183s\r\n",
      "\r\n",
      "Cutting planes:\r\n",
      "  Gomory: 1\r\n",
      "  Cover: 3\r\n",
      "  MIR: 178\r\n",
      "  StrongCG: 30\r\n",
      "  Flow cover: 204\r\n",
      "\r\n",
      "Explored 1 nodes (390120 simplex iterations) in 183.71 seconds\r\n",
      "Thread count was 4 (of 4 available processors)\r\n",
      "\r\n",
      "Solution count 3: 3.16355e+07 3.16338e+07 3.16259e+07 \r\n",
      "\r\n",
      "Optimal solution found (tolerance 1.00e-04)\r\n",
      "Best objective 3.163545333910e+07, best bound 3.163854419507e+07, gap 0.0098%\r\n"
     ]
    },
    {
     "data": {
      "text/plain": [
       ":Optimal"
      ]
     },
     "execution_count": 7,
     "metadata": {},
     "output_type": "execute_result"
    }
   ],
   "source": [
    "status = solve(m)"
   ]
  },
  {
   "cell_type": "code",
   "execution_count": 8,
   "metadata": {
    "collapsed": true
   },
   "outputs": [],
   "source": [
    "write_matfile(\"../../Data/Generated Data/5 - Optimization/solutions/sol_\"*dec(interval)*\".mat\"; \n",
    "    status    = string(status),\n",
    "    interval  = interval,\n",
    "    P_bat_set = getvalue(P_bat_set[:,:]), \n",
    "    SOC_bat   = getvalue(SOC_bat[:,:]),\n",
    "    P_PV_set  = getvalue(P_PV_set[:,:]),\n",
    "    P_PV      = getvalue(P_PV[:,:,:]),\n",
    "    ON_dies   = getvalue(ON_dies[:,:]),\n",
    "    P_dies    = getvalue(P_dies[:,:,:,:]))"
   ]
  },
  {
   "cell_type": "code",
   "execution_count": 9,
   "metadata": {},
   "outputs": [
    {
     "data": {
      "text/plain": [
       "\"Optimal\""
      ]
     },
     "execution_count": 9,
     "metadata": {},
     "output_type": "execute_result"
    }
   ],
   "source": [
    "# string(status)==\"Optimal\"     -> Optimal solution found\n",
    "# string(status)==\"UserLimit\"   -> Reached Time Limit\n",
    "# string(status)==\"Infeasible\"  -> Infeasible (no sol found)\n",
    "string(status)\n",
    "# a = \"test_\"*dec(interval)*\".mat\""
   ]
  },
  {
   "cell_type": "code",
   "execution_count": null,
   "metadata": {
    "collapsed": true
   },
   "outputs": [],
   "source": []
  }
 ],
 "metadata": {
  "kernelspec": {
   "display_name": "Julia 0.6.0",
   "language": "julia",
   "name": "julia-0.6"
  },
  "language_info": {
   "file_extension": ".jl",
   "mimetype": "application/julia",
   "name": "julia",
   "version": "0.6.0"
  }
 },
 "nbformat": 4,
 "nbformat_minor": 2
}
