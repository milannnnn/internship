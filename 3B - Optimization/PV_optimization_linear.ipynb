{
 "cells": [
  {
   "cell_type": "markdown",
   "metadata": {},
   "source": [
    "## Optimization code for PV microgrid:"
   ]
  },
  {
   "cell_type": "code",
   "execution_count": 1,
   "metadata": {},
   "outputs": [],
   "source": [
    "# # using JuMP, AmplNLWriter, MATLAB\n",
    "# # m = Model(solver=AmplNLSolver(\"C:\\Program Files\\SCIPOptSuite 4.0.1\\bin\\scip.exe\"))\n",
    "# using JuMP, SCIP, MATLAB\n",
    "# m = Model(solver=SCIPSolver())\n"
   ]
  },
  {
   "cell_type": "code",
   "execution_count": 2,
   "metadata": {},
   "outputs": [
    {
     "data": {
      "text/plain": [
       "26"
      ]
     },
     "execution_count": 2,
     "metadata": {},
     "output_type": "execute_result"
    }
   ],
   "source": [
    "### Model initialization:\n",
    "\n",
    "using JuMP, Gurobi, MATLAB\n",
    "# m = Model(solver=GurobiSolver(Presolve=2))\n",
    "# m = Model(solver=GurobiSolver(Presolve=2,TimeLimit=300))\n",
    "m = Model(solver=GurobiSolver(Presolve=1,TimeLimit=600))\n",
    "\n",
    "# using JuMP, CPLEX, MATLAB\n",
    "# # m = Model(solver=CplexSolver(CPX_PARAM_TILIM = 900))\n",
    "# m = Model(solver=CplexSolver(CPX_PARAM_TILIM = 600))\n",
    "\n",
    "my_int = 26"
   ]
  },
  {
   "cell_type": "code",
   "execution_count": 3,
   "metadata": {},
   "outputs": [
    {
     "data": {
      "text/plain": [
       "19:144"
      ]
     },
     "execution_count": 3,
     "metadata": {},
     "output_type": "execute_result"
    }
   ],
   "source": [
    "vars = read_matfile(\"../../Data/Generated Data/5 - Optimization/scenarios/scen_\"*dec(my_int)*\".mat\")\n",
    "\n",
    "# Parameters:\n",
    "\n",
    "interval  = Int64(jvalue(vars[\"interval\"]))  # Current Interval (in day, for which we are optimizing)\n",
    "\n",
    "N_EMS   = Int64(jvalue(vars[\"N_EMS\"]))   # num of remaining EMS   intervals (opt. executions)\n",
    "N_intra = Int64(jvalue(vars[\"N_intra\"])) # num of remaining Intra intervals (opt. resolution)\n",
    "N_dies  = Int64(jvalue(vars[\"N_dies\"]))  # num of diesel generators\n",
    "N_scen  = Int64(jvalue(vars[\"N_scen\"]))  # num of different scenations\n",
    "N_firm  = Int64(jvalue(vars[\"N_firm\"]))  # num of FIRM Margin Constraint Intervals\n",
    "\n",
    "# Upper and Lower bounds:\n",
    "P_bat_min = jvalue(vars[\"P_bat_min\"])\n",
    "P_bat_max = jvalue(vars[\"P_bat_max\"])\n",
    "eta_bat  = jvalue(vars[\"eta_bat\"])\n",
    "SOC_min  = jvalue(vars[\"SOC_min\"])\n",
    "SOC_max  = jvalue(vars[\"SOC_max\"])\n",
    "SOC_init = jvalue(vars[\"SOC_init\"])\n",
    "Cap_bat  = jvalue(vars[\"Cap_bat\"])\n",
    "P_dies_max = jvalue(vars[\"P_dies_max\"])\n",
    "P_dies_min = jvalue(vars[\"P_dies_min\"])\n",
    "P_PV_inst = jvalue(vars[\"P_PV_inst\"])\n",
    "\n",
    "delta_t = jvalue(vars[\"delta_t\"]) # 1 min\n",
    "\n",
    "# f_min = -100000\n",
    "f_min = jvalue(vars[\"f_min\"])\n",
    "theta_i = jvalue(vars[\"theta_i\"])\n",
    "theta_d = jvalue(vars[\"theta_d\"])\n",
    "theta_b = jvalue(vars[\"theta_b\"])\n",
    "theta_p = jvalue(vars[\"theta_p\"])\n",
    "\n",
    "marge_dies = jvalue(vars[\"marge_dies\"])\n",
    "\n",
    "L_PV = jvalue(vars[\"L_PV\"]) # generated PV scenarios\n",
    "L_C  = jvalue(vars[\"L_C\"]) # generated load scenarios\n",
    "\n",
    "# Defining iterators:\n",
    "ts  = 1:N_EMS\n",
    "ps  = 1:N_intra\n",
    "ds  = 1:N_dies\n",
    "ss  = 1:N_scen\n",
    "m1s = 1:N_firm\n",
    "m2s = (N_firm+1):N_EMS\n"
   ]
  },
  {
   "cell_type": "code",
   "execution_count": 4,
   "metadata": {
    "collapsed": true
   },
   "outputs": [],
   "source": [
    "## Variable definitions:\n",
    "\n",
    "@variables m begin\n",
    "    \n",
    "    # Battery variables:\n",
    "    P_bat_min <= P_bat_set[t=ts,p=ps]  <= P_bat_max # Battery setpoint for time t,p (decision var.)\n",
    "    0 <= P_bat_cha[t=ts,p=ps] <= P_bat_max\n",
    "    0 <= P_bat_dis[t=ts,p=ps] <= P_bat_max\n",
    "    X_bat[t=ts,p=ps], Bin                           # Operating mode indicator (decision var.)\n",
    "                                                    # -> P_bat_set = 2*(X_bat-0.5)*P_bat_abs\n",
    "    SOC_min <= SOC_bat[t=ts,p=ps] <= SOC_max        # Obtained SOC for time t,p (solution var.)\n",
    "    \n",
    "    # PV Plant:\n",
    "    0 <= P_PV_set[t=ts,p=ps]  <= P_PV_inst          # PV setpoint variable (decision var.)\n",
    "    0 <= P_PV[t=ts,p=ps,s=ss] <= L_PV[t,p,s]        # Actual PV generation (solution var.)\n",
    "    \n",
    "    # Diesel Generators:\n",
    "    ON_dies[t=ts,d=ds], Bin                         # Dies. connectin setpoint (decision var.)\n",
    "    0 <= P_dies[t=ts,p=ps,s=ss,d=ds] <= P_dies_max  # Actual dies. generation  (solution var.)\n",
    "    # P_dies_min <= P_dies[t=ts,p=ps,s=ss,d=ds] <= P_dies_max # Actual dies. generation  (solution var.)\n",
    "    \n",
    "end\n",
    "\n",
    "# print(m)\n"
   ]
  },
  {
   "cell_type": "code",
   "execution_count": 5,
   "metadata": {},
   "outputs": [],
   "source": [
    "### Initialize variables from previous optimization:\n",
    "\n",
    "# if my_int>1\n",
    "    \n",
    "#     vars = read_matfile(\"../../Data/Generated Data/5 - Optimization/solutions/sol_\"*dec(my_int-1)*\".mat\")\n",
    "\n",
    "#     P_bat_set_pre = jvalue(vars[\"P_bat_set\"])[2:N_EMS,ps]\n",
    "#     SOC_bat_pre   = jvalue(vars[\"SOC_bat\"])[2:N_EMS,ps]\n",
    "#     P_PV_set_pre  = jvalue(vars[\"P_PV_set\"])[2:N_EMS,ps]\n",
    "#     P_PV_pre      = jvalue(vars[\"P_PV\"])[2:N_EMS,ps,ss]\n",
    "#     ON_dies_pre   = jvalue(vars[\"ON_dies\"])[2:N_EMS,ds]\n",
    "#     P_dies_pre    = jvalue(vars[\"P_dies\"])[2:N_EMS,ps,ss,ds]\n",
    "#     P_bat_cha_pre = jvalue(vars[\"P_bat_cha\"])[2:N_EMS,ps]\n",
    "#     P_bat_dis_pre = jvalue(vars[\"P_bat_dis\"])[2:N_EMS,ps]\n",
    "#     X_bat_pre     = jvalue(vars[\"X_bat\"])[2:N_EMS,ps]\n",
    "\n",
    "#     setvalue(P_bat_set[1:(N_EMS-1),ps],P_bat_set_pre)\n",
    "#     setvalue(SOC_bat[1:(N_EMS-1),ps],SOC_bat_pre)\n",
    "#     setvalue(P_PV_set[1:(N_EMS-1),ps],P_PV_set_pre)\n",
    "#     setvalue(P_PV[1:(N_EMS-1),ps,ss],P_PV_pre)\n",
    "#     setvalue(ON_dies[1:(N_EMS-1),ds],ON_dies_pre)\n",
    "#     setvalue(P_dies[1:(N_EMS-1),ps,ss,ds],P_dies_pre)\n",
    "#     setvalue(P_bat_cha[1:(N_EMS-1),ps],P_bat_cha_pre)\n",
    "#     setvalue(P_bat_dis[1:(N_EMS-1),ps],P_bat_dis_pre)\n",
    "#     setvalue(X_bat[1:(N_EMS-1),ps],X_bat_pre)\n",
    "\n",
    "# end"
   ]
  },
  {
   "cell_type": "code",
   "execution_count": 6,
   "metadata": {
    "collapsed": true,
    "scrolled": true
   },
   "outputs": [],
   "source": [
    "@constraints m begin\n",
    "    \n",
    "    # Constraints:\n",
    "    #\n",
    "    # A1 - Diesel power limitation\n",
    "    # A2 - Diesel power limitation\n",
    "    # B1 - Power balance equation\n",
    "    # C1 - PV setpoint limitation\n",
    "    # D1 - Bat. setpoint equation\n",
    "    # D2 - Charging    mode const.\n",
    "    # D3 - Discharging mode const.\n",
    "    # E1 - FIRM    Diesel reserve margin (separated over scenarios)\n",
    "    # E2 - RELAXED Diesel reserve margin (mean over scenarios)\n",
    "    # F1 - \n",
    "    # F2 - SOC limitations\n",
    "    # F3 - \n",
    "    # G1 - Min frequency limitation\n",
    "    \n",
    "    A1[t=ts,p=ps,s=ss,d=ds], P_dies[t,p,s,d] <= ON_dies[t,d]*(P_dies_max)\n",
    "    A2[t=ts,p=ps,s=ss,d=ds], P_dies[t,p,s,d] >= ON_dies[t,d]*(P_dies_min)\n",
    "    \n",
    "    B1[t=ts,p=ps,s=ss], (P_PV[t,p,s] + sum(P_dies[t,p,s,d] for d=ds) + P_bat_set[t,p] - L_C[t,p,s]) == 0\n",
    "    \n",
    "    C1[t=ts,p=ps,s=ss],  P_PV[t,p,s] <= P_PV_set[t,p]\n",
    "    \n",
    "    D1[t=ts,p=ps], P_bat_set[t,p] == P_bat_cha[t,p] - P_bat_dis[t,p]\n",
    "    D2[t=ts,p=ps], P_bat_cha[t,p] <= P_bat_max *    X_bat[t,p]\n",
    "    D3[t=ts,p=ps], P_bat_dis[t,p] <= P_bat_max * (1-X_bat[t,p])\n",
    "    \n",
    "    # E1[t=ts,p=ps,s=ss],  sum(P_dies[t,p,s,d] for d=ds) <= sum((ON_dies[t,d]*P_dies_max) for d=ds) - marge_dies\n",
    "    E1[t=m1s,p=ps,s=ss],  sum(P_dies[t,p,s,d] for d=ds) <= sum((ON_dies[t,d]*P_dies_max) for d=ds) - marge_dies\n",
    "    E2[t=m2s,p=ps],  sum(P_dies[t,p,s,d] for d=ds,s=ss)/N_scen <= sum((ON_dies[t,d]*P_dies_max) for d=ds) - marge_dies\n",
    "    \n",
    "    F1[t=1,p=1],               SOC_bat[t,p] == SOC_init             - P_bat_set[t,p]*delta_t/Cap_bat\n",
    "    F2[t=2:N_EMS,p=1],         SOC_bat[t,p] == SOC_bat[t-1,N_intra] - P_bat_set[t,p]*delta_t/Cap_bat\n",
    "    F3[t=1:N_EMS,p=2:N_intra], SOC_bat[t,p] == SOC_bat[t,p-1]       - P_bat_set[t,p]*delta_t/Cap_bat\n",
    "\n",
    "    G1[t=ts,p=ps], f_min <= theta_i + theta_d*sum(ON_dies[t,d] for d=ds) + theta_b*P_bat_set[t,p] + theta_p*P_PV_set[t,p]\n",
    "\n",
    "end\n",
    "\n",
    "# print(m)"
   ]
  },
  {
   "cell_type": "code",
   "execution_count": 7,
   "metadata": {
    "collapsed": true
   },
   "outputs": [],
   "source": [
    "# @objective(m, Max, sum(P_PV[t,p,s] for t=ts,p=ps,s=ss) - sum(N_scen*(1-eta_bat)*(P_bat_cha[t,p]+P_bat_dis[t,p]) for t=ts,p=ps) );\n",
    "\n",
    "# Adding sum of ON_dies - to minimize their utilization:\n",
    "# @objective(m, Max, sum((sum(P_PV[t,p,s] for s=ss)-N_scen*(1-eta_bat)*(P_bat_cha[t,p]+P_bat_dis[t,p])) for t=ts,p=ps) - sum(ON_dies[t,d] for t=ts,d=ds));\n",
    "\n",
    "@objective(m, Max, sum((sum(P_PV[t,p,s] for s=ss)-N_scen*(1-eta_bat)*(P_bat_cha[t,p]+P_bat_dis[t,p])) for t=ts,p=ps));\n"
   ]
  },
  {
   "cell_type": "code",
   "execution_count": 8,
   "metadata": {},
   "outputs": [
    {
     "name": "stdout",
     "output_type": "stream",
     "text": [
      "Academic license - for non-commercial use only\r\n",
      "Optimize a model with 393120 rows, 206208 columns and 1215359 nonzeros\r\n",
      "Variable types: 201600 continuous, 4608 integer (4608 binary)\r\n",
      "Coefficient statistics:\r\n",
      "  Matrix range     [5e-09, 2e+03]\r\n",
      "  Objective range  [3e-01, 1e+00]\r\n",
      "  Bounds range     [1e-01, 2e+04]\r\n",
      "  RHS range        [4e-01, 1e+04]\r\n",
      "Presolve removed 7304 rows and 8742 columns\r\n",
      "Presolve time: 2.31s\r\n",
      "Presolved: 385816 rows, 197466 columns, 1192021 nonzeros\r\n",
      "Variable types: 192858 continuous, 4608 integer (4608 binary)\r\n",
      "\r\n",
      "Root simplex log...\r\n",
      "\r\n",
      "Iteration    Objective       Primal Inf.    Dual Inf.      Time\r\n",
      "       0    4.2699376e+07   2.061721e+07   0.000000e+00     12s\r\n",
      "   49084    3.7168984e+07   2.375056e+06   0.000000e+00     15s\r\n",
      "   70264    3.7136413e+07   2.105419e+06   0.000000e+00     20s\r\n",
      "   92874    3.7092949e+07   1.833306e+06   0.000000e+00     25s\r\n",
      "  114130    3.7043467e+07   1.581714e+06   0.000000e+00     30s\r\n",
      "  135859    3.6977163e+07   1.310384e+06   0.000000e+00     35s\r\n",
      "  157732    3.6902478e+07   1.194897e+06   0.000000e+00     40s\r\n",
      "  177190    3.6822991e+07   1.006030e+06   0.000000e+00     45s\r\n",
      "  194320    3.6758384e+07   9.642670e+05   0.000000e+00     50s\r\n",
      "  209541    3.6702938e+07   8.755771e+05   0.000000e+00     55s\r\n",
      "  223696    3.6640611e+07   7.720166e+05   0.000000e+00     60s\r\n",
      "  236568    3.6569876e+07   8.561781e+05   0.000000e+00     65s\r\n",
      "  253034    3.6458936e+07   7.137562e+05   0.000000e+00     71s\r\n",
      "  267281    3.6343836e+07   6.767368e+05   0.000000e+00     75s\r\n",
      "  282136    3.6208898e+07   6.117411e+05   0.000000e+00     80s\r\n",
      "  297756    3.6047928e+07   5.345643e+05   0.000000e+00     85s\r\n",
      "  312376    3.5888773e+07   5.879687e+05   0.000000e+00     90s\r\n",
      "  324629    3.5742080e+07   4.673772e+05   0.000000e+00     95s\r\n",
      "  339327    3.5520223e+07   3.842361e+05   0.000000e+00    101s\r\n",
      "  352131    3.5286804e+07   3.302900e+05   0.000000e+00    105s\r\n",
      "  368408    3.5008264e+07   2.506024e+05   0.000000e+00    111s\r\n",
      "  382407    3.4882038e+07   1.267903e+05   0.000000e+00    115s\r\n",
      "  399454    2.9779326e+07   2.594506e+05   0.000000e+00    121s\r\n",
      "  407418    2.9325726e+07   8.642129e+03   0.000000e+00    126s\r\n",
      "  416603    2.9255628e+07   2.089339e+04   0.000000e+00    130s\r\n",
      "  422281    2.9240970e+07   0.000000e+00   0.000000e+00    134s\r\n",
      "\r\n",
      "Root relaxation: objective 2.924097e+07, 422281 iterations, 122.57 seconds\r\n",
      "Total elapsed time = 137.16s\r\n",
      "\r\n",
      "    Nodes    |    Current Node    |     Objective Bounds      |     Work\r\n",
      " Expl Unexpl |  Obj  Depth IntInf | Incumbent    BestBd   Gap | It/Node Time\r\n",
      "\r\n",
      "     0     0 2.9241e+07    0   48          - 2.9241e+07      -     -  139s\r\n",
      "H    0     0                    2.876004e+07 2.9241e+07  1.67%     -  141s\r\n",
      "     0     0 2.9161e+07    0   86 2.8760e+07 2.9161e+07  1.39%     -  147s\r\n",
      "     0     0 2.8818e+07    0   13 2.8760e+07 2.8818e+07  0.20%     -  164s\r\n",
      "     0     0 2.8818e+07    0   14 2.8760e+07 2.8818e+07  0.20%     -  165s\r\n",
      "     0     0 2.8818e+07    0   15 2.8760e+07 2.8818e+07  0.20%     -  166s\r\n",
      "     0     0 2.8818e+07    0   15 2.8760e+07 2.8818e+07  0.20%     -  167s\r\n",
      "     0     0 2.8817e+07    0   21 2.8760e+07 2.8817e+07  0.20%     -  169s\r\n",
      "     0     0 2.8817e+07    0   28 2.8760e+07 2.8817e+07  0.20%     -  171s\r\n",
      "     0     0 2.8817e+07    0   32 2.8760e+07 2.8817e+07  0.20%     -  174s\r\n",
      "     0     0 2.8817e+07    0   33 2.8760e+07 2.8817e+07  0.20%     -  179s\r\n",
      "     0     0 2.8817e+07    0   35 2.8760e+07 2.8817e+07  0.20%     -  180s\r\n",
      "     0     0 2.8817e+07    0   31 2.8760e+07 2.8817e+07  0.20%     -  186s\r\n",
      "     0     0 2.8817e+07    0   32 2.8760e+07 2.8817e+07  0.20%     -  187s\r\n",
      "     0     0 2.8817e+07    0   31 2.8760e+07 2.8817e+07  0.20%     -  193s\r\n",
      "     0     0 2.8817e+07    0   31 2.8760e+07 2.8817e+07  0.20%     -  199s\r\n",
      "     0     0 2.8817e+07    0   29 2.8760e+07 2.8817e+07  0.20%     -  204s\r\n",
      "     0     0 2.8817e+07    0   30 2.8760e+07 2.8817e+07  0.20%     -  209s\r\n",
      "     0     0 2.8817e+07    0   32 2.8760e+07 2.8817e+07  0.20%     -  214s\r\n",
      "     0     0 2.8817e+07    0   31 2.8760e+07 2.8817e+07  0.20%     -  218s\r\n",
      "     0     2 2.8817e+07    0   31 2.8760e+07 2.8817e+07  0.20%     -  245s\r\n",
      "     9     9 2.8807e+07    4   21 2.8760e+07 2.8808e+07  0.17%   406  255s\r\n",
      "    21    20 infeasible   10      2.8760e+07 2.8808e+07  0.17%   207  260s\r\n",
      "    35    26 infeasible   16      2.8760e+07 2.8808e+07  0.17%   150  266s\r\n",
      "H   37    22                    2.879743e+07 2.8808e+07  0.04%   143  266s\r\n",
      "H   43    12                    2.880530e+07 2.8808e+07  0.01%   136  271s\r\n",
      "\r\n",
      "Cutting planes:\r\n",
      "  Gomory: 2\r\n",
      "  Cover: 1\r\n",
      "  MIR: 114\r\n",
      "  StrongCG: 18\r\n",
      "  Flow cover: 247\r\n",
      "\r\n",
      "Explored 54 nodes (460877 simplex iterations) in 271.50 seconds\r\n",
      "Thread count was 4 (of 4 available processors)\r\n",
      "\r\n",
      "Solution count 3: 2.88053e+07 2.87974e+07 2.876e+07 \r\n",
      "\r\n",
      "Optimal solution found (tolerance 1.00e-04)\r\n",
      "Best objective 2.880530376566e+07, best bound 2.880768347351e+07, gap 0.0083%\r\n"
     ]
    },
    {
     "data": {
      "text/plain": [
       ":Optimal"
      ]
     },
     "execution_count": 8,
     "metadata": {},
     "output_type": "execute_result"
    }
   ],
   "source": [
    "status = solve(m)"
   ]
  },
  {
   "cell_type": "code",
   "execution_count": 9,
   "metadata": {
    "collapsed": true
   },
   "outputs": [],
   "source": [
    "# write_matfile(\"../../Data/Generated Data/5 - Optimization/solutions/sol_0_test.mat\"; \n",
    "write_matfile(\"../../Data/Generated Data/5 - Optimization/solutions/sol_\"*dec(interval)*\".mat\"; \n",
    "    status    = string(status),\n",
    "    interval  = interval,\n",
    "    P_bat_set = getvalue(P_bat_set[:,:]), \n",
    "    SOC_bat   = getvalue(SOC_bat[:,:]),\n",
    "    P_PV_set  = getvalue(P_PV_set[:,:]),\n",
    "    P_PV      = getvalue(P_PV[:,:,:]),\n",
    "    ON_dies   = getvalue(ON_dies[:,:]),\n",
    "    P_dies    = getvalue(P_dies[:,:,:,:]),\n",
    "    P_bat_cha = getvalue(P_bat_cha[:,:]),\n",
    "    P_bat_dis = getvalue(P_bat_dis[:,:]),\n",
    "    X_bat     = getvalue(X_bat[:,:]))"
   ]
  },
  {
   "cell_type": "code",
   "execution_count": 10,
   "metadata": {},
   "outputs": [
    {
     "data": {
      "text/plain": [
       "\"Optimal\""
      ]
     },
     "execution_count": 10,
     "metadata": {},
     "output_type": "execute_result"
    }
   ],
   "source": [
    "# string(status)==\"Optimal\"     -> Optimal solution found\n",
    "# string(status)==\"UserLimit\"   -> Reached Time Limit\n",
    "# string(status)==\"Infeasible\"  -> Infeasible (no sol found)\n",
    "string(status)\n",
    "# a = \"test_\"*dec(interval)*\".mat\""
   ]
  },
  {
   "cell_type": "code",
   "execution_count": null,
   "metadata": {
    "collapsed": true
   },
   "outputs": [],
   "source": []
  }
 ],
 "metadata": {
  "kernelspec": {
   "display_name": "Julia 0.6.0",
   "language": "julia",
   "name": "julia-0.6"
  },
  "language_info": {
   "file_extension": ".jl",
   "mimetype": "application/julia",
   "name": "julia",
   "version": "0.6.0"
  }
 },
 "nbformat": 4,
 "nbformat_minor": 2
}
