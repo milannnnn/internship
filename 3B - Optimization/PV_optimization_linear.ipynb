{
 "cells": [
  {
   "cell_type": "markdown",
   "metadata": {},
   "source": [
    "## Optimization code for PV microgrid:"
   ]
  },
  {
   "cell_type": "code",
   "execution_count": 24,
   "metadata": {},
   "outputs": [],
   "source": [
    "# # using JuMP, AmplNLWriter, MATLAB\n",
    "# # m = Model(solver=AmplNLSolver(\"C:\\Program Files\\SCIPOptSuite 4.0.1\\bin\\scip.exe\"))\n",
    "# using JuMP, SCIP, MATLAB\n",
    "# m = Model(solver=SCIPSolver())\n"
   ]
  },
  {
   "cell_type": "code",
   "execution_count": 25,
   "metadata": {},
   "outputs": [
    {
     "data": {
      "text/latex": [
       "$$ \\begin{alignat*}{1}\\min\\quad & 0\\\\\n",
       "\\text{Subject to} \\quad\\end{alignat*}\n",
       " $$"
      ],
      "text/plain": [
       "Feasibility problem with:\n",
       " * 0 linear constraints\n",
       " * 0 variables\n",
       "Solver is Gurobi"
      ]
     },
     "execution_count": 25,
     "metadata": {},
     "output_type": "execute_result"
    }
   ],
   "source": [
    "### Model initialization:\n",
    "\n",
    "using JuMP, Gurobi, MATLAB\n",
    "# m = Model(solver=GurobiSolver(Presolve=2))\n",
    "# m = Model(solver=GurobiSolver(Presolve=2,TimeLimit=300))\n",
    "m = Model(solver=GurobiSolver(Presolve=1,TimeLimit=600))\n",
    "\n",
    "# using JuMP, CPLEX, MATLAB\n",
    "# # m = Model(solver=CplexSolver(CPX_PARAM_TILIM = 900))\n",
    "# m = Model(solver=CplexSolver(CPX_PARAM_REPEATPRESOLVE = 3, CPX_PARAM_TILIM = 900))\n",
    "\n"
   ]
  },
  {
   "cell_type": "code",
   "execution_count": 26,
   "metadata": {},
   "outputs": [
    {
     "data": {
      "text/plain": [
       "19:144"
      ]
     },
     "execution_count": 26,
     "metadata": {},
     "output_type": "execute_result"
    }
   ],
   "source": [
    "vars = read_matfile(\"../../Data/Generated Data/5 - Optimization/scenarios/scen_test.mat\")\n",
    "\n",
    "# Parameters:\n",
    "\n",
    "interval  = Int64(jvalue(vars[\"interval\"]))  # Current Interval (in day, for which we are optimizing)\n",
    "\n",
    "N_EMS   = Int64(jvalue(vars[\"N_EMS\"]))   # num of remaining EMS   intervals (opt. executions)\n",
    "N_intra = Int64(jvalue(vars[\"N_intra\"])) # num of remaining Intra intervals (opt. resolution)\n",
    "N_dies  = Int64(jvalue(vars[\"N_dies\"]))  # num of diesel generators\n",
    "N_scen  = Int64(jvalue(vars[\"N_scen\"]))  # num of different scenations\n",
    "N_firm  = Int64(jvalue(vars[\"N_firm\"]))  # num of FIRM Margin Constraint Intervals\n",
    "\n",
    "# Upper and Lower bounds:\n",
    "P_bat_min = jvalue(vars[\"P_bat_min\"])\n",
    "P_bat_max = jvalue(vars[\"P_bat_max\"])\n",
    "eta_bat  = jvalue(vars[\"eta_bat\"])\n",
    "SOC_min  = jvalue(vars[\"SOC_min\"])\n",
    "SOC_max  = jvalue(vars[\"SOC_max\"])\n",
    "SOC_init = jvalue(vars[\"SOC_init\"])\n",
    "Cap_bat  = jvalue(vars[\"Cap_bat\"])\n",
    "P_dies_max = jvalue(vars[\"P_dies_max\"])\n",
    "P_dies_min = jvalue(vars[\"P_dies_min\"])\n",
    "P_PV_inst = jvalue(vars[\"P_PV_inst\"])\n",
    "\n",
    "delta_t = jvalue(vars[\"delta_t\"]) # 1 min\n",
    "\n",
    "# f_min = -100000\n",
    "f_min = jvalue(vars[\"f_min\"])\n",
    "theta_i = jvalue(vars[\"theta_i\"])\n",
    "theta_d = jvalue(vars[\"theta_d\"])\n",
    "theta_b = jvalue(vars[\"theta_b\"])\n",
    "theta_p = jvalue(vars[\"theta_p\"])\n",
    "\n",
    "marge_dies = jvalue(vars[\"marge_dies\"])\n",
    "\n",
    "L_PV = jvalue(vars[\"L_PV\"]) # generated PV scenarios\n",
    "L_C  = jvalue(vars[\"L_C\"]) # generated load scenarios\n",
    "\n",
    "# Defining iterators:\n",
    "ts  = 1:N_EMS\n",
    "ps  = 1:N_intra\n",
    "ds  = 1:N_dies\n",
    "ss  = 1:N_scen\n",
    "m1s = 1:N_firm\n",
    "m2s = (N_firm+1):N_EMS\n"
   ]
  },
  {
   "cell_type": "code",
   "execution_count": 27,
   "metadata": {},
   "outputs": [],
   "source": [
    "## Variable definitions:\n",
    "\n",
    "@variables m begin\n",
    "    \n",
    "    # Battery variables:\n",
    "    P_bat_min <= P_bat_set[t=ts,p=ps]  <= P_bat_max # Battery setpoint for time t,p (decision var.)\n",
    "    0 <= P_bat_cha[t=ts,p=ps] <= P_bat_max\n",
    "    0 <= P_bat_dis[t=ts,p=ps] <= P_bat_max\n",
    "    X_bat[t=ts,p=ps], Bin                           # Operating mode indicator (decision var.)\n",
    "                                                    # -> P_bat_set = 2*(X_bat-0.5)*P_bat_abs\n",
    "    SOC_min <= SOC_bat[t=ts,p=ps] <= SOC_max        # Obtained SOC for time t,p (solution var.)\n",
    "    \n",
    "    # PV Plant:\n",
    "    0 <= P_PV_set[t=ts,p=ps]  <= P_PV_inst          # PV setpoint variable (decision var.)\n",
    "    0 <= P_PV[t=ts,p=ps,s=ss] <= L_PV[t,p,s]        # Actual PV generation (solution var.)\n",
    "    \n",
    "    # Diesel Generators:\n",
    "    ON_dies[t=ts,d=ds], Bin                         # Dies. connectin setpoint (decision var.)\n",
    "    0 <= P_dies[t=ts,p=ps,s=ss,d=ds] <= P_dies_max  # Actual dies. generation  (solution var.)\n",
    "    # P_dies_min <= P_dies[t=ts,p=ps,s=ss,d=ds] <= P_dies_max # Actual dies. generation  (solution var.)\n",
    "    \n",
    "end\n",
    "\n",
    "# print(m)\n"
   ]
  },
  {
   "cell_type": "code",
   "execution_count": 28,
   "metadata": {
    "scrolled": true
   },
   "outputs": [],
   "source": [
    "@constraints m begin\n",
    "    \n",
    "    # Constraints:\n",
    "    #\n",
    "    # A1 - Diesel power limitation\n",
    "    # A2 - Diesel power limitation\n",
    "    # B1 - Power balance equation\n",
    "    # C1 - PV setpoint limitation\n",
    "    # D1 - Bat. setpoint equation\n",
    "    # D2 - Charging    mode const.\n",
    "    # D3 - Discharging mode const.\n",
    "    # E1 - FIRM    Diesel reserve margin (separated over scenarios)\n",
    "    # E2 - RELAXED Diesel reserve margin (mean over scenarios)\n",
    "    # F1 - \n",
    "    # F2 - SOC limitations\n",
    "    # F3 - \n",
    "    # G1 - Min frequency limitation\n",
    "    \n",
    "    A1[t=ts,p=ps,s=ss,d=ds], P_dies[t,p,s,d] <= ON_dies[t,d]*(P_dies_max)\n",
    "    A2[t=ts,p=ps,s=ss,d=ds], P_dies[t,p,s,d] >= ON_dies[t,d]*(P_dies_min)\n",
    "    \n",
    "    B1[t=ts,p=ps,s=ss], (P_PV[t,p,s] + sum(P_dies[t,p,s,d] for d=ds) + P_bat_set[t,p] - L_C[t,p,s]) == 0\n",
    "    \n",
    "    C1[t=ts,p=ps,s=ss],  P_PV[t,p,s] <= P_PV_set[t,p]\n",
    "    \n",
    "    D1[t=ts,p=ps], P_bat_set[t,p] == P_bat_cha[t,p] - P_bat_dis[t,p]\n",
    "    D2[t=ts,p=ps], P_bat_cha[t,p] <= P_bat_max *    X_bat[t,p]\n",
    "    D3[t=ts,p=ps], P_bat_dis[t,p] <= P_bat_max * (1-X_bat[t,p])\n",
    "    \n",
    "    # E1[t=ts,p=ps,s=ss],  sum(P_dies[t,p,s,d] for d=ds) <= sum((ON_dies[t,d]*P_dies_max) for d=ds) - marge_dies\n",
    "    E1[t=m1s,p=ps,s=ss],  sum(P_dies[t,p,s,d] for d=ds) <= sum((ON_dies[t,d]*P_dies_max) for d=ds) - marge_dies\n",
    "    E2[t=m2s,p=ps],  sum(P_dies[t,p,s,d] for d=ds,s=ss)/N_scen <= sum((ON_dies[t,d]*P_dies_max) for d=ds) - marge_dies\n",
    "    \n",
    "    F1[t=1,p=1],               SOC_bat[t,p] == SOC_init             - P_bat_set[t,p]*delta_t/Cap_bat\n",
    "    F2[t=2:N_EMS,p=1],         SOC_bat[t,p] == SOC_bat[t-1,N_intra] - P_bat_set[t,p]*delta_t/Cap_bat\n",
    "    F3[t=1:N_EMS,p=2:N_intra], SOC_bat[t,p] == SOC_bat[t,p-1]       - P_bat_set[t,p]*delta_t/Cap_bat\n",
    "\n",
    "    G1[t=ts,p=ps], f_min <= theta_i + theta_d*sum(ON_dies[t,d] for d=ds) + theta_b*P_bat_set[t,p] + theta_p*P_PV_set[t,p]\n",
    "\n",
    "end\n",
    "\n",
    "# print(m)"
   ]
  },
  {
   "cell_type": "code",
   "execution_count": 29,
   "metadata": {},
   "outputs": [],
   "source": [
    "# @objective(m, Max, sum(P_PV[t,p,s] for t=ts,p=ps,s=ss) - sum(N_scen*(1-eta_bat)*(P_bat_cha[t,p]+P_bat_dis[t,p]) for t=ts,p=ps) );\n",
    "\n",
    "# Adding sum of ON_dies - to minimize their utilization:\n",
    "# @objective(m, Max, sum((sum(P_PV[t,p,s] for s=ss)-N_scen*(1-eta_bat)*(P_bat_cha[t,p]+P_bat_dis[t,p])) for t=ts,p=ps) - sum(ON_dies[t,d] for t=ts,d=ds));\n",
    "\n",
    "@objective(m, Max, sum((sum(P_PV[t,p,s] for s=ss)-N_scen*(1-eta_bat)*(P_bat_cha[t,p]+P_bat_dis[t,p])) for t=ts,p=ps));\n"
   ]
  },
  {
   "cell_type": "code",
   "execution_count": 30,
   "metadata": {},
   "outputs": [
    {
     "name": "stdout",
     "output_type": "stream",
     "text": [
      "Academic license - for non-commercial use only\r\n",
      "Optimize a model with 393120 rows, 206208 columns and 1215359 nonzeros\r\n",
      "Variable types: 201600 continuous, 4608 integer (4608 binary)\r\n",
      "Coefficient statistics:\r\n",
      "  Matrix range     [5e-09, 2e+03]\r\n",
      "  Objective range  [3e-01, 1e+00]\r\n",
      "  Bounds range     [1e+00, 2e+04]\r\n",
      "  RHS range        [4e-01, 1e+04]\r\n",
      "Presolve removed 7291 rows and 8729 columns\r\n",
      "Presolve time: 2.30s\r\n",
      "Presolved: 385829 rows, 197479 columns, 1192055 nonzeros\r\n",
      "Variable types: 192871 continuous, 4608 integer (4608 binary)\r\n",
      "\r\n",
      "Root simplex log...\r\n",
      "\r\n",
      "Iteration    Objective       Primal Inf.    Dual Inf.      Time\r\n",
      "       0    4.2508950e+07   2.065018e+07   0.000000e+00     13s\r\n",
      "   40523    3.6864268e+07   1.764666e+06   0.000000e+00     15s\r\n",
      "   68275    3.6826022e+07   1.323294e+06   0.000000e+00     20s\r\n",
      "   83838    3.6805702e+07   1.175319e+06   0.000000e+00     25s\r\n",
      "   97658    3.6789183e+07   1.066713e+06   0.000000e+00     30s\r\n",
      "  109710    3.6772234e+07   1.039774e+06   0.000000e+00     35s\r\n",
      "  122581    3.6751508e+07   8.707816e+05   0.000000e+00     40s\r\n",
      "  137082    3.6721084e+07   7.804210e+05   0.000000e+00     46s\r\n",
      "  153875    3.6681006e+07   7.177342e+05   0.000000e+00     51s\r\n",
      "  173632    3.6622749e+07   6.231930e+05   0.000000e+00     55s\r\n",
      "  196932    3.6536310e+07   5.441942e+05   0.000000e+00     61s\r\n",
      "  217567    3.6455485e+07   4.713544e+05   0.000000e+00     66s\r\n",
      "  237620    3.6361340e+07   3.986871e+05   0.000000e+00     71s\r\n",
      "  254545    3.6273331e+07   4.415849e+05   0.000000e+00     75s\r\n",
      "  274001    3.6146927e+07   2.936713e+05   0.000000e+00     81s\r\n",
      "  292742    3.6007457e+07   2.553459e+05   0.000000e+00     86s\r\n",
      "  309423    3.5870104e+07   1.187908e+05   0.000000e+00     90s\r\n",
      "  330037    3.1464634e+07   3.149078e+06   0.000000e+00     96s\r\n",
      "  342408    3.1094489e+07   2.905293e+05   0.000000e+00    100s\r\n",
      "  352000    3.0906152e+07   1.779374e+05   0.000000e+00    107s\r\n",
      "  355171    3.0906152e+07   9.422263e+04   0.000000e+00    110s\r\n",
      "  359865    3.0906152e+07   1.517857e+03   0.000000e+00    117s\r\n",
      "  360217    3.0906156e+07   0.000000e+00   0.000000e+00    117s\r\n",
      "\r\n",
      "Root relaxation: objective 3.090616e+07, 360217 iterations, 104.61 seconds\r\n",
      "Total elapsed time = 129.47s\r\n",
      "Total elapsed time = 131.34s\r\n",
      "\r\n",
      "    Nodes    |    Current Node    |     Objective Bounds      |     Work\r\n",
      " Expl Unexpl |  Obj  Depth IntInf | Incumbent    BestBd   Gap | It/Node Time\r\n",
      "\r\n",
      "     0     0 3.0906e+07    0   45          - 3.0906e+07      -     -  132s\r\n",
      "H    0     0                    3.062095e+07 3.0906e+07  0.93%     -  135s\r\n",
      "     0     0 3.0901e+07    0   62 3.0621e+07 3.0901e+07  0.91%     -  143s\r\n",
      "     0     0 3.0631e+07    0    9 3.0621e+07 3.0631e+07  0.03%     -  160s\r\n",
      "     0     0 3.0631e+07    0    9 3.0621e+07 3.0631e+07  0.03%     -  161s\r\n",
      "     0     0 3.0631e+07    0    9 3.0621e+07 3.0631e+07  0.03%     -  163s\r\n",
      "     0     0 3.0630e+07    0    7 3.0621e+07 3.0630e+07  0.03%     -  168s\r\n",
      "     0     0 3.0630e+07    0    7 3.0621e+07 3.0630e+07  0.03%     -  169s\r\n",
      "     0     0 3.0630e+07    0    9 3.0621e+07 3.0630e+07  0.03%     -  170s\r\n",
      "     0     0 3.0630e+07    0   19 3.0621e+07 3.0630e+07  0.03%     -  173s\r\n",
      "     0     0 3.0630e+07    0   15 3.0621e+07 3.0630e+07  0.03%     -  177s\r\n",
      "     0     0 3.0630e+07    0   15 3.0621e+07 3.0630e+07  0.03%     -  179s\r\n",
      "     0     0 3.0630e+07    0   13 3.0621e+07 3.0630e+07  0.03%     -  183s\r\n",
      "     0     0 3.0630e+07    0   12 3.0621e+07 3.0630e+07  0.03%     -  185s\r\n",
      "     0     0 3.0630e+07    0   11 3.0621e+07 3.0630e+07  0.03%     -  189s\r\n",
      "     0     0 3.0630e+07    0   12 3.0621e+07 3.0630e+07  0.03%     -  191s\r\n",
      "     0     0 3.0630e+07    0   14 3.0621e+07 3.0630e+07  0.03%     -  195s\r\n",
      "     0     0 3.0630e+07    0   12 3.0621e+07 3.0630e+07  0.03%     -  200s\r\n",
      "     0     0 3.0630e+07    0   12 3.0621e+07 3.0630e+07  0.03%     -  204s\r\n",
      "     0     0 3.0630e+07    0   12 3.0621e+07 3.0630e+07  0.03%     -  205s\r\n",
      "     0     0 3.0630e+07    0   11 3.0621e+07 3.0630e+07  0.03%     -  209s\r\n",
      "     0     0 3.0630e+07    0   11 3.0621e+07 3.0630e+07  0.03%     -  214s\r\n",
      "     0     0 3.0630e+07    0   11 3.0621e+07 3.0630e+07  0.03%     -  218s\r\n",
      "     0     0 3.0630e+07    0   11 3.0621e+07 3.0630e+07  0.03%     -  221s\r\n",
      "     0     0 3.0630e+07    0   11 3.0621e+07 3.0630e+07  0.03%     -  222s\r\n",
      "     0     0 3.0630e+07    0   10 3.0621e+07 3.0630e+07  0.03%     -  226s\r\n",
      "     0     0 3.0630e+07    0   10 3.0621e+07 3.0630e+07  0.03%     -  228s\r\n",
      "     0     0 3.0630e+07    0    7 3.0621e+07 3.0630e+07  0.03%     -  300s\r\n",
      "     0     0 3.0630e+07    0   12 3.0621e+07 3.0630e+07  0.03%     -  304s\r\n",
      "     0     0 3.0630e+07    0   15 3.0621e+07 3.0630e+07  0.03%     -  307s\r\n",
      "     0     0 3.0630e+07    0   17 3.0621e+07 3.0630e+07  0.03%     -  308s\r\n",
      "     0     0 3.0630e+07    0   22 3.0621e+07 3.0630e+07  0.03%     -  309s\r\n",
      "     0     0 3.0630e+07    0   22 3.0621e+07 3.0630e+07  0.03%     -  310s\r\n",
      "     0     0 3.0630e+07    0   26 3.0621e+07 3.0630e+07  0.03%     -  311s\r\n",
      "     0     0 3.0630e+07    0   23 3.0621e+07 3.0630e+07  0.03%     -  314s\r\n",
      "     0     0 3.0630e+07    0   23 3.0621e+07 3.0630e+07  0.03%     -  315s\r\n",
      "     0     0 3.0630e+07    0   23 3.0621e+07 3.0630e+07  0.03%     -  315s\r\n",
      "     0     0 3.0630e+07    0   23 3.0621e+07 3.0630e+07  0.03%     -  316s\r\n",
      "     0     0 3.0630e+07    0   21 3.0621e+07 3.0630e+07  0.03%     -  318s\r\n",
      "     0     0 3.0630e+07    0   23 3.0621e+07 3.0630e+07  0.03%     -  320s\r\n",
      "     0     0 3.0630e+07    0   23 3.0621e+07 3.0630e+07  0.03%     -  321s\r\n",
      "     0     0 3.0630e+07    0   24 3.0621e+07 3.0630e+07  0.03%     -  323s\r\n",
      "     0     0 3.0630e+07    0   21 3.0621e+07 3.0630e+07  0.03%     -  325s\r\n",
      "     0     0 3.0630e+07    0   18 3.0621e+07 3.0630e+07  0.03%     -  330s\r\n",
      "     0     0 3.0630e+07    0   17 3.0621e+07 3.0630e+07  0.03%     -  333s\r\n",
      "     0     0 3.0630e+07    0   16 3.0621e+07 3.0630e+07  0.03%     -  336s\r\n",
      "     0     0 3.0630e+07    0   16 3.0621e+07 3.0630e+07  0.03%     -  338s\r\n",
      "     0     0 3.0630e+07    0   18 3.0621e+07 3.0630e+07  0.03%     -  341s\r\n",
      "     0     0 3.0630e+07    0   19 3.0621e+07 3.0630e+07  0.03%     -  344s\r\n",
      "     0     0 3.0630e+07    0   21 3.0621e+07 3.0630e+07  0.03%     -  344s\r\n",
      "     0     0 3.0630e+07    0   22 3.0621e+07 3.0630e+07  0.03%     -  345s\r\n",
      "     0     0 3.0630e+07    0   22 3.0621e+07 3.0630e+07  0.03%     -  345s\r\n",
      "     0     0 3.0630e+07    0   22 3.0621e+07 3.0630e+07  0.03%     -  346s\r\n",
      "     0     0 3.0630e+07    0   14 3.0621e+07 3.0630e+07  0.03%     -  349s\r\n",
      "     0     0 3.0630e+07    0   15 3.0621e+07 3.0630e+07  0.03%     -  351s\r\n",
      "     0     0 3.0630e+07    0   17 3.0621e+07 3.0630e+07  0.03%     -  353s\r\n",
      "     0     0 3.0630e+07    0   19 3.0621e+07 3.0630e+07  0.03%     -  355s\r\n",
      "     0     0 3.0630e+07    0   17 3.0621e+07 3.0630e+07  0.03%     -  358s\r\n",
      "     0     0 3.0630e+07    0   21 3.0621e+07 3.0630e+07  0.03%     -  360s\r\n",
      "     0     0 3.0630e+07    0   15 3.0621e+07 3.0630e+07  0.03%     -  363s\r\n",
      "     0     0 3.0630e+07    0   15 3.0621e+07 3.0630e+07  0.03%     -  366s\r\n",
      "     0     2 3.0630e+07    0   15 3.0621e+07 3.0630e+07  0.03%     -  378s\r\n",
      "     5     8 3.0627e+07    3   16 3.0621e+07 3.0630e+07  0.03%  50.6  380s\r\n",
      "*   37    22              16    3.062554e+07 3.0630e+07  0.01%  33.5  384s\r\n",
      "*   43    18              15    3.062668e+07 3.0630e+07  0.01%  34.2  384s\r\n",
      "\r\n",
      "Cutting planes:\r\n",
      "  Gomory: 3\r\n",
      "  MIR: 51\r\n",
      "  Flow cover: 89\r\n",
      "\r\n",
      "Explored 46 nodes (607351 simplex iterations) in 384.55 seconds\r\n",
      "Thread count was 4 (of 4 available processors)\r\n",
      "\r\n",
      "Solution count 4: 3.06267e+07 3.06255e+07 3.0621e+07 3.03834e+07 \r\n",
      "\r\n",
      "Optimal solution found (tolerance 1.00e-04)\r\n",
      "Best objective 3.062668395867e+07, best bound 3.062971110468e+07, gap 0.0099%\r\n"
     ]
    },
    {
     "data": {
      "text/plain": [
       ":Optimal"
      ]
     },
     "execution_count": 30,
     "metadata": {},
     "output_type": "execute_result"
    }
   ],
   "source": [
    "status = solve(m)"
   ]
  },
  {
   "cell_type": "code",
   "execution_count": 31,
   "metadata": {},
   "outputs": [],
   "source": [
    "write_matfile(\"../../Data/Generated Data/5 - Optimization/solutions/sol_test.mat\"; \n",
    "    status    = string(status),\n",
    "    interval  = interval,\n",
    "    P_bat_set = getvalue(P_bat_set[:,:]), \n",
    "    SOC_bat   = getvalue(SOC_bat[:,:]),\n",
    "    P_PV_set  = getvalue(P_PV_set[:,:]),\n",
    "    P_PV      = getvalue(P_PV[:,:,:]),\n",
    "    ON_dies   = getvalue(ON_dies[:,:]),\n",
    "    P_dies    = getvalue(P_dies[:,:,:,:]))"
   ]
  },
  {
   "cell_type": "code",
   "execution_count": 32,
   "metadata": {},
   "outputs": [
    {
     "data": {
      "text/plain": [
       "\"Optimal\""
      ]
     },
     "execution_count": 32,
     "metadata": {},
     "output_type": "execute_result"
    }
   ],
   "source": [
    "# string(status)==\"Optimal\"     -> Optimal solution found\n",
    "# string(status)==\"UserLimit\"   -> Reached Time Limit\n",
    "# string(status)==\"Infeasible\"  -> Infeasible (no sol found)\n",
    "string(status)\n",
    "# a = \"test_\"*dec(interval)*\".mat\""
   ]
  },
  {
   "cell_type": "code",
   "execution_count": null,
   "metadata": {},
   "outputs": [],
   "source": []
  }
 ],
 "metadata": {
  "kernelspec": {
   "display_name": "Julia 0.6.0",
   "language": "julia",
   "name": "julia-0.6"
  },
  "language_info": {
   "file_extension": ".jl",
   "mimetype": "application/julia",
   "name": "julia",
   "version": "0.6.0"
  }
 },
 "nbformat": 4,
 "nbformat_minor": 2
}
