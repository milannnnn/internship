{
 "cells": [
  {
   "cell_type": "markdown",
   "metadata": {},
   "source": [
    "## Optimization code for PV microgrid:"
   ]
  },
  {
   "cell_type": "code",
   "execution_count": 1,
   "metadata": {
    "collapsed": true
   },
   "outputs": [],
   "source": [
    "# # using JuMP, AmplNLWriter, MATLAB\n",
    "# # m = Model(solver=AmplNLSolver(\"C:\\Program Files\\SCIPOptSuite 4.0.1\\bin\\scip.exe\"))\n",
    "# using JuMP, SCIP, MATLAB\n",
    "# m = Model(solver=SCIPSolver())\n"
   ]
  },
  {
   "cell_type": "code",
   "execution_count": 2,
   "metadata": {},
   "outputs": [
    {
     "data": {
      "text/latex": [
       "$$ \\begin{alignat*}{1}\\min\\quad & 0\\\\\n",
       "\\text{Subject to} \\quad\\end{alignat*}\n",
       " $$"
      ],
      "text/plain": [
       "Feasibility problem with:\n",
       " * 0 linear constraints\n",
       " * 0 variables\n",
       "Solver is Gurobi"
      ]
     },
     "execution_count": 2,
     "metadata": {},
     "output_type": "execute_result"
    }
   ],
   "source": [
    "### Model initialization:\n",
    "\n",
    "using JuMP, Gurobi, MATLAB\n",
    "# m = Model(solver=GurobiSolver(Presolve=2))\n",
    "# m = Model(solver=GurobiSolver(Presolve=2,TimeLimit=300))\n",
    "m = Model(solver=GurobiSolver(Presolve=1,TimeLimit=900))\n",
    "\n",
    "# using JuMP, CPLEX, MATLAB\n",
    "# # m = Model(solver=CplexSolver(CPX_PARAM_TILIM = 900))\n",
    "# m = Model(solver=CplexSolver(CPX_PARAM_REPEATPRESOLVE = 3, CPX_PARAM_TILIM = 900))\n",
    "\n"
   ]
  },
  {
   "cell_type": "code",
   "execution_count": 4,
   "metadata": {},
   "outputs": [
    {
     "data": {
      "text/plain": [
       "13:96"
      ]
     },
     "execution_count": 4,
     "metadata": {},
     "output_type": "execute_result"
    }
   ],
   "source": [
    "vars = read_matfile(\"../../Data/Generated Data/5 - Optimization/scenarios/test.mat\")\n",
    "\n",
    "# Parameters:\n",
    "\n",
    "interval  = Int64(jvalue(vars[\"interval\"]))  # Current Interval (in day, for which we are optimizing)\n",
    "\n",
    "N_EMS   = Int64(jvalue(vars[\"N_EMS\"]))   # num of remaining EMS   intervals (opt. executions)\n",
    "N_intra = Int64(jvalue(vars[\"N_intra\"])) # num of remaining Intra intervals (opt. resolution)\n",
    "N_dies  = Int64(jvalue(vars[\"N_dies\"]))  # num of diesel generators\n",
    "N_scen  = Int64(jvalue(vars[\"N_scen\"]))  # num of different scenations\n",
    "N_firm  = Int64(jvalue(vars[\"N_firm\"]))  # num of FIRM Margin Constraint Intervals\n",
    "\n",
    "# Upper and Lower bounds:\n",
    "P_bat_min = jvalue(vars[\"P_bat_min\"])\n",
    "P_bat_max = jvalue(vars[\"P_bat_max\"])\n",
    "eta_bat  = jvalue(vars[\"eta_bat\"])\n",
    "SOC_min  = jvalue(vars[\"SOC_min\"])\n",
    "SOC_max  = jvalue(vars[\"SOC_max\"])\n",
    "SOC_init = jvalue(vars[\"SOC_init\"])\n",
    "Cap_bat  = jvalue(vars[\"Cap_bat\"])\n",
    "P_dies_max = jvalue(vars[\"P_dies_max\"])\n",
    "P_dies_min = jvalue(vars[\"P_dies_min\"])\n",
    "P_PV_inst = jvalue(vars[\"P_PV_inst\"])\n",
    "\n",
    "delta_t = jvalue(vars[\"delta_t\"]) # 1 min\n",
    "\n",
    "# f_min = -100000\n",
    "f_min = jvalue(vars[\"f_min\"])\n",
    "theta_i = jvalue(vars[\"theta_i\"])\n",
    "theta_d = jvalue(vars[\"theta_d\"])\n",
    "theta_b = jvalue(vars[\"theta_b\"])\n",
    "theta_p = jvalue(vars[\"theta_p\"])\n",
    "\n",
    "marge_dies = jvalue(vars[\"marge_dies\"])\n",
    "\n",
    "L_PV = jvalue(vars[\"L_PV\"]) # generated PV scenarios\n",
    "L_C  = jvalue(vars[\"L_C\"]) # generated load scenarios\n",
    "\n",
    "# Defining iterators:\n",
    "ts  = 1:N_EMS\n",
    "ps  = 1:N_intra\n",
    "ds  = 1:N_dies\n",
    "ss  = 1:N_scen\n",
    "m1s = 1:N_firm\n",
    "m2s = (N_firm+1):N_EMS\n"
   ]
  },
  {
   "cell_type": "code",
   "execution_count": 5,
   "metadata": {
    "collapsed": true
   },
   "outputs": [],
   "source": [
    "## Variable definitions:\n",
    "\n",
    "@variables m begin\n",
    "    \n",
    "    # Battery variables:\n",
    "    P_bat_min <= P_bat_set[t=ts,p=ps]  <= P_bat_max # Battery setpoint for time t,p (decision var.)\n",
    "    0 <= P_bat_cha[t=ts,p=ps] <= P_bat_max\n",
    "    0 <= P_bat_dis[t=ts,p=ps] <= P_bat_max\n",
    "    X_bat[t=ts,p=ps], Bin                           # Operating mode indicator (decision var.)\n",
    "                                                    # -> P_bat_set = 2*(X_bat-0.5)*P_bat_abs\n",
    "    SOC_min <= SOC_bat[t=ts,p=ps] <= SOC_max        # Obtained SOC for time t,p (solution var.)\n",
    "    \n",
    "    # PV Plant:\n",
    "    0 <= P_PV_set[t=ts,p=ps]  <= P_PV_inst          # PV setpoint variable (decision var.)\n",
    "    0 <= P_PV[t=ts,p=ps,s=ss] <= L_PV[t,p,s]        # Actual PV generation (solution var.)\n",
    "    \n",
    "    # Diesel Generators:\n",
    "    ON_dies[t=ts,d=ds], Bin                         # Dies. connectin setpoint (decision var.)\n",
    "    0-5 <= P_dies[t=ts,p=ps,s=ss,d=ds] <= P_dies_max+5  # Actual dies. generation  (solution var.)\n",
    "    # P_dies_min <= P_dies[t=ts,p=ps,s=ss,d=ds] <= P_dies_max # Actual dies. generation  (solution var.)\n",
    "    \n",
    "end\n",
    "\n",
    "# print(m)\n"
   ]
  },
  {
   "cell_type": "code",
   "execution_count": 6,
   "metadata": {
    "collapsed": true,
    "scrolled": true
   },
   "outputs": [],
   "source": [
    "@constraints m begin\n",
    "    \n",
    "    # Constraints:\n",
    "    #\n",
    "    # B1 - Power balance equation\n",
    "    # C1 - PV setpoint limitation\n",
    "    # D1 - Bat. setpoint equation\n",
    "    # D2 - Charging    mode const.\n",
    "    # D3 - Discharging mode const.\n",
    "    # E1 - FIRM    Diesel reserve margin (separated over scenarios)\n",
    "    # E2 - RELAXED Diesel reserve margin (mean over scenarios)\n",
    "    # F1 - \n",
    "    # F2 - SOC limitations\n",
    "    # F3 - \n",
    "    # G1 - Min frequency limitation\n",
    "    \n",
    "    A1[t=ts,p=ps,s=ss,d=ds], P_dies[t,p,s,d] <= ON_dies[t,d]*(P_dies_max)\n",
    "    A2[t=ts,p=ps,s=ss,d=ds], P_dies[t,p,s,d] >= ON_dies[t,d]*(P_dies_min)\n",
    "    \n",
    "    B1[t=ts,p=ps,s=ss], (P_PV[t,p,s] + sum(P_dies[t,p,s,d] for d=ds) + P_bat_set[t,p] - L_C[t,p,s]) == 0\n",
    "    \n",
    "    C1[t=ts,p=ps,s=ss],  P_PV[t,p,s] <= P_PV_set[t,p]\n",
    "    \n",
    "    D1[t=ts,p=ps], P_bat_set[t,p] == P_bat_cha[t,p] - P_bat_dis[t,p]\n",
    "    D2[t=ts,p=ps], P_bat_cha[t,p] <= P_bat_max *    X_bat[t,p]\n",
    "    D3[t=ts,p=ps], P_bat_dis[t,p] <= P_bat_max * (1-X_bat[t,p])\n",
    "    \n",
    "    # E1[t=ts,p=ps,s=ss],  sum(P_dies[t,p,s,d] for d=ds) <= sum((ON_dies[t,d]*P_dies_max) for d=ds) - marge_dies\n",
    "    E1[t=m1s,p=ps,s=ss],  sum(P_dies[t,p,s,d] for d=ds) <= sum((ON_dies[t,d]*P_dies_max) for d=ds) - marge_dies\n",
    "    E2[t=m2s,p=ps],  sum(P_dies[t,p,s,d] for d=ds,s=ss)/N_scen <= sum((ON_dies[t,d]*P_dies_max) for d=ds) - marge_dies\n",
    "    \n",
    "    F1[t=1,p=1],               SOC_bat[t,p] == SOC_init             - P_bat_set[t,p]*delta_t/Cap_bat\n",
    "    F2[t=2:N_EMS,p=1],         SOC_bat[t,p] == SOC_bat[t-1,N_intra] - P_bat_set[t,p]*delta_t/Cap_bat\n",
    "    F3[t=1:N_EMS,p=2:N_intra], SOC_bat[t,p] == SOC_bat[t,p-1]       - P_bat_set[t,p]*delta_t/Cap_bat\n",
    "\n",
    "    G1[t=ts,p=ps], f_min <= theta_i + theta_d*sum(ON_dies[t,d] for d=ds) + theta_b*P_bat_set[t,p] + theta_p*P_PV_set[t,p]\n",
    "\n",
    "end\n",
    "\n",
    "# print(m)"
   ]
  },
  {
   "cell_type": "code",
   "execution_count": 7,
   "metadata": {
    "collapsed": true
   },
   "outputs": [],
   "source": [
    "# @objective(m, Max, sum(P_PV[t,p,s] for t=ts,p=ps,s=ss) - sum(N_scen*(1-eta_bat)*(P_bat_cha[t,p]+P_bat_dis[t,p]) for t=ts,p=ps) );\n",
    "\n",
    "# Adding sum of ON_dies - to minimize their utilization:\n",
    "# @objective(m, Max, sum((sum(P_PV[t,p,s] for s=ss)-N_scen*(1-eta_bat)*(P_bat_cha[t,p]+P_bat_dis[t,p])) for t=ts,p=ps) - sum(ON_dies[t,d] for t=ts,d=ds));\n",
    "\n",
    "@objective(m, Max, sum((sum(P_PV[t,p,s] for s=ss)-N_scen*(1-eta_bat)*(P_bat_cha[t,p]+P_bat_dis[t,p])) for t=ts,p=ps));\n"
   ]
  },
  {
   "cell_type": "code",
   "execution_count": 8,
   "metadata": {},
   "outputs": [
    {
     "name": "stdout",
     "output_type": "stream",
     "text": [
      "Academic license - for non-commercial use only\r\n",
      "Optimize a model with 196560 rows, 103392 columns and 607679 nonzeros\r\n",
      "Variable types: 100800 continuous, 2592 integer (2592 binary)\r\n",
      "Coefficient statistics:\r\n",
      "  Matrix range     [5e-09, 2e+03]\r\n",
      "  Objective range  [3e-01, 1e+00]\r\n",
      "  Bounds range     [1e+00, 2e+04]\r\n",
      "  RHS range        [4e-01, 1e+04]\r\n",
      "Presolve removed 3686 rows and 4405 columns\r\n",
      "Presolve time: 1.27s\r\n",
      "Presolved: 192874 rows, 98987 columns, 595933 nonzeros\r\n",
      "Variable types: 96405 continuous, 2582 integer (2582 binary)\r\n",
      "\r\n",
      "Root simplex log...\r\n",
      "\r\n",
      "Iteration    Objective       Primal Inf.    Dual Inf.      Time\r\n",
      "   27088    1.5607297e+07   1.226320e+06   0.000000e+00      5s\r\n",
      "   59255    1.5336989e+07   7.688241e+05   0.000000e+00     10s\r\n",
      "   88469    1.5117815e+07   5.356775e+05   0.000000e+00     15s\r\n",
      "  113700    1.4896828e+07   4.037263e+05   0.000000e+00     20s\r\n",
      "  140140    1.4533330e+07   1.787550e+05   0.000000e+00     25s\r\n",
      "  168029    1.1478453e+07   4.337931e+05   0.000000e+00     30s\r\n",
      "  187230    1.0763259e+07   4.289875e+05   0.000000e+00     35s\r\n",
      "  193651    1.0763091e+07   6.530542e+04   0.000000e+00     40s\r\n",
      "  198911    1.0763091e+07   2.579206e+04   0.000000e+00     45s\r\n",
      "  201152    1.0763093e+07   0.000000e+00   0.000000e+00     48s\r\n",
      "\r\n",
      "Root relaxation: objective 1.076309e+07, 201152 iterations, 44.63 seconds\r\n",
      "Total elapsed time = 52.31s\r\n",
      "\r\n",
      "    Nodes    |    Current Node    |     Objective Bounds      |     Work\r\n",
      " Expl Unexpl |  Obj  Depth IntInf | Incumbent    BestBd   Gap | It/Node Time\r\n",
      "\r\n",
      "     0     0 1.0763e+07    0   46          - 1.0763e+07      -     -   53s\r\n",
      "H    0     0                    1.041919e+07 1.0763e+07  3.30%     -   55s\r\n",
      "     0     0 1.0721e+07    0   76 1.0419e+07 1.0721e+07  2.90%     -   57s\r\n",
      "     0     0 1.0520e+07    0   55 1.0419e+07 1.0520e+07  0.97%     -   64s\r\n",
      "     0     0 1.0520e+07    0   58 1.0419e+07 1.0520e+07  0.96%     -   65s\r\n",
      "     0     0 1.0520e+07    0   59 1.0419e+07 1.0520e+07  0.96%     -   66s\r\n",
      "     0     0 1.0520e+07    0   59 1.0419e+07 1.0520e+07  0.96%     -   66s\r\n",
      "     0     0 1.0501e+07    0   25 1.0419e+07 1.0501e+07  0.79%     -   69s\r\n",
      "     0     0 1.0500e+07    0   28 1.0419e+07 1.0500e+07  0.78%     -   70s\r\n",
      "     0     0 1.0500e+07    0   29 1.0419e+07 1.0500e+07  0.77%     -   71s\r\n",
      "     0     0 1.0500e+07    0   32 1.0419e+07 1.0500e+07  0.77%     -   71s\r\n",
      "     0     0 1.0499e+07    0   30 1.0419e+07 1.0499e+07  0.76%     -   72s\r\n",
      "     0     0 1.0499e+07    0   31 1.0419e+07 1.0499e+07  0.76%     -   72s\r\n",
      "     0     0 1.0498e+07    0   23 1.0419e+07 1.0498e+07  0.75%     -   74s\r\n",
      "     0     0 1.0497e+07    0   25 1.0419e+07 1.0497e+07  0.75%     -   75s\r\n",
      "     0     0 1.0497e+07    0   26 1.0419e+07 1.0497e+07  0.75%     -   76s\r\n",
      "     0     0 1.0497e+07    0   27 1.0419e+07 1.0497e+07  0.74%     -   76s\r\n",
      "     0     0 1.0496e+07    0   28 1.0419e+07 1.0496e+07  0.74%     -   77s\r\n",
      "     0     0 1.0496e+07    0   27 1.0419e+07 1.0496e+07  0.73%     -   77s\r\n",
      "     0     0 1.0495e+07    0   29 1.0419e+07 1.0495e+07  0.73%     -   77s\r\n",
      "     0     0 1.0495e+07    0   29 1.0419e+07 1.0495e+07  0.73%     -   78s\r\n",
      "     0     0 1.0495e+07    0   30 1.0419e+07 1.0495e+07  0.73%     -   79s\r\n",
      "     0     0 1.0495e+07    0   31 1.0419e+07 1.0495e+07  0.73%     -   81s\r\n",
      "     0     0 1.0495e+07    0   30 1.0419e+07 1.0495e+07  0.72%     -   82s\r\n",
      "     0     0 1.0494e+07    0   32 1.0419e+07 1.0494e+07  0.72%     -   84s\r\n",
      "     0     0 1.0494e+07    0   34 1.0419e+07 1.0494e+07  0.72%     -   85s\r\n",
      "     0     0 1.0494e+07    0   35 1.0419e+07 1.0494e+07  0.72%     -   86s\r\n",
      "     0     0 1.0494e+07    0   35 1.0419e+07 1.0494e+07  0.72%     -   87s\r\n",
      "     0     0 1.0494e+07    0   32 1.0419e+07 1.0494e+07  0.72%     -   88s\r\n",
      "     0     0 1.0494e+07    0   31 1.0419e+07 1.0494e+07  0.72%     -   91s\r\n",
      "     0     0 1.0494e+07    0   29 1.0419e+07 1.0494e+07  0.72%     -   93s\r\n",
      "     0     0 1.0494e+07    0   29 1.0419e+07 1.0494e+07  0.72%     -   93s\r\n",
      "     0     0 1.0494e+07    0   29 1.0419e+07 1.0494e+07  0.72%     -   93s\r\n",
      "     0     0 1.0494e+07    0   20 1.0419e+07 1.0494e+07  0.72%     -   96s\r\n",
      "     0     0 1.0494e+07    0   22 1.0419e+07 1.0494e+07  0.71%     -   98s\r\n",
      "     0     0 1.0494e+07    0   24 1.0419e+07 1.0494e+07  0.71%     -   99s\r\n",
      "     0     0 1.0494e+07    0   23 1.0419e+07 1.0494e+07  0.71%     -   99s\r\n",
      "     0     0 1.0494e+07    0   21 1.0419e+07 1.0494e+07  0.71%     -  102s\r\n",
      "     0     0 1.0494e+07    0   29 1.0419e+07 1.0494e+07  0.71%     -  103s\r\n",
      "     0     0 1.0494e+07    0   28 1.0419e+07 1.0494e+07  0.71%     -  106s\r\n",
      "     0     0 1.0494e+07    0   28 1.0419e+07 1.0494e+07  0.71%     -  108s\r\n",
      "     0     2 1.0494e+07    0   28 1.0419e+07 1.0494e+07  0.71%     -  118s\r\n",
      "     9     6 1.0491e+07    4   20 1.0419e+07 1.0492e+07  0.70%   106  122s\r\n",
      "H   11     7                    1.048590e+07 1.0492e+07  0.06%  86.5  123s\r\n",
      "    18     5 1.0490e+07    7   12 1.0486e+07 1.0491e+07  0.05%  69.3  126s\r\n",
      "    27     2 infeasible   10      1.0486e+07 1.0488e+07  0.02%  71.8  130s\r\n",
      "H   33     6                    1.048591e+07 1.0488e+07  0.02%  76.9  132s\r\n",
      "H   45    14                    1.048595e+07 1.0488e+07  0.02%  68.2  134s\r\n",
      "H   46    14                    1.048699e+07 1.0488e+07  0.01%  68.2  134s\r\n",
      "    47     8     cutoff   19      1.0487e+07 1.0488e+07  0.01%  68.1  135s\r\n",
      "\r\n",
      "Cutting planes:\r\n",
      "  Gomory: 12\r\n",
      "  Cover: 6\r\n",
      "  MIR: 214\r\n",
      "  StrongCG: 15\r\n",
      "  Flow cover: 644\r\n",
      "\r\n",
      "Explored 52 nodes (248042 simplex iterations) in 135.10 seconds\r\n",
      "Thread count was 4 (of 4 available processors)\r\n",
      "\r\n",
      "Solution count 5: 1.0487e+07 1.04859e+07 1.04859e+07 ... 1.04192e+07\r\n",
      "\r\n",
      "Optimal solution found (tolerance 1.00e-04)\r\n",
      "Best objective 1.048699041231e+07, best bound 1.048770887002e+07, gap 0.0069%\r\n"
     ]
    },
    {
     "data": {
      "text/plain": [
       ":Optimal"
      ]
     },
     "execution_count": 8,
     "metadata": {},
     "output_type": "execute_result"
    }
   ],
   "source": [
    "status = solve(m)"
   ]
  },
  {
   "cell_type": "code",
   "execution_count": 33,
   "metadata": {},
   "outputs": [],
   "source": [
    "write_matfile(\"../../Data/Generated Data/5 - Optimization/solutions/sol_test.mat\"; \n",
    "    status    = string(status),\n",
    "    interval  = interval,\n",
    "    P_bat_set = getvalue(P_bat_set[:,:]), \n",
    "    SOC_bat   = getvalue(SOC_bat[:,:]),\n",
    "    P_PV_set  = getvalue(P_PV_set[:,:]),\n",
    "    P_PV      = getvalue(P_PV[:,:,:]),\n",
    "    ON_dies   = getvalue(ON_dies[:,:]),\n",
    "    P_dies    = getvalue(P_dies[:,:,:,:]))"
   ]
  },
  {
   "cell_type": "code",
   "execution_count": 32,
   "metadata": {},
   "outputs": [],
   "source": [
    "# string(status)==\"Optimal\""
   ]
  }
 ],
 "metadata": {
  "kernelspec": {
   "display_name": "Julia 0.6.0",
   "language": "julia",
   "name": "julia-0.6"
  },
  "language_info": {
   "file_extension": ".jl",
   "mimetype": "application/julia",
   "name": "julia",
   "version": "0.6.0"
  }
 },
 "nbformat": 4,
 "nbformat_minor": 2
}
