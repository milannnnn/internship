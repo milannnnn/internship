{
 "cells": [
  {
   "cell_type": "markdown",
   "metadata": {},
   "source": [
    "## Optimization code for PV microgrid:"
   ]
  },
  {
   "cell_type": "code",
   "execution_count": 1,
   "metadata": {
    "collapsed": true
   },
   "outputs": [],
   "source": [
    "# # using JuMP, AmplNLWriter, MATLAB\n",
    "# # m = Model(solver=AmplNLSolver(\"C:\\Program Files\\SCIPOptSuite 4.0.1\\bin\\scip.exe\"))\n",
    "# using JuMP, SCIP, MATLAB\n",
    "# m = Model(solver=SCIPSolver())\n"
   ]
  },
  {
   "cell_type": "code",
   "execution_count": 2,
   "metadata": {},
   "outputs": [
    {
     "data": {
      "text/plain": [
       "1"
      ]
     },
     "execution_count": 2,
     "metadata": {},
     "output_type": "execute_result"
    }
   ],
   "source": [
    "### Model initialization:\n",
    "\n",
    "using JuMP, Gurobi, MATLAB\n",
    "# m = Model(solver=GurobiSolver(Presolve=2))\n",
    "# m = Model(solver=GurobiSolver(Presolve=2,TimeLimit=300))\n",
    "m = Model(solver=GurobiSolver(Presolve=1,TimeLimit=600))\n",
    "\n",
    "# using JuMP, CPLEX, MATLAB\n",
    "# # m = Model(solver=CplexSolver(CPX_PARAM_TILIM = 900))\n",
    "# m = Model(solver=CplexSolver(CPX_PARAM_TILIM = 600))\n",
    "\n",
    "my_int = 1"
   ]
  },
  {
   "cell_type": "code",
   "execution_count": 3,
   "metadata": {},
   "outputs": [
    {
     "data": {
      "text/plain": [
       "13:96"
      ]
     },
     "execution_count": 3,
     "metadata": {},
     "output_type": "execute_result"
    }
   ],
   "source": [
    "# vars = read_matfile(\"../../Data/Generated Data/5 - Optimization/scenarios/scen_\"*dec(my_int)*\".mat\")\n",
    "vars = read_matfile(\"../../Data/Generated Data/5 - Optimization/scenarios/scen_test.mat\")\n",
    "\n",
    "# Parameters:\n",
    "\n",
    "interval  = Int64(jvalue(vars[\"interval\"]))  # Current Interval (in day, for which we are optimizing)\n",
    "\n",
    "N_EMS   = Int64(jvalue(vars[\"N_EMS\"]))   # num of remaining EMS   intervals (opt. executions)\n",
    "N_intra = Int64(jvalue(vars[\"N_intra\"])) # num of remaining Intra intervals (opt. resolution)\n",
    "N_dies  = Int64(jvalue(vars[\"N_dies\"]))  # num of diesel generators\n",
    "N_scen  = Int64(jvalue(vars[\"N_scen\"]))  # num of different scenations\n",
    "N_firm  = Int64(jvalue(vars[\"N_firm\"]))  # num of FIRM Margin Constraint Intervals\n",
    "\n",
    "# Upper and Lower bounds:\n",
    "P_bat_min = jvalue(vars[\"P_bat_min\"])\n",
    "P_bat_max = jvalue(vars[\"P_bat_max\"])\n",
    "eta_bat  = jvalue(vars[\"eta_bat\"])\n",
    "SOC_min  = jvalue(vars[\"SOC_min\"])\n",
    "SOC_max  = jvalue(vars[\"SOC_max\"])\n",
    "SOC_init = jvalue(vars[\"SOC_init\"])\n",
    "Cap_bat  = jvalue(vars[\"Cap_bat\"])\n",
    "P_dies_max = jvalue(vars[\"P_dies_max\"])\n",
    "P_dies_min = jvalue(vars[\"P_dies_min\"])\n",
    "P_PV_inst = jvalue(vars[\"P_PV_inst\"])\n",
    "\n",
    "delta_t = jvalue(vars[\"delta_t\"]) # 1 min\n",
    "\n",
    "# f_min = -100000\n",
    "f_min = jvalue(vars[\"f_min\"])\n",
    "theta_i = jvalue(vars[\"theta_i\"])\n",
    "theta_d = jvalue(vars[\"theta_d\"])\n",
    "theta_b = jvalue(vars[\"theta_b\"])\n",
    "theta_p = jvalue(vars[\"theta_p\"])\n",
    "\n",
    "U_min_def = jvalue(vars[\"U_min_def\"])\n",
    "\n",
    "psi_min_i = jvalue(vars[\"psi_min_i\"])\n",
    "psi_min_d = jvalue(vars[\"psi_min_d\"])\n",
    "psi_min_p = jvalue(vars[\"psi_min_p\"])\n",
    "psi_min_b = jvalue(vars[\"psi_min_b\"])\n",
    "psi_min_c = jvalue(vars[\"psi_min_c\"])    \n",
    "\n",
    "psi_loss_i = jvalue(vars[\"psi_loss_i\"])\n",
    "psi_loss_d = jvalue(vars[\"psi_loss_d\"])\n",
    "psi_loss_p = jvalue(vars[\"psi_loss_p\"])\n",
    "psi_loss_b = jvalue(vars[\"psi_loss_b\"])\n",
    "psi_loss_c = jvalue(vars[\"psi_loss_c\"])\n",
    "\n",
    "marge_dies = jvalue(vars[\"marge_dies\"])\n",
    "\n",
    "L_PV = jvalue(vars[\"L_PV\"]) # generated PV scenarios\n",
    "L_C  = jvalue(vars[\"L_C\"]) # generated load scenarios\n",
    "\n",
    "# Defining iterators:\n",
    "ts  = 1:N_EMS\n",
    "ps  = 1:N_intra\n",
    "ds  = 1:N_dies\n",
    "ss  = 1:N_scen\n",
    "m1s = 1:N_firm\n",
    "m2s = (N_firm+1):N_EMS\n"
   ]
  },
  {
   "cell_type": "code",
   "execution_count": 4,
   "metadata": {},
   "outputs": [],
   "source": [
    "## Variable definitions:\n",
    "\n",
    "@variables m begin\n",
    "    \n",
    "    # Battery variables:\n",
    "    P_bat_min <= P_bat_set[t=ts,p=ps]  <= P_bat_max # Battery setpoint for time t,p (decision var.)\n",
    "    0 <= P_bat_cha[t=ts,p=ps] <= P_bat_max\n",
    "    0 <= P_bat_dis[t=ts,p=ps] <= P_bat_max\n",
    "    X_bat[t=ts,p=ps], Bin                           # Operating mode indicator (decision var.)\n",
    "                                                    # -> P_bat_set = 2*(X_bat-0.5)*P_bat_abs\n",
    "    SOC_min <= SOC_bat[t=ts,p=ps] <= SOC_max        # Obtained SOC for time t,p (solution var.)\n",
    "    \n",
    "    # PV Plant:\n",
    "    0 <= P_PV_set[t=ts,p=ps]  <= P_PV_inst          # PV setpoint variable (decision var.)\n",
    "    0 <= P_PV[t=ts,p=ps,s=ss] <= L_PV[t,p,s]        # Actual PV generation (solution var.)\n",
    "    \n",
    "    # Diesel Generators:\n",
    "    ON_dies[t=ts,d=ds], Bin                         # Dies. connectin setpoint (decision var.)\n",
    "    0 <= P_dies[t=ts,p=ps,s=ss,d=ds] <= P_dies_max  # Actual dies. generation  (solution var.)\n",
    "    # P_dies_min <= P_dies[t=ts,p=ps,s=ss,d=ds] <= P_dies_max # Actual dies. generation  (solution var.)\n",
    "    \n",
    "end\n",
    "\n",
    "# print(m)\n"
   ]
  },
  {
   "cell_type": "code",
   "execution_count": 5,
   "metadata": {
    "collapsed": true
   },
   "outputs": [],
   "source": [
    "### Initialize variables from previous optimization:\n",
    "\n",
    "# if my_int>1\n",
    "    \n",
    "#     vars = read_matfile(\"../../Data/Generated Data/5 - Optimization/solutions/sol_\"*dec(my_int-1)*\".mat\")\n",
    "\n",
    "#     P_bat_set_pre = jvalue(vars[\"P_bat_set\"])[2:N_EMS,ps]\n",
    "#     SOC_bat_pre   = jvalue(vars[\"SOC_bat\"])[2:N_EMS,ps]\n",
    "#     P_PV_set_pre  = jvalue(vars[\"P_PV_set\"])[2:N_EMS,ps]\n",
    "#     P_PV_pre      = jvalue(vars[\"P_PV\"])[2:N_EMS,ps,ss]\n",
    "#     ON_dies_pre   = jvalue(vars[\"ON_dies\"])[2:N_EMS,ds]\n",
    "#     P_dies_pre    = jvalue(vars[\"P_dies\"])[2:N_EMS,ps,ss,ds]\n",
    "#     P_bat_cha_pre = jvalue(vars[\"P_bat_cha\"])[2:N_EMS,ps]\n",
    "#     P_bat_dis_pre = jvalue(vars[\"P_bat_dis\"])[2:N_EMS,ps]\n",
    "#     X_bat_pre     = jvalue(vars[\"X_bat\"])[2:N_EMS,ps]\n",
    "\n",
    "#     setvalue(P_bat_set[1:(N_EMS-1),ps],P_bat_set_pre)\n",
    "#     setvalue(SOC_bat[1:(N_EMS-1),ps],SOC_bat_pre)\n",
    "#     setvalue(P_PV_set[1:(N_EMS-1),ps],P_PV_set_pre)\n",
    "#     setvalue(P_PV[1:(N_EMS-1),ps,ss],P_PV_pre)\n",
    "#     setvalue(ON_dies[1:(N_EMS-1),ds],ON_dies_pre)\n",
    "#     setvalue(P_dies[1:(N_EMS-1),ps,ss,ds],P_dies_pre)\n",
    "#     setvalue(P_bat_cha[1:(N_EMS-1),ps],P_bat_cha_pre)\n",
    "#     setvalue(P_bat_dis[1:(N_EMS-1),ps],P_bat_dis_pre)\n",
    "#     setvalue(X_bat[1:(N_EMS-1),ps],X_bat_pre)\n",
    "\n",
    "# end"
   ]
  },
  {
   "cell_type": "code",
   "execution_count": 6,
   "metadata": {
    "scrolled": true
   },
   "outputs": [],
   "source": [
    "@constraints m begin\n",
    "    \n",
    "    # Constraints:\n",
    "    #\n",
    "    # A1 - Diesel power limitation\n",
    "    # A2 - Diesel power limitation\n",
    "    # B1 - Power balance equation\n",
    "    # C1 - PV setpoint limitation\n",
    "    # D1 - Bat. setpoint equation\n",
    "    # D2 - Charging    mode const.\n",
    "    # D3 - Discharging mode const.\n",
    "    # E1 - FIRM    Diesel reserve margin (separated over scenarios)\n",
    "    # E2 - RELAXED Diesel reserve margin (mean over scenarios)\n",
    "    # F1 - \n",
    "    # F2 - SOC limitations\n",
    "    # F3 - \n",
    "    # G1 - Minimum frequency limitation\n",
    "    # X1 - Minimum voltage   limitation\n",
    "    \n",
    "    A1[t=ts,p=ps,s=ss,d=ds], P_dies[t,p,s,d] <= ON_dies[t,d]*(P_dies_max)\n",
    "    A2[t=ts,p=ps,s=ss,d=ds], P_dies[t,p,s,d] >= ON_dies[t,d]*(P_dies_min)\n",
    "    \n",
    "    # B1[t=ts,p=ps,s=ss], (P_PV[t,p,s] + sum(P_dies[t,p,s,d] for d=ds) + P_bat_set[t,p] - L_C[t,p,s]) == 0\n",
    "    B1[t=ts,p=ps,s=ss], (P_PV[t,p,s]*(1-psi_loss_p) + sum((P_dies[t,p,s,d] - psi_loss_d*1e3*ON_dies[t,d]) for d=ds) + P_bat_set[t,p]*(1-psi_loss_b) - L_C[t,p,s]*(1+psi_loss_c) - psi_loss_i*1e3) == 0\n",
    "    \n",
    "    C1[t=ts,p=ps,s=ss],  P_PV[t,p,s] <= P_PV_set[t,p]\n",
    "    \n",
    "    D1[t=ts,p=ps], P_bat_set[t,p] == P_bat_cha[t,p] - P_bat_dis[t,p]\n",
    "    D2[t=ts,p=ps], P_bat_cha[t,p] <= P_bat_max *    X_bat[t,p]\n",
    "    D3[t=ts,p=ps], P_bat_dis[t,p] <= P_bat_max * (1-X_bat[t,p])\n",
    "    \n",
    "    # E1[t=ts,p=ps,s=ss],  sum(P_dies[t,p,s,d] for d=ds) <= sum((ON_dies[t,d]*P_dies_max) for d=ds) - marge_dies\n",
    "    E1[t=m1s,p=ps,s=ss],  sum(P_dies[t,p,s,d] for d=ds) <= sum((ON_dies[t,d]*P_dies_max) for d=ds) - marge_dies\n",
    "    E2[t=m2s,p=ps],  sum(P_dies[t,p,s,d] for d=ds,s=ss)/N_scen <= sum((ON_dies[t,d]*P_dies_max) for d=ds) - marge_dies\n",
    "    \n",
    "    F1[t=1,p=1],               SOC_bat[t,p] == SOC_init             - P_bat_set[t,p]*delta_t/Cap_bat\n",
    "    F2[t=2:N_EMS,p=1],         SOC_bat[t,p] == SOC_bat[t-1,N_intra] - P_bat_set[t,p]*delta_t/Cap_bat\n",
    "    F3[t=1:N_EMS,p=2:N_intra], SOC_bat[t,p] == SOC_bat[t,p-1]       - P_bat_set[t,p]*delta_t/Cap_bat\n",
    "\n",
    "    G1[t=ts,p=ps], f_min <= theta_i + theta_d*sum(ON_dies[t,d] for d=ds) + theta_b*P_bat_set[t,p] + theta_p*P_PV_set[t,p]\n",
    "    \n",
    "    X1[t=ts,p=ps,s=ss], psi_min_i + sum((psi_min_d*ON_dies[t,d]) for d=ds) + psi_min_p*1e-3*P_PV[t,p,s] + psi_min_b*1e-3*P_bat_set[t,p] + psi_min_c*1e-3*L_C[t,p,s] >= U_min_def\n",
    "    \n",
    "end\n",
    "\n",
    "# print(m)"
   ]
  },
  {
   "cell_type": "code",
   "execution_count": 7,
   "metadata": {},
   "outputs": [],
   "source": [
    "# @objective(m, Max, sum(P_PV[t,p,s] for t=ts,p=ps,s=ss) - sum(N_scen*(1-eta_bat)*(P_bat_cha[t,p]+P_bat_dis[t,p]) for t=ts,p=ps) );\n",
    "\n",
    "# Adding sum of ON_dies - to minimize their utilization:\n",
    "# @objective(m, Max, sum((sum(P_PV[t,p,s] for s=ss)-N_scen*(1-eta_bat)*(P_bat_cha[t,p]+P_bat_dis[t,p])) for t=ts,p=ps) - sum(ON_dies[t,d] for t=ts,d=ds));\n",
    "\n",
    "@objective(m, Max, sum((sum(P_PV[t,p,s] for s=ss)-N_scen*(1-eta_bat)*(P_bat_cha[t,p]+P_bat_dis[t,p])) for t=ts,p=ps));\n"
   ]
  },
  {
   "cell_type": "code",
   "execution_count": 8,
   "metadata": {},
   "outputs": [
    {
     "name": "stdout",
     "output_type": "stream",
     "text": [
      "Academic license - for non-commercial use only\r\n",
      "Optimize a model with 203760 rows, 103392 columns and 794879 nonzeros\r\n",
      "Variable types: 100800 continuous, 2592 integer (2592 binary)\r\n",
      "Coefficient statistics:\r\n",
      "  Matrix range     [8e-08, 2e+03]\r\n",
      "  Objective range  [3e-01, 1e+00]\r\n",
      "  Bounds range     [1e+00, 2e+04]\r\n",
      "  RHS range        [1e-06, 1e+04]\r\n",
      "Presolve removed 7958 rows and 4410 columns\r\n",
      "Presolve time: 1.95s\r\n",
      "Presolved: 195802 rows, 98982 columns, 723957 nonzeros\r\n",
      "Variable types: 96396 continuous, 2586 integer (2586 binary)\r\n",
      "\r\n",
      "Root simplex log...\r\n",
      "\r\n",
      "Iteration    Objective       Primal Inf.    Dual Inf.      Time\r\n",
      "   25230    1.7939717e+07   1.466326e+06   0.000000e+00      5s\r\n",
      "   58890    1.7575255e+07   8.240881e+05   0.000000e+00     10s\r\n",
      "   88919    1.7129414e+07   5.100046e+05   0.000000e+00     15s\r\n",
      "  111540    1.6755723e+07   2.887876e+05   0.000000e+00     20s\r\n",
      "  133648    1.5893733e+07   1.262971e+05   0.000000e+00     25s\r\n",
      "  154837    1.3816679e+07   4.667134e+06   0.000000e+00     30s\r\n",
      "  162051    1.3816679e+07   3.220791e+04   0.000000e+00     36s\r\n",
      "  163745    1.3816683e+07   0.000000e+00   0.000000e+00     37s\r\n",
      "\r\n",
      "Root relaxation: objective 1.381668e+07, 163745 iterations, 33.35 seconds\r\n",
      "Total elapsed time = 40.11s\r\n",
      "\r\n",
      "    Nodes    |    Current Node    |     Objective Bounds      |     Work\r\n",
      " Expl Unexpl |  Obj  Depth IntInf | Incumbent    BestBd   Gap | It/Node Time\r\n",
      "\r\n",
      "     0     0 1.3817e+07    0   33          - 1.3817e+07      -     -   40s\r\n",
      "H    0     0                    1.378542e+07 1.3817e+07  0.23%     -   41s\r\n",
      "     0     0 1.3786e+07    0    5 1.3785e+07 1.3786e+07  0.00%     -   45s\r\n",
      "\r\n",
      "Cutting planes:\r\n",
      "  MIR: 164\r\n",
      "  StrongCG: 29\r\n",
      "  Flow cover: 95\r\n",
      "\r\n",
      "Explored 1 nodes (181425 simplex iterations) in 45.30 seconds\r\n",
      "Thread count was 4 (of 4 available processors)\r\n",
      "\r\n",
      "Solution count 1: 1.37854e+07 \r\n",
      "\r\n",
      "Optimal solution found (tolerance 1.00e-04)\r\n",
      "Best objective 1.378542144032e+07, best bound 1.378570097449e+07, gap 0.0020%\r\n"
     ]
    },
    {
     "data": {
      "text/plain": [
       ":Optimal"
      ]
     },
     "execution_count": 8,
     "metadata": {},
     "output_type": "execute_result"
    }
   ],
   "source": [
    "status = solve(m)"
   ]
  },
  {
   "cell_type": "code",
   "execution_count": 9,
   "metadata": {},
   "outputs": [],
   "source": [
    "write_matfile(\"../../Data/Generated Data/5 - Optimization/solutions/sol_0_test.mat\"; \n",
    "# write_matfile(\"../../Data/Generated Data/5 - Optimization/solutions/sol_\"*dec(interval)*\".mat\"; \n",
    "    status    = string(status),\n",
    "    interval  = interval,\n",
    "    P_bat_set = getvalue(P_bat_set[:,:]), \n",
    "    SOC_bat   = getvalue(SOC_bat[:,:]),\n",
    "    P_PV_set  = getvalue(P_PV_set[:,:]),\n",
    "    P_PV      = getvalue(P_PV[:,:,:]),\n",
    "    ON_dies   = getvalue(ON_dies[:,:]),\n",
    "    P_dies    = getvalue(P_dies[:,:,:,:]),\n",
    "    P_bat_cha = getvalue(P_bat_cha[:,:]),\n",
    "    P_bat_dis = getvalue(P_bat_dis[:,:]),\n",
    "    X_bat     = getvalue(X_bat[:,:]))"
   ]
  },
  {
   "cell_type": "code",
   "execution_count": 10,
   "metadata": {},
   "outputs": [
    {
     "data": {
      "text/plain": [
       "\"Optimal\""
      ]
     },
     "execution_count": 10,
     "metadata": {},
     "output_type": "execute_result"
    }
   ],
   "source": [
    "# string(status)==\"Optimal\"     -> Optimal solution found\n",
    "# string(status)==\"UserLimit\"   -> Reached Time Limit\n",
    "# string(status)==\"Infeasible\"  -> Infeasible (no sol found)\n",
    "string(status)\n",
    "# a = \"test_\"*dec(interval)*\".mat\""
   ]
  },
  {
   "cell_type": "code",
   "execution_count": null,
   "metadata": {
    "collapsed": true
   },
   "outputs": [],
   "source": []
  }
 ],
 "metadata": {
  "kernelspec": {
   "display_name": "Julia 0.6.0",
   "language": "julia",
   "name": "julia-0.6"
  },
  "language_info": {
   "file_extension": ".jl",
   "mimetype": "application/julia",
   "name": "julia",
   "version": "0.6.0"
  }
 },
 "nbformat": 4,
 "nbformat_minor": 2
}
