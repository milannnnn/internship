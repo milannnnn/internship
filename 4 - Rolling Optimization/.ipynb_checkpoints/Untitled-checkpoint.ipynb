{
 "cells": [
  {
   "cell_type": "code",
   "execution_count": 4,
   "metadata": {},
   "outputs": [
    {
     "name": "stderr",
     "output_type": "stream",
     "text": [
      "Warning message in lapply(y, as.numeric):\n",
      "\"NAs introduced by coercion\""
     ]
    },
    {
     "data": {
      "text/html": [
       "<table>\n",
       "<thead><tr><th scope=col>num.dies</th><th scope=col>P.bat</th><th scope=col>P.pv.curt</th><th scope=col>f.min</th></tr></thead>\n",
       "<tbody>\n",
       "\t<tr><td>9       </td><td>5e+05   </td><td>3e+06   </td><td>49.91495</td></tr>\n",
       "\t<tr><td>9       </td><td>5e+05   </td><td>3e+06   </td><td>49.91495</td></tr>\n",
       "\t<tr><td>9       </td><td>5e+05   </td><td>3e+06   </td><td>49.91495</td></tr>\n",
       "\t<tr><td>9       </td><td>5e+05   </td><td>3e+06   </td><td>49.91495</td></tr>\n",
       "\t<tr><td>9       </td><td>5e+05   </td><td>2e+06   </td><td>49.95038</td></tr>\n",
       "\t<tr><td>9       </td><td>5e+05   </td><td>2e+06   </td><td>49.95038</td></tr>\n",
       "\t<tr><td>9       </td><td>5e+05   </td><td>2e+06   </td><td>49.95038</td></tr>\n",
       "\t<tr><td>9       </td><td>5e+05   </td><td>2e+06   </td><td>49.95038</td></tr>\n",
       "\t<tr><td>9       </td><td>5e+05   </td><td>2e+06   </td><td>49.95038</td></tr>\n",
       "\t<tr><td>9       </td><td>5e+05   </td><td>2e+06   </td><td>49.95038</td></tr>\n",
       "\t<tr><td>9       </td><td>5e+05   </td><td>2e+06   </td><td>49.95038</td></tr>\n",
       "\t<tr><td>9       </td><td>5e+05   </td><td>2e+06   </td><td>49.95038</td></tr>\n",
       "\t<tr><td>9       </td><td>5e+05   </td><td>2e+06   </td><td>49.95038</td></tr>\n",
       "\t<tr><td>9       </td><td>1e+06   </td><td>4e+06   </td><td>49.72379</td></tr>\n",
       "\t<tr><td>9       </td><td>1e+06   </td><td>4e+06   </td><td>49.72379</td></tr>\n",
       "\t<tr><td>9       </td><td>1e+06   </td><td>4e+06   </td><td>49.72379</td></tr>\n",
       "\t<tr><td>9       </td><td>1e+06   </td><td>4e+06   </td><td>49.72379</td></tr>\n",
       "\t<tr><td>9       </td><td>1e+06   </td><td>4e+06   </td><td>49.72379</td></tr>\n",
       "\t<tr><td>9       </td><td>1e+06   </td><td>4e+06   </td><td>49.72379</td></tr>\n",
       "\t<tr><td>9       </td><td>1e+06   </td><td>4e+06   </td><td>49.72379</td></tr>\n",
       "\t<tr><td>9       </td><td>1e+06   </td><td>4e+06   </td><td>49.72379</td></tr>\n",
       "\t<tr><td>9       </td><td>1e+06   </td><td>4e+06   </td><td>49.72379</td></tr>\n",
       "\t<tr><td>9       </td><td>1e+06   </td><td>3e+06   </td><td>49.76271</td></tr>\n",
       "\t<tr><td>9       </td><td>1e+06   </td><td>3e+06   </td><td>49.76271</td></tr>\n",
       "\t<tr><td>9       </td><td>1e+06   </td><td>3e+06   </td><td>49.76271</td></tr>\n",
       "\t<tr><td>9       </td><td>1e+06   </td><td>3e+06   </td><td>49.76271</td></tr>\n",
       "\t<tr><td>9       </td><td>1e+06   </td><td>3e+06   </td><td>49.76271</td></tr>\n",
       "\t<tr><td>9       </td><td>1e+06   </td><td>3e+06   </td><td>49.76271</td></tr>\n",
       "\t<tr><td>9       </td><td>1e+06   </td><td>3e+06   </td><td>49.76271</td></tr>\n",
       "\t<tr><td>9       </td><td>1e+06   </td><td>3e+06   </td><td>49.76271</td></tr>\n",
       "\t<tr><td>9       </td><td>1e+06   </td><td>3e+06   </td><td>49.76271</td></tr>\n",
       "</tbody>\n",
       "</table>\n"
      ],
      "text/latex": [
       "\\begin{tabular}{llll}\n",
       " num.dies & P.bat & P.pv.curt & f.min\\\\\n",
       "\\hline\n",
       "\t 9        & 5e+05    & 3e+06    & 49.91495\\\\\n",
       "\t 9        & 5e+05    & 3e+06    & 49.91495\\\\\n",
       "\t 9        & 5e+05    & 3e+06    & 49.91495\\\\\n",
       "\t 9        & 5e+05    & 3e+06    & 49.91495\\\\\n",
       "\t 9        & 5e+05    & 2e+06    & 49.95038\\\\\n",
       "\t 9        & 5e+05    & 2e+06    & 49.95038\\\\\n",
       "\t 9        & 5e+05    & 2e+06    & 49.95038\\\\\n",
       "\t 9        & 5e+05    & 2e+06    & 49.95038\\\\\n",
       "\t 9        & 5e+05    & 2e+06    & 49.95038\\\\\n",
       "\t 9        & 5e+05    & 2e+06    & 49.95038\\\\\n",
       "\t 9        & 5e+05    & 2e+06    & 49.95038\\\\\n",
       "\t 9        & 5e+05    & 2e+06    & 49.95038\\\\\n",
       "\t 9        & 5e+05    & 2e+06    & 49.95038\\\\\n",
       "\t 9        & 1e+06    & 4e+06    & 49.72379\\\\\n",
       "\t 9        & 1e+06    & 4e+06    & 49.72379\\\\\n",
       "\t 9        & 1e+06    & 4e+06    & 49.72379\\\\\n",
       "\t 9        & 1e+06    & 4e+06    & 49.72379\\\\\n",
       "\t 9        & 1e+06    & 4e+06    & 49.72379\\\\\n",
       "\t 9        & 1e+06    & 4e+06    & 49.72379\\\\\n",
       "\t 9        & 1e+06    & 4e+06    & 49.72379\\\\\n",
       "\t 9        & 1e+06    & 4e+06    & 49.72379\\\\\n",
       "\t 9        & 1e+06    & 4e+06    & 49.72379\\\\\n",
       "\t 9        & 1e+06    & 3e+06    & 49.76271\\\\\n",
       "\t 9        & 1e+06    & 3e+06    & 49.76271\\\\\n",
       "\t 9        & 1e+06    & 3e+06    & 49.76271\\\\\n",
       "\t 9        & 1e+06    & 3e+06    & 49.76271\\\\\n",
       "\t 9        & 1e+06    & 3e+06    & 49.76271\\\\\n",
       "\t 9        & 1e+06    & 3e+06    & 49.76271\\\\\n",
       "\t 9        & 1e+06    & 3e+06    & 49.76271\\\\\n",
       "\t 9        & 1e+06    & 3e+06    & 49.76271\\\\\n",
       "\t 9        & 1e+06    & 3e+06    & 49.76271\\\\\n",
       "\\end{tabular}\n"
      ],
      "text/markdown": [
       "\n",
       "num.dies | P.bat | P.pv.curt | f.min | \n",
       "|---|---|---|---|---|---|---|---|---|---|---|---|---|---|---|---|---|---|---|---|---|---|---|---|---|---|---|---|---|---|---|\n",
       "| 9        | 5e+05    | 3e+06    | 49.91495 | \n",
       "| 9        | 5e+05    | 3e+06    | 49.91495 | \n",
       "| 9        | 5e+05    | 3e+06    | 49.91495 | \n",
       "| 9        | 5e+05    | 3e+06    | 49.91495 | \n",
       "| 9        | 5e+05    | 2e+06    | 49.95038 | \n",
       "| 9        | 5e+05    | 2e+06    | 49.95038 | \n",
       "| 9        | 5e+05    | 2e+06    | 49.95038 | \n",
       "| 9        | 5e+05    | 2e+06    | 49.95038 | \n",
       "| 9        | 5e+05    | 2e+06    | 49.95038 | \n",
       "| 9        | 5e+05    | 2e+06    | 49.95038 | \n",
       "| 9        | 5e+05    | 2e+06    | 49.95038 | \n",
       "| 9        | 5e+05    | 2e+06    | 49.95038 | \n",
       "| 9        | 5e+05    | 2e+06    | 49.95038 | \n",
       "| 9        | 1e+06    | 4e+06    | 49.72379 | \n",
       "| 9        | 1e+06    | 4e+06    | 49.72379 | \n",
       "| 9        | 1e+06    | 4e+06    | 49.72379 | \n",
       "| 9        | 1e+06    | 4e+06    | 49.72379 | \n",
       "| 9        | 1e+06    | 4e+06    | 49.72379 | \n",
       "| 9        | 1e+06    | 4e+06    | 49.72379 | \n",
       "| 9        | 1e+06    | 4e+06    | 49.72379 | \n",
       "| 9        | 1e+06    | 4e+06    | 49.72379 | \n",
       "| 9        | 1e+06    | 4e+06    | 49.72379 | \n",
       "| 9        | 1e+06    | 3e+06    | 49.76271 | \n",
       "| 9        | 1e+06    | 3e+06    | 49.76271 | \n",
       "| 9        | 1e+06    | 3e+06    | 49.76271 | \n",
       "| 9        | 1e+06    | 3e+06    | 49.76271 | \n",
       "| 9        | 1e+06    | 3e+06    | 49.76271 | \n",
       "| 9        | 1e+06    | 3e+06    | 49.76271 | \n",
       "| 9        | 1e+06    | 3e+06    | 49.76271 | \n",
       "| 9        | 1e+06    | 3e+06    | 49.76271 | \n",
       "| 9        | 1e+06    | 3e+06    | 49.76271 | \n",
       "\n",
       "\n"
      ],
      "text/plain": [
       "      num.dies P.bat P.pv.curt f.min   \n",
       " [1,] 9        5e+05 3e+06     49.91495\n",
       " [2,] 9        5e+05 3e+06     49.91495\n",
       " [3,] 9        5e+05 3e+06     49.91495\n",
       " [4,] 9        5e+05 3e+06     49.91495\n",
       " [5,] 9        5e+05 2e+06     49.95038\n",
       " [6,] 9        5e+05 2e+06     49.95038\n",
       " [7,] 9        5e+05 2e+06     49.95038\n",
       " [8,] 9        5e+05 2e+06     49.95038\n",
       " [9,] 9        5e+05 2e+06     49.95038\n",
       "[10,] 9        5e+05 2e+06     49.95038\n",
       "[11,] 9        5e+05 2e+06     49.95038\n",
       "[12,] 9        5e+05 2e+06     49.95038\n",
       "[13,] 9        5e+05 2e+06     49.95038\n",
       "[14,] 9        1e+06 4e+06     49.72379\n",
       "[15,] 9        1e+06 4e+06     49.72379\n",
       "[16,] 9        1e+06 4e+06     49.72379\n",
       "[17,] 9        1e+06 4e+06     49.72379\n",
       "[18,] 9        1e+06 4e+06     49.72379\n",
       "[19,] 9        1e+06 4e+06     49.72379\n",
       "[20,] 9        1e+06 4e+06     49.72379\n",
       "[21,] 9        1e+06 4e+06     49.72379\n",
       "[22,] 9        1e+06 4e+06     49.72379\n",
       "[23,] 9        1e+06 3e+06     49.76271\n",
       "[24,] 9        1e+06 3e+06     49.76271\n",
       "[25,] 9        1e+06 3e+06     49.76271\n",
       "[26,] 9        1e+06 3e+06     49.76271\n",
       "[27,] 9        1e+06 3e+06     49.76271\n",
       "[28,] 9        1e+06 3e+06     49.76271\n",
       "[29,] 9        1e+06 3e+06     49.76271\n",
       "[30,] 9        1e+06 3e+06     49.76271\n",
       "[31,] 9        1e+06 3e+06     49.76271"
      ]
     },
     "metadata": {},
     "output_type": "display_data"
    }
   ],
   "source": [
    "\n",
    "require(R.matlab)\n",
    "\n",
    "# Reading data \n",
    "data <- readMat(con = '../../Data/Generated Data/4 - Frequency/result_sim.mat')\n",
    "X <- t(data.frame(data[[1]],stringsAsFactors = F))\n",
    "X <- as.data.frame(X,row.names = T)\n",
    "y <- (lapply(X,unlist))\n",
    "z <- lapply(y,as.numeric)\n",
    "j <- matrix(unlist(z), ncol = length(z), byrow = F)\n",
    "cols <- c(2,3,4,6)\n",
    "k <- j[,cols]\n",
    "colnames(k) <- names(X[,cols])\n",
    "k[150:180,]"
   ]
  },
  {
   "cell_type": "code",
   "execution_count": null,
   "metadata": {
    "collapsed": true
   },
   "outputs": [],
   "source": [
    "pairs(j[,cols], labels =  names(X[,cols]))\n",
    "pairs(j[,cols], labels =  colnames(k))"
   ]
  },
  {
   "cell_type": "code",
   "execution_count": null,
   "metadata": {
    "collapsed": true
   },
   "outputs": [],
   "source": [
    "fit <- lm(f.min ~ num.dies + P.bat + P.pv.curt, data=data.frame(k))\n",
    "summary(fit) # show results"
   ]
  },
  {
   "cell_type": "code",
   "execution_count": null,
   "metadata": {
    "collapsed": true
   },
   "outputs": [],
   "source": [
    "# comportament de la variable freq vs variables\n",
    "\n",
    "# observem que la bateria té un comportament lineal per trams, considerem que té efecte dins el \n",
    "# model a partir d'un threshold\n",
    "\n",
    "# Pbat vs f.min \n",
    "n.diesels = 7;\n",
    "pv.curtail = 4e6;\n",
    "\n",
    "k1 <- k[(k[,\"num.dies\"]==n.diesels & k[,\"P.pv.curt\"]==pv.curtail),]\n",
    "\n",
    "# windows()\n",
    "plot(k1[,\"f.min\"],k1[,\"P.bat\"])\n"
   ]
  },
  {
   "cell_type": "code",
   "execution_count": 1,
   "metadata": {},
   "outputs": [
    {
     "name": "stderr",
     "output_type": "stream",
     "text": [
      "Loading required package: R.matlab\n",
      "R.matlab v3.6.1 (2016-10-19) successfully loaded. See ?R.matlab for help.\n",
      "\n",
      "Attaching package: 'R.matlab'\n",
      "\n",
      "The following objects are masked from 'package:base':\n",
      "\n",
      "    getOption, isOpen\n",
      "\n",
      "Warning message in lapply(y, as.numeric):\n",
      "\"NAs introduced by coercion\""
     ]
    },
    {
     "data": {
      "text/html": [
       "<table>\n",
       "<thead><tr><th scope=col>num.dies</th><th scope=col>P.bat</th><th scope=col>P.pv.curt</th><th scope=col>f.min</th></tr></thead>\n",
       "<tbody>\n",
       "\t<tr><td>9       </td><td>-1e+06  </td><td>4e+06   </td><td>49.91563</td></tr>\n",
       "\t<tr><td>9       </td><td>-1e+06  </td><td>4e+06   </td><td>49.91563</td></tr>\n",
       "\t<tr><td>9       </td><td>-1e+06  </td><td>4e+06   </td><td>49.91563</td></tr>\n",
       "\t<tr><td>9       </td><td>-1e+06  </td><td>4e+06   </td><td>49.91563</td></tr>\n",
       "\t<tr><td>9       </td><td>-1e+06  </td><td>4e+06   </td><td>49.91563</td></tr>\n",
       "\t<tr><td>9       </td><td>-1e+06  </td><td>4e+06   </td><td>49.91563</td></tr>\n",
       "\t<tr><td>9       </td><td>-1e+06  </td><td>4e+06   </td><td>49.91563</td></tr>\n",
       "\t<tr><td>9       </td><td>-1e+06  </td><td>3e+06   </td><td>49.92261</td></tr>\n",
       "\t<tr><td>9       </td><td>-1e+06  </td><td>3e+06   </td><td>49.92261</td></tr>\n",
       "\t<tr><td>9       </td><td>-1e+06  </td><td>3e+06   </td><td>49.92261</td></tr>\n",
       "\t<tr><td>9       </td><td>-1e+06  </td><td>3e+06   </td><td>49.92261</td></tr>\n",
       "\t<tr><td>9       </td><td>-1e+06  </td><td>3e+06   </td><td>49.92261</td></tr>\n",
       "\t<tr><td>9       </td><td>-1e+06  </td><td>3e+06   </td><td>49.92261</td></tr>\n",
       "</tbody>\n",
       "</table>\n"
      ],
      "text/latex": [
       "\\begin{tabular}{llll}\n",
       " num.dies & P.bat & P.pv.curt & f.min\\\\\n",
       "\\hline\n",
       "\t 9        & -1e+06   & 4e+06    & 49.91563\\\\\n",
       "\t 9        & -1e+06   & 4e+06    & 49.91563\\\\\n",
       "\t 9        & -1e+06   & 4e+06    & 49.91563\\\\\n",
       "\t 9        & -1e+06   & 4e+06    & 49.91563\\\\\n",
       "\t 9        & -1e+06   & 4e+06    & 49.91563\\\\\n",
       "\t 9        & -1e+06   & 4e+06    & 49.91563\\\\\n",
       "\t 9        & -1e+06   & 4e+06    & 49.91563\\\\\n",
       "\t 9        & -1e+06   & 3e+06    & 49.92261\\\\\n",
       "\t 9        & -1e+06   & 3e+06    & 49.92261\\\\\n",
       "\t 9        & -1e+06   & 3e+06    & 49.92261\\\\\n",
       "\t 9        & -1e+06   & 3e+06    & 49.92261\\\\\n",
       "\t 9        & -1e+06   & 3e+06    & 49.92261\\\\\n",
       "\t 9        & -1e+06   & 3e+06    & 49.92261\\\\\n",
       "\\end{tabular}\n"
      ],
      "text/markdown": [
       "\n",
       "num.dies | P.bat | P.pv.curt | f.min | \n",
       "|---|---|---|---|---|---|---|---|---|---|---|---|---|\n",
       "| 9        | -1e+06   | 4e+06    | 49.91563 | \n",
       "| 9        | -1e+06   | 4e+06    | 49.91563 | \n",
       "| 9        | -1e+06   | 4e+06    | 49.91563 | \n",
       "| 9        | -1e+06   | 4e+06    | 49.91563 | \n",
       "| 9        | -1e+06   | 4e+06    | 49.91563 | \n",
       "| 9        | -1e+06   | 4e+06    | 49.91563 | \n",
       "| 9        | -1e+06   | 4e+06    | 49.91563 | \n",
       "| 9        | -1e+06   | 3e+06    | 49.92261 | \n",
       "| 9        | -1e+06   | 3e+06    | 49.92261 | \n",
       "| 9        | -1e+06   | 3e+06    | 49.92261 | \n",
       "| 9        | -1e+06   | 3e+06    | 49.92261 | \n",
       "| 9        | -1e+06   | 3e+06    | 49.92261 | \n",
       "| 9        | -1e+06   | 3e+06    | 49.92261 | \n",
       "\n",
       "\n"
      ],
      "text/plain": [
       "      num.dies P.bat  P.pv.curt f.min   \n",
       " [1,] 9        -1e+06 4e+06     49.91563\n",
       " [2,] 9        -1e+06 4e+06     49.91563\n",
       " [3,] 9        -1e+06 4e+06     49.91563\n",
       " [4,] 9        -1e+06 4e+06     49.91563\n",
       " [5,] 9        -1e+06 4e+06     49.91563\n",
       " [6,] 9        -1e+06 4e+06     49.91563\n",
       " [7,] 9        -1e+06 4e+06     49.91563\n",
       " [8,] 9        -1e+06 3e+06     49.92261\n",
       " [9,] 9        -1e+06 3e+06     49.92261\n",
       "[10,] 9        -1e+06 3e+06     49.92261\n",
       "[11,] 9        -1e+06 3e+06     49.92261\n",
       "[12,] 9        -1e+06 3e+06     49.92261\n",
       "[13,] 9        -1e+06 3e+06     49.92261"
      ]
     },
     "metadata": {},
     "output_type": "display_data"
    },
    {
     "name": "stderr",
     "output_type": "stream",
     "text": [
      "Warning message in min(x):\n",
      "\"no non-missing arguments to min; returning Inf\"Warning message in max(x):\n",
      "\"no non-missing arguments to max; returning -Inf\"Warning message in min(x):\n",
      "\"no non-missing arguments to min; returning Inf\"Warning message in max(x):\n",
      "\"no non-missing arguments to max; returning -Inf\""
     ]
    },
    {
     "ename": "ERROR",
     "evalue": "Error in plot.window(...): need finite 'xlim' values\n",
     "output_type": "error",
     "traceback": [
      "Error in plot.window(...): need finite 'xlim' values\nTraceback:\n",
      "1. plot(k1[, \"f.min\"], k1[, \"P.bat\"])",
      "2. plot.default(k1[, \"f.min\"], k1[, \"P.bat\"])",
      "3. localWindow(xlim, ylim, log, asp, ...)",
      "4. plot.window(...)"
     ]
    },
    {
     "data": {
      "image/png": "[encoded data removed]",
      "text/plain": [
       "plot without title"
      ]
     },
     "metadata": {},
     "output_type": "display_data"
    },
    {
     "data": {
      "image/png": "[encoded data removed]",
      "text/plain": [
       "plot without title"
      ]
     },
     "metadata": {},
     "output_type": "display_data"
    }
   ],
   "source": [
    "\n",
    "\n",
    "# comportament de la variable freq vs variables\n",
    "\n",
    "# windows()\n",
    "pairs(j[,cols], labels =  names(X[,cols]))\n",
    "pairs(j[,cols], labels =  colnames(k))\n",
    "\n",
    "# observem que la bateria té un comportament lineal per trams, considerem que té efecte dins el \n",
    "# model a partir d'un threshold\n",
    "\n",
    "      # Pbat vs f.min \n",
    "      n.diesels = 7;\n",
    "      pv.curtail = 4e6;\n",
    "      \n",
    "      k1 <- k[(k[,\"num.dies\"]==n.diesels & k[,\"P.pv.curt\"]==pv.curtail),]\n",
    "      \n",
    "      # windows()\n",
    "      plot(k1[,\"f.min\"],k1[,\"P.bat\"])\n",
    "\n",
    "# linear model sense transformacions\n",
    "\n",
    "fit <- lm(f.min ~ num.dies + P.bat + P.pv.curt, data=data.frame(k))\n",
    "summary(fit) # show results\n",
    "\n",
    "# 1) model pels casos en què la bateria té generacions positives\n",
    "\n",
    "k_mod.pos =  k[(k[,\"P.bat\"]>=0),]\n",
    "k_mod.pos =  k_mod.pos[(k_mod.pos[,\"num.dies\"]>=4),]\n",
    "# windows()\n",
    "pairs(k_mod.pos, labels =  names(k_mod.pos))\n",
    "\n",
    "fit.bat.pos <- lm(f.min ~ num.dies + P.bat + P.pv.curt, data=data.frame(k_mod.pos))\n",
    "summary(fit.bat.pos) # show results\n",
    "\n",
    "# windows()\n",
    "plot(predict(fit.bat.pos), col = 3)\n",
    "text(predict(fit.bat.pos),labels=1:length(predict(fit.bat.pos)), cex= 0.7)\n",
    "par(new=T)\n",
    "plot(k_mod.pos[,\"f.min\"], col = 2, axes = F)\n",
    "text(k_mod.pos[,\"f.min\"],labels=1:length(predict(fit.bat.pos)), cex= 0.7)\n",
    "\n",
    "# 2) model pels casos en què la bateria té generacion negatives o zero\n",
    "k_mod.neg =  k[(k[,\"P.bat\"]<0),]\n",
    "# windows()\n",
    "pairs(k_mod.neg, labels =  names(k_mod.neg))\n",
    "\n",
    "fit.bat.neg <- lm(f.min ~ num.dies + P.pv.curt, data=data.frame(k_mod.neg))\n",
    "summary(fit.bat.neg) # show results\n",
    "\n",
    "# windows()\n",
    "plot(predict(fit.bat.neg), col = 3)\n",
    "text(predict(fit.bat.neg),labels=1:length(predict(fit.bat.neg)), cex= 0.7)\n",
    "par(new=T)\n",
    "plot(k_mod.neg[,\"f.min\"], col = 2, axes = F)\n",
    "text(k_mod.neg[,\"f.min\"],labels=1:length(predict(fit.bat.neg)), cex= 0.7)\n",
    "\n"
   ]
  }
 ],
 "metadata": {
  "kernelspec": {
   "display_name": "R",
   "language": "R",
   "name": "ir"
  },
  "language_info": {
   "codemirror_mode": "r",
   "file_extension": ".r",
   "mimetype": "text/x-r-source",
   "name": "R",
   "pygments_lexer": "r",
   "version": "3.4.2"
  }
 },
 "nbformat": 4,
 "nbformat_minor": 2
}
