{
 "cells": [
  {
   "cell_type": "code",
   "execution_count": 14,
   "metadata": {},
   "outputs": [
    {
     "name": "stderr",
     "output_type": "stream",
     "text": [
      "Warning message in lapply(y, as.numeric):\n",
      "\"NAs introduced by coercion\""
     ]
    },
    {
     "data": {
      "text/html": [
       "<table>\n",
       "<thead><tr><th scope=col>num.dies</th><th scope=col>P.bat</th><th scope=col>P.pv.curt</th><th scope=col>f.min</th></tr></thead>\n",
       "<tbody>\n",
       "\t<tr><td> 7      </td><td>-2200000</td><td>1.5e+07 </td><td>49.56247</td></tr>\n",
       "\t<tr><td> 8      </td><td>-2200000</td><td>1.5e+07 </td><td>49.58669</td></tr>\n",
       "\t<tr><td> 9      </td><td>-2200000</td><td>1.5e+07 </td><td>49.60839</td></tr>\n",
       "\t<tr><td>10      </td><td>-2200000</td><td>1.5e+07 </td><td>49.62794</td></tr>\n",
       "\t<tr><td>11      </td><td>-2200000</td><td>1.5e+07 </td><td>49.64571</td></tr>\n",
       "</tbody>\n",
       "</table>\n"
      ],
      "text/latex": [
       "\\begin{tabular}{llll}\n",
       " num.dies & P.bat & P.pv.curt & f.min\\\\\n",
       "\\hline\n",
       "\t  7       & -2200000 & 1.5e+07  & 49.56247\\\\\n",
       "\t  8       & -2200000 & 1.5e+07  & 49.58669\\\\\n",
       "\t  9       & -2200000 & 1.5e+07  & 49.60839\\\\\n",
       "\t 10       & -2200000 & 1.5e+07  & 49.62794\\\\\n",
       "\t 11       & -2200000 & 1.5e+07  & 49.64571\\\\\n",
       "\\end{tabular}\n"
      ],
      "text/markdown": [
       "\n",
       "num.dies | P.bat | P.pv.curt | f.min | \n",
       "|---|---|---|---|---|\n",
       "|  7       | -2200000 | 1.5e+07  | 49.56247 | \n",
       "|  8       | -2200000 | 1.5e+07  | 49.58669 | \n",
       "|  9       | -2200000 | 1.5e+07  | 49.60839 | \n",
       "| 10       | -2200000 | 1.5e+07  | 49.62794 | \n",
       "| 11       | -2200000 | 1.5e+07  | 49.64571 | \n",
       "\n",
       "\n"
      ],
      "text/plain": [
       "     num.dies P.bat    P.pv.curt f.min   \n",
       "[1,]  7       -2200000 1.5e+07   49.56247\n",
       "[2,]  8       -2200000 1.5e+07   49.58669\n",
       "[3,]  9       -2200000 1.5e+07   49.60839\n",
       "[4,] 10       -2200000 1.5e+07   49.62794\n",
       "[5,] 11       -2200000 1.5e+07   49.64571"
      ]
     },
     "metadata": {},
     "output_type": "display_data"
    },
    {
     "data": {
      "image/png": "[encoded data removed]",
      "text/plain": [
       "plot without title"
      ]
     },
     "metadata": {},
     "output_type": "display_data"
    }
   ],
   "source": [
    "rm(list=ls())\n",
    "\n",
    "require(R.matlab)\n",
    "\n",
    "# Reading data \n",
    "# data <- readMat(con = '../../Data/Generated Data/4 - Frequency/result_sim.mat')\n",
    "data <- readMat(con = '../../Data/Generated Data/4 - Frequency/result_sim_v2_50.mat')\n",
    "# t() - transpose matrix\n",
    "X <- t(data.frame(data[[1]],stringsAsFactors = F)) \n",
    "X <- as.data.frame(X,row.names = T)\n",
    "y <- (lapply(X,unlist))\n",
    "z <- lapply(y,as.numeric)\n",
    "j <- matrix(unlist(z), ncol = length(z), byrow = F)\n",
    "cols <- c(2,3,4,6)\n",
    "# cols <- c(2,3,4,6,9)\n",
    "k <- j[,cols]\n",
    "colnames(k) <- names(X[,cols])\n",
    "k[1:5,]\n",
    "\n",
    "# comportament de la variable freq vs variables\n",
    "\n",
    "# windows()\n",
    "pairs(j[,cols], labels =  names(X[,cols]))\n",
    "pairs(j[,cols], labels =  colnames(k))"
   ]
  },
  {
   "cell_type": "code",
   "execution_count": 15,
   "metadata": {},
   "outputs": [
    {
     "data": {
      "text/plain": [
       "\n",
       "Call:\n",
       "lm(formula = f.min ~ num.dies + P.bat + P.pv.curt, data = data.frame(k))\n",
       "\n",
       "Residuals:\n",
       "     Min       1Q   Median       3Q      Max \n",
       "-0.64409 -0.08618  0.00984  0.08923  0.31740 \n",
       "\n",
       "Coefficients:\n",
       "              Estimate Std. Error t value Pr(>|t|)    \n",
       "(Intercept)  4.920e+01  9.301e-03 5290.28   <2e-16 ***\n",
       "num.dies     5.571e-02  1.035e-03   53.83   <2e-16 ***\n",
       "P.bat       -1.247e-07  1.525e-09  -81.77   <2e-16 ***\n",
       "P.pv.curt   -3.330e-08  5.364e-10  -62.09   <2e-16 ***\n",
       "---\n",
       "Signif. codes:  0 '***' 0.001 '**' 0.01 '*' 0.05 '.' 0.1 ' ' 1\n",
       "\n",
       "Residual standard error: 0.1293 on 3558 degrees of freedom\n",
       "Multiple R-squared:  0.7721,\tAdjusted R-squared:  0.772 \n",
       "F-statistic:  4019 on 3 and 3558 DF,  p-value: < 2.2e-16\n"
      ]
     },
     "metadata": {},
     "output_type": "display_data"
    }
   ],
   "source": [
    "# linear model without transformations\n",
    "\n",
    "fit <- lm(f.min ~ num.dies + P.bat + P.pv.curt, data=data.frame(k))\n",
    "# fit <- lm(f.min ~ num.dies + P.bat + P.pv.curt + cons.init, data=data.frame(k))\n",
    "summary(fit) # show results\n"
   ]
  },
  {
   "cell_type": "code",
   "execution_count": 16,
   "metadata": {
    "collapsed": true
   },
   "outputs": [],
   "source": [
    "### OLD:\n",
    "\n",
    "# (Intercept)  4.823e+01  1.934e-02 2493.42   <2e-16 ***\n",
    "# num.dies     1.289e-01  2.173e-03   59.33   <2e-16 ***\n",
    "# P.bat       -2.389e-07  4.445e-09  -53.74   <2e-16 ***\n",
    "# P.pv.curt   -8.417e-08  1.289e-09  -65.30   <2e-16 ***\n",
    "# ---\n",
    "# Signif. codes:  0 '***' 0.001 '**' 0.01 '*' 0.05 '.' 0.1 ' ' 1\n",
    "\n",
    "# Residual standard error: 0.2708 on 2967 degrees of freedom\n",
    "# Multiple R-squared:  0.772,\tAdjusted R-squared:  0.7718 \n",
    "\n",
    "### NEW 50:\n",
    "\n",
    "# (Intercept)  4.927e+01  8.953e-03 5502.71   <2e-16 ***\n",
    "# num.dies     5.181e-02  1.003e-03   51.67   <2e-16 ***\n",
    "# P.bat       -1.207e-07  1.503e-09  -80.31   <2e-16 ***\n",
    "# P.pv.curt   -3.149e-08  5.324e-10  -59.15   <2e-16 ***\n",
    "# ---\n",
    "# Signif. codes:  0 '***' 0.001 '**' 0.01 '*' 0.05 '.' 0.1 ' ' 1\n",
    "\n",
    "# Residual standard error: 0.1284 on 3617 degrees of freedom\n",
    "# Multiple R-squared:  0.7584,\tAdjusted R-squared:  0.7582 \n",
    "\n",
    "### NEW 75:\n",
    "\n",
    "# (Intercept)  4.893e+01  1.499e-02 3264.64   <2e-16 ***\n",
    "# num.dies     6.618e-02  1.655e-03   39.98   <2e-16 ***\n",
    "# P.bat       -1.405e-07  2.061e-09  -68.17   <2e-16 ***\n",
    "# P.pv.curt   -4.812e-08  7.421e-10  -64.84   <2e-16 ***\n",
    "# ---\n",
    "# Signif. codes:  0 '***' 0.001 '**' 0.01 '*' 0.05 '.' 0.1 ' ' 1\n",
    "\n",
    "# Residual standard error: 0.1431 on 2566 degrees of freedom\n",
    "# Multiple R-squared:  0.7889,\tAdjusted R-squared:  0.7886 \n",
    "\n",
    "### NEW 100:\n",
    "\n",
    "# (Intercept)  4.877e+01  3.074e-02 1586.63   <2e-16 ***\n",
    "# num.dies     7.081e-02  3.152e-03   22.46   <2e-16 ***\n",
    "# P.bat       -1.201e-07  2.789e-09  -43.07   <2e-16 ***\n",
    "# P.pv.curt   -8.466e-08  2.723e-09  -31.09   <2e-16 ***\n",
    "# ---\n",
    "# Signif. codes:  0 '***' 0.001 '**' 0.01 '*' 0.05 '.' 0.1 ' ' 1\n",
    "\n",
    "# Residual standard error: 0.1133 on 815 degrees of freedom\n",
    "# Multiple R-squared:  0.7837,\tAdjusted R-squared:  0.7829 \n",
    "\n",
    "### V2 50:\n",
    "\n",
    "# (Intercept)  4.920e+01  9.301e-03 5290.28   <2e-16 ***\n",
    "# num.dies     5.571e-02  1.035e-03   53.83   <2e-16 ***\n",
    "# P.bat       -1.247e-07  1.525e-09  -81.77   <2e-16 ***\n",
    "# P.pv.curt   -3.330e-08  5.364e-10  -62.09   <2e-16 ***\n",
    "# ---\n",
    "# Signif. codes:  0 '***' 0.001 '**' 0.01 '*' 0.05 '.' 0.1 ' ' 1\n",
    "\n",
    "# Residual standard error: 0.1293 on 3558 degrees of freedom\n",
    "# Multiple R-squared:  0.7721,\tAdjusted R-squared:  0.772\n",
    "\n",
    "### V2 100:\n",
    "\n",
    "# (Intercept)  4.876e+01  3.068e-02 1589.42   <2e-16 ***\n",
    "# num.dies     7.114e-02  3.150e-03   22.58   <2e-16 ***\n",
    "# P.bat       -1.193e-07  2.778e-09  -42.94   <2e-16 ***\n",
    "# P.pv.curt   -8.523e-08  2.691e-09  -31.67   <2e-16 ***\n",
    "# ---\n",
    "# Signif. codes:  0 '***' 0.001 '**' 0.01 '*' 0.05 '.' 0.1 ' ' 1\n",
    "\n",
    "# Residual standard error: 0.1133 on 820 degrees of freedom\n",
    "# Multiple R-squared:  0.7838,\tAdjusted R-squared:  0.783 "
   ]
  },
  {
   "cell_type": "code",
   "execution_count": 17,
   "metadata": {},
   "outputs": [
    {
     "data": {
      "text/html": [
       "<table>\n",
       "<tbody>\n",
       "\t<tr><td> 4.920453e+01</td></tr>\n",
       "\t<tr><td> 5.571093e-02</td></tr>\n",
       "\t<tr><td>-1.246728e-07</td></tr>\n",
       "\t<tr><td>-3.330464e-08</td></tr>\n",
       "</tbody>\n",
       "</table>\n"
      ],
      "text/latex": [
       "\\begin{tabular}{l}\n",
       "\t  4.920453e+01\\\\\n",
       "\t  5.571093e-02\\\\\n",
       "\t -1.246728e-07\\\\\n",
       "\t -3.330464e-08\\\\\n",
       "\\end{tabular}\n"
      ],
      "text/markdown": [
       "\n",
       "|  4.920453e+01 | \n",
       "|  5.571093e-02 | \n",
       "| -1.246728e-07 | \n",
       "| -3.330464e-08 | \n",
       "\n",
       "\n"
      ],
      "text/plain": [
       "     [,1]         \n",
       "[1,]  4.920453e+01\n",
       "[2,]  5.571093e-02\n",
       "[3,] -1.246728e-07\n",
       "[4,] -3.330464e-08"
      ]
     },
     "metadata": {},
     "output_type": "display_data"
    }
   ],
   "source": [
    "matrix(fit$coefficients)\n",
    "\n",
    "theta_i = matrix(fit$coefficients)[1];\n",
    "theta_d = matrix(fit$coefficients)[2];\n",
    "theta_b = matrix(fit$coefficients)[3];\n",
    "theta_p = matrix(fit$coefficients)[4];\n",
    "\n",
    "writeMat(theta_i = theta_i, theta_d = theta_d, theta_b = theta_b, theta_p = theta_p, con=\"../../Data/Generated Data/4 - Frequency/theta.mat\")\n"
   ]
  },
  {
   "cell_type": "code",
   "execution_count": null,
   "metadata": {
    "collapsed": true
   },
   "outputs": [],
   "source": []
  },
  {
   "cell_type": "code",
   "execution_count": null,
   "metadata": {
    "collapsed": true
   },
   "outputs": [],
   "source": []
  },
  {
   "cell_type": "code",
   "execution_count": null,
   "metadata": {
    "collapsed": true
   },
   "outputs": [],
   "source": []
  },
  {
   "cell_type": "code",
   "execution_count": null,
   "metadata": {
    "collapsed": true
   },
   "outputs": [],
   "source": []
  }
 ],
 "metadata": {
  "kernelspec": {
   "display_name": "R",
   "language": "R",
   "name": "ir"
  },
  "language_info": {
   "codemirror_mode": "r",
   "file_extension": ".r",
   "mimetype": "text/x-r-source",
   "name": "R",
   "pygments_lexer": "r",
   "version": "3.4.2"
  }
 },
 "nbformat": 4,
 "nbformat_minor": 2
}
