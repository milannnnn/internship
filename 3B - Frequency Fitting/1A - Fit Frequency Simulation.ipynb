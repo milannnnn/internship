{
 "cells": [
  {
   "cell_type": "code",
   "execution_count": 17,
   "metadata": {},
   "outputs": [
    {
     "name": "stderr",
     "output_type": "stream",
     "text": [
      "Warning message in lapply(y, as.numeric):\n",
      "\"NAs introduced by coercion\""
     ]
    },
    {
     "data": {
      "text/html": [
       "<table>\n",
       "<thead><tr><th scope=col>num.dies</th><th scope=col>P.bat</th><th scope=col>P.pv.curt</th><th scope=col>f.min</th></tr></thead>\n",
       "<tbody>\n",
       "\t<tr><td>12      </td><td>-2200000</td><td>15000000</td><td>49.18623</td></tr>\n",
       "\t<tr><td>12      </td><td>-2200000</td><td>14750000</td><td>49.18626</td></tr>\n",
       "\t<tr><td>12      </td><td>-2200000</td><td>14500000</td><td>49.18623</td></tr>\n",
       "\t<tr><td>12      </td><td>-2200000</td><td>14250000</td><td>49.18623</td></tr>\n",
       "\t<tr><td>12      </td><td>-2200000</td><td>14000000</td><td>49.18623</td></tr>\n",
       "</tbody>\n",
       "</table>\n"
      ],
      "text/latex": [
       "\\begin{tabular}{llll}\n",
       " num.dies & P.bat & P.pv.curt & f.min\\\\\n",
       "\\hline\n",
       "\t 12       & -2200000 & 15000000 & 49.18623\\\\\n",
       "\t 12       & -2200000 & 14750000 & 49.18626\\\\\n",
       "\t 12       & -2200000 & 14500000 & 49.18623\\\\\n",
       "\t 12       & -2200000 & 14250000 & 49.18623\\\\\n",
       "\t 12       & -2200000 & 14000000 & 49.18623\\\\\n",
       "\\end{tabular}\n"
      ],
      "text/markdown": [
       "\n",
       "num.dies | P.bat | P.pv.curt | f.min | \n",
       "|---|---|---|---|---|\n",
       "| 12       | -2200000 | 15000000 | 49.18623 | \n",
       "| 12       | -2200000 | 14750000 | 49.18626 | \n",
       "| 12       | -2200000 | 14500000 | 49.18623 | \n",
       "| 12       | -2200000 | 14250000 | 49.18623 | \n",
       "| 12       | -2200000 | 14000000 | 49.18623 | \n",
       "\n",
       "\n"
      ],
      "text/plain": [
       "     num.dies P.bat    P.pv.curt f.min   \n",
       "[1,] 12       -2200000 15000000  49.18623\n",
       "[2,] 12       -2200000 14750000  49.18626\n",
       "[3,] 12       -2200000 14500000  49.18623\n",
       "[4,] 12       -2200000 14250000  49.18623\n",
       "[5,] 12       -2200000 14000000  49.18623"
      ]
     },
     "metadata": {},
     "output_type": "display_data"
    },
    {
     "data": {
      "image/png": "[encoded data removed]",
      "text/plain": [
       "plot without title"
      ]
     },
     "metadata": {},
     "output_type": "display_data"
    }
   ],
   "source": [
    "rm(list=ls())\n",
    "\n",
    "require(R.matlab)\n",
    "\n",
    "# Reading data \n",
    "data <- readMat(con = '../../Data/Generated Data/4 - Frequency/result_sim.mat')\n",
    "# data <- readMat(con = '../../Data/Generated Data/4 - Frequency/result_sim_backup.mat')\n",
    "# t() - transpose matrix\n",
    "X <- t(data.frame(data[[1]],stringsAsFactors = F)) \n",
    "X <- as.data.frame(X,row.names = T)\n",
    "y <- (lapply(X,unlist))\n",
    "z <- lapply(y,as.numeric)\n",
    "j <- matrix(unlist(z), ncol = length(z), byrow = F)\n",
    "cols <- c(2,3,4,6)\n",
    "# cols <- c(2,3,4,6,9)\n",
    "k <- j[,cols]\n",
    "colnames(k) <- names(X[,cols])\n",
    "k[1:5,]\n",
    "\n",
    "# comportament de la variable freq vs variables\n",
    "\n",
    "# windows()\n",
    "pairs(j[,cols], labels =  names(X[,cols]))\n",
    "pairs(j[,cols], labels =  colnames(k))"
   ]
  },
  {
   "cell_type": "code",
   "execution_count": 18,
   "metadata": {},
   "outputs": [
    {
     "data": {
      "text/plain": [
       "\n",
       "Call:\n",
       "lm(formula = f.min ~ num.dies + P.bat + P.pv.curt, data = data.frame(k))\n",
       "\n",
       "Residuals:\n",
       "     Min       1Q   Median       3Q      Max \n",
       "-0.31904 -0.09279  0.00734  0.09581  0.43164 \n",
       "\n",
       "Coefficients:\n",
       "              Estimate Std. Error t value Pr(>|t|)    \n",
       "(Intercept)  4.898e+01  2.345e-02 2088.62   <2e-16 ***\n",
       "num.dies     5.589e-02  2.513e-03   22.24   <2e-16 ***\n",
       "P.bat       -1.093e-07  2.440e-09  -44.78   <2e-16 ***\n",
       "P.pv.curt   -6.416e-08  1.171e-09  -54.80   <2e-16 ***\n",
       "---\n",
       "Signif. codes:  0 '***' 0.001 '**' 0.01 '*' 0.05 '.' 0.1 ' ' 1\n",
       "\n",
       "Residual standard error: 0.1302 on 1407 degrees of freedom\n",
       "Multiple R-squared:  0.7837,\tAdjusted R-squared:  0.7832 \n",
       "F-statistic:  1699 on 3 and 1407 DF,  p-value: < 2.2e-16\n"
      ]
     },
     "metadata": {},
     "output_type": "display_data"
    }
   ],
   "source": [
    "# linear model without transformations\n",
    "\n",
    "fit <- lm(f.min ~ num.dies + P.bat + P.pv.curt, data=data.frame(k))\n",
    "# fit <- lm(f.min ~ num.dies + P.bat + P.pv.curt + cons.init, data=data.frame(k))\n",
    "summary(fit) # show results\n"
   ]
  },
  {
   "cell_type": "code",
   "execution_count": 19,
   "metadata": {
    "collapsed": true
   },
   "outputs": [],
   "source": [
    "# (Intercept)  4.898e+01  2.345e-02 2088.89   <2e-16 ***\n",
    "# num.dies     5.589e-02  2.512e-03   22.24   <2e-16 ***\n",
    "# P.bat       -1.093e-07  2.440e-09  -44.79   <2e-16 ***\n",
    "# P.pv.curt   -6.416e-08  1.171e-09  -54.80   <2e-16 ***\n",
    "# ---\n",
    "# Signif. codes:  0 '***' 0.001 '**' 0.01 '*' 0.05 '.' 0.1 ' ' 1\n",
    "\n",
    "# Residual standard error: 0.1301 on 1407 degrees of freedom\n",
    "# Multiple R-squared:  0.7838,\tAdjusted R-squared:  0.7833 \n",
    "\n",
    "# (Intercept)  4.948e+01  5.127e-02 965.247  < 2e-16 ***\n",
    "# num.dies     2.851e-02  5.716e-03   4.988 3.83e-06 ***\n",
    "# P.bat       -6.774e-08  5.863e-09 -11.554  < 2e-16 ***\n",
    "# P.pv.curt   -2.157e-08  2.344e-09  -9.202 6.15e-14 ***\n",
    "# ---\n",
    "# Signif. codes:  0 '***' 0.001 '**' 0.01 '*' 0.05 '.' 0.1 ' ' 1\n",
    "\n",
    "# Residual standard error: 0.09281 on 75 degrees of freedom\n",
    "# Multiple R-squared:  0.7388,\tAdjusted R-squared:  0.7283 \n",
    "\n",
    "### OLD:\n",
    "\n",
    "# (Intercept)  4.823e+01  1.934e-02 2493.42   <2e-16 ***\n",
    "# num.dies     1.289e-01  2.173e-03   59.33   <2e-16 ***\n",
    "# P.bat       -2.389e-07  4.445e-09  -53.74   <2e-16 ***\n",
    "# P.pv.curt   -8.417e-08  1.289e-09  -65.30   <2e-16 ***\n",
    "# ---\n",
    "# Signif. codes:  0 '***' 0.001 '**' 0.01 '*' 0.05 '.' 0.1 ' ' 1\n",
    "\n",
    "# Residual standard error: 0.2708 on 2967 degrees of freedom\n",
    "# Multiple R-squared:  0.772,\tAdjusted R-squared:  0.7718 \n",
    "\n",
    "### NEW 50:\n",
    "\n",
    "# (Intercept)  4.927e+01  8.953e-03 5502.71   <2e-16 ***\n",
    "# num.dies     5.181e-02  1.003e-03   51.67   <2e-16 ***\n",
    "# P.bat       -1.207e-07  1.503e-09  -80.31   <2e-16 ***\n",
    "# P.pv.curt   -3.149e-08  5.324e-10  -59.15   <2e-16 ***\n",
    "# ---\n",
    "# Signif. codes:  0 '***' 0.001 '**' 0.01 '*' 0.05 '.' 0.1 ' ' 1\n",
    "\n",
    "# Residual standard error: 0.1284 on 3617 degrees of freedom\n",
    "# Multiple R-squared:  0.7584,\tAdjusted R-squared:  0.7582 \n",
    "\n",
    "### NEW 75:\n",
    "\n",
    "# (Intercept)  4.893e+01  1.499e-02 3264.64   <2e-16 ***\n",
    "# num.dies     6.618e-02  1.655e-03   39.98   <2e-16 ***\n",
    "# P.bat       -1.405e-07  2.061e-09  -68.17   <2e-16 ***\n",
    "# P.pv.curt   -4.812e-08  7.421e-10  -64.84   <2e-16 ***\n",
    "# ---\n",
    "# Signif. codes:  0 '***' 0.001 '**' 0.01 '*' 0.05 '.' 0.1 ' ' 1\n",
    "\n",
    "# Residual standard error: 0.1431 on 2566 degrees of freedom\n",
    "# Multiple R-squared:  0.7889,\tAdjusted R-squared:  0.7886 \n",
    "\n",
    "### NEW 100:\n",
    "\n",
    "# (Intercept)  4.877e+01  3.074e-02 1586.63   <2e-16 ***\n",
    "# num.dies     7.081e-02  3.152e-03   22.46   <2e-16 ***\n",
    "# P.bat       -1.201e-07  2.789e-09  -43.07   <2e-16 ***\n",
    "# P.pv.curt   -8.466e-08  2.723e-09  -31.09   <2e-16 ***\n",
    "# ---\n",
    "# Signif. codes:  0 '***' 0.001 '**' 0.01 '*' 0.05 '.' 0.1 ' ' 1\n",
    "\n",
    "# Residual standard error: 0.1133 on 815 degrees of freedom\n",
    "# Multiple R-squared:  0.7837,\tAdjusted R-squared:  0.7829 \n",
    "\n",
    "### V2 50:\n",
    "\n",
    "# (Intercept)  4.920e+01  9.301e-03 5290.28   <2e-16 ***\n",
    "# num.dies     5.571e-02  1.035e-03   53.83   <2e-16 ***\n",
    "# P.bat       -1.247e-07  1.525e-09  -81.77   <2e-16 ***\n",
    "# P.pv.curt   -3.330e-08  5.364e-10  -62.09   <2e-16 ***\n",
    "# ---\n",
    "# Signif. codes:  0 '***' 0.001 '**' 0.01 '*' 0.05 '.' 0.1 ' ' 1\n",
    "\n",
    "# Residual standard error: 0.1293 on 3558 degrees of freedom\n",
    "# Multiple R-squared:  0.7721,\tAdjusted R-squared:  0.772\n",
    "\n",
    "### V2 100:\n",
    "\n",
    "# (Intercept)  4.876e+01  3.068e-02 1589.42   <2e-16 ***\n",
    "# num.dies     7.114e-02  3.150e-03   22.58   <2e-16 ***\n",
    "# P.bat       -1.193e-07  2.778e-09  -42.94   <2e-16 ***\n",
    "# P.pv.curt   -8.523e-08  2.691e-09  -31.67   <2e-16 ***\n",
    "# ---\n",
    "# Signif. codes:  0 '***' 0.001 '**' 0.01 '*' 0.05 '.' 0.1 ' ' 1\n",
    "\n",
    "# Residual standard error: 0.1133 on 820 degrees of freedom\n",
    "# Multiple R-squared:  0.7838,\tAdjusted R-squared:  0.783 "
   ]
  },
  {
   "cell_type": "code",
   "execution_count": 20,
   "metadata": {},
   "outputs": [
    {
     "data": {
      "text/html": [
       "<table>\n",
       "<tbody>\n",
       "\t<tr><td> 4.898276e+01</td></tr>\n",
       "\t<tr><td> 5.588850e-02</td></tr>\n",
       "\t<tr><td>-1.092877e-07</td></tr>\n",
       "\t<tr><td>-6.415854e-08</td></tr>\n",
       "</tbody>\n",
       "</table>\n"
      ],
      "text/latex": [
       "\\begin{tabular}{l}\n",
       "\t  4.898276e+01\\\\\n",
       "\t  5.588850e-02\\\\\n",
       "\t -1.092877e-07\\\\\n",
       "\t -6.415854e-08\\\\\n",
       "\\end{tabular}\n"
      ],
      "text/markdown": [
       "\n",
       "|  4.898276e+01 | \n",
       "|  5.588850e-02 | \n",
       "| -1.092877e-07 | \n",
       "| -6.415854e-08 | \n",
       "\n",
       "\n"
      ],
      "text/plain": [
       "     [,1]         \n",
       "[1,]  4.898276e+01\n",
       "[2,]  5.588850e-02\n",
       "[3,] -1.092877e-07\n",
       "[4,] -6.415854e-08"
      ]
     },
     "metadata": {},
     "output_type": "display_data"
    }
   ],
   "source": [
    "matrix(fit$coefficients)\n",
    "\n",
    "theta_i = matrix(fit$coefficients)[1];\n",
    "theta_d = matrix(fit$coefficients)[2];\n",
    "theta_b = matrix(fit$coefficients)[3];\n",
    "theta_p = matrix(fit$coefficients)[4];\n",
    "\n",
    "writeMat(theta_i = theta_i, theta_d = theta_d, theta_b = theta_b, theta_p = theta_p, con=\"../../Data/Generated Data/4 - Frequency/theta.mat\")\n"
   ]
  },
  {
   "cell_type": "code",
   "execution_count": null,
   "metadata": {
    "collapsed": true
   },
   "outputs": [],
   "source": []
  },
  {
   "cell_type": "code",
   "execution_count": null,
   "metadata": {
    "collapsed": true
   },
   "outputs": [],
   "source": []
  },
  {
   "cell_type": "code",
   "execution_count": null,
   "metadata": {
    "collapsed": true
   },
   "outputs": [],
   "source": []
  },
  {
   "cell_type": "code",
   "execution_count": null,
   "metadata": {
    "collapsed": true
   },
   "outputs": [],
   "source": []
  }
 ],
 "metadata": {
  "kernelspec": {
   "display_name": "R",
   "language": "R",
   "name": "ir"
  },
  "language_info": {
   "codemirror_mode": "r",
   "file_extension": ".r",
   "mimetype": "text/x-r-source",
   "name": "R",
   "pygments_lexer": "r",
   "version": "3.4.2"
  }
 },
 "nbformat": 4,
 "nbformat_minor": 2
}
