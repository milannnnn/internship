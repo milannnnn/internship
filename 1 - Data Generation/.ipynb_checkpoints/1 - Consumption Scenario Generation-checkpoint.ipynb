{
 "cells": [
  {
   "cell_type": "markdown",
   "metadata": {},
   "source": [
    "# Consumption Data Generation:\n",
    "\n",
    "### 0) Script Initialization\n",
    "    A) Workspace and Package Intialization\n",
    "    B) Function Definition\n",
    "\t\n",
    "### 1) Secondly Data Processing\n",
    "    A) Loading Secondly Data\n",
    "    B) Aggregating to 30s, 5min, 30min\n",
    "    C) Calculating Perfect Forecast Error (30min->30s)\n",
    "\t\n",
    "### 2) 5min Data Processing:\n",
    "    A) Loading Data (5min samples)\n",
    "    B) Aggregating Data (5min -> 30min)\n",
    "    C) Fitting the ARIMA model\n",
    "\t\n",
    "### 4) Scenario Generation\n",
    "    A) Initializing the scenario matrices\n",
    "    B) Generating the scenarios for each T_EMS\n",
    "    C) Saving the data\n",
    "__________________________________________________________________________"
   ]
  },
  {
   "cell_type": "markdown",
   "metadata": {},
   "source": [
    "### 0) Script Initialization\n",
    "    A) Workspace and Package Intialization\n",
    "    B) Function Definition"
   ]
  },
  {
   "cell_type": "code",
   "execution_count": 18,
   "metadata": {},
   "outputs": [],
   "source": [
    "# 0.A) Workspace Initialization\n",
    "\n",
    "# Clear the workspace\n",
    "rm(list=ls()) # remove all variables from workspace\n",
    "# set.seed(1)\n",
    "\n",
    "# Parameter initialization:\n",
    "\n",
    "n_scen = 5\n",
    "t.ems = 15           # EMS period in [min]\n",
    "t.ems.seg = 60*t.ems # EMS period in [s]\n",
    "t.int = 1.0          # Intra period in [min]\n",
    "t.int.seg = 60*t.int # Intra period in [s]\n",
    "t.for = 30           # Forecast period in [min]\n",
    "t.for.seg = 60*t.for # Forecast period in [s]\n",
    "\n",
    "my.resolution = t.for/t.ems\n",
    "my.41 = (24*60/t.ems)/my.resolution\n",
    "my.2880 = 24*60/t.int\n",
    "my.288 = 24*60/t.ems\n",
    "\n",
    "\n",
    "# Load packages:\n",
    "require(R.matlab)\n",
    "require(xlsx)\n",
    "require(ggplot2)\n",
    "require(reshape2)\n",
    "require(forecast)\n"
   ]
  },
  {
   "cell_type": "code",
   "execution_count": 19,
   "metadata": {
    "collapsed": true
   },
   "outputs": [],
   "source": [
    "# 0.B) - Function definition:\n",
    "\n",
    "# enlarge: Given a small vector it creates a larger one by repeating its components\n",
    "# small       <- original vector \n",
    "# large.val   <- times we want to multiply it\n",
    "enlarge <- function(small,large.val)\n",
    "{\n",
    "  large <- 0\n",
    "  for(i in 1:length(small)){\n",
    "    large <- c(large,rep(small[i],large.val))\n",
    "  }       \n",
    "  large <- large[-1]\n",
    "  return(large)\n",
    "}\n",
    "\n",
    "# chunk: Given a vector it divides it\n",
    "# x     <- original vector\n",
    "# n     <- number of subvectors generated\n",
    "chunk <- function(x,n) \n",
    "{\n",
    "  split(x, cut(seq_along(x), n, labels = FALSE))\n",
    "}"
   ]
  },
  {
   "cell_type": "markdown",
   "metadata": {},
   "source": [
    "### 1) Secondly Data Processing\n",
    "    A) Loading Secondly Data\n",
    "    B) Aggregating to 30s, 5min, 30min\n",
    "    C) Calculating Perfect Forecast Error (30min->30s)"
   ]
  },
  {
   "cell_type": "code",
   "execution_count": 20,
   "metadata": {},
   "outputs": [],
   "source": [
    "### 1.A) Load secondly data:\n",
    "\n",
    "# Secondly data\n",
    "days = 1\n",
    "h.first = 0\n",
    "h.last = 23\n",
    "\n",
    "for(d in 1:days)\n",
    "{\n",
    "  for(i in h.first:h.last) # hours with interest in terms of radiation\n",
    "  {\n",
    "    # Define interval\n",
    "    ini = i\n",
    "    end = i+1\n",
    "    \n",
    "    # Load data \n",
    "    str = paste('X.data',ini,'_',end,'_',d,' = read.xlsx2(\"../../Data/Original Data/DIA ',d,'/',ini,'_',end,'.xlsx\", sheetName = \"Datos\", header = T, dec=\",\")',sep = '')\n",
    "    eval(parse(text = str))\n",
    "    \n",
    "    # Rename categories\n",
    "    str2 = paste('names(','X.data',ini,'_',end,'_',d,') <- c(\"fecha\",\"p.cons\",\"p.act.pv\",\"p.act.bat\",\"p.act.total\",\"p.disp.pv\")',sep = \"\")\n",
    "    eval(parse(text = str2))\n",
    "  }\n",
    "}\n",
    "# We obtain data in arrays with the name X.Data10_11_1 (hour1_hour2_day)\n",
    "\n",
    "# Obtaining the merged vectors\n",
    "# Consumption\n",
    "cons_seg = c()\n",
    "for(d in 1:days)\n",
    "{\n",
    "  for(i in h.first:h.last) # hours with interest in terms of radiation\n",
    "  {\n",
    "    # Define interval\n",
    "    ini = i\n",
    "    end = i+1\n",
    "    \n",
    "    str = paste('X.data',ini,'_',end,'_',d,'$p.cons <- as.numeric(gsub(\",\",\".\",levels(X.data',ini,'_',end,'_',d,'$p.cons)))[X.data',ini,'_',end,'_',d,'$p.cons]',sep = '')\n",
    "    eval(parse(text = str))\n",
    "    \n",
    "    # Correct missing values\n",
    "    len_final = 3600\n",
    "    str3 = paste('origin = X.data',ini,'_',end,'_',d,'$p.cons',sep = \"\")\n",
    "    eval(parse(text = str3))\n",
    "    \n",
    "    ## Interpolating to a vector of 3600 values, since there are missing values\n",
    "    ## approximate y_fin from x_ini and y_in=origin to for x_fin=xout\n",
    "    \n",
    "    origin <- origin[!is.na(origin)] # same as \"origin <- na.omit(origin)\"\n",
    "    out = approx(0:(length(origin)-1)/(length(origin)-1),origin, xout = 0:(len_final-1)/(len_final-1))\n",
    "    \n",
    "    cons_seg = c(cons_seg,out$y)\n",
    "      \n",
    "    str3 = paste('rm(X.data',ini,'_',end,'_',d,')',sep = \"\")\n",
    "    eval(parse(text = str3))\n",
    "  }\n",
    "}\n",
    "\n",
    "rm(days,h.first,h.last)\n",
    "# plot.ts(ts(cons_seg,frequency = 24*3600))"
   ]
  },
  {
   "cell_type": "code",
   "execution_count": 21,
   "metadata": {
    "collapsed": true
   },
   "outputs": [],
   "source": [
    "### 1.B) Aggregating Secondly Data:\n",
    "\n",
    "# calculate mean 5min consumption (group sec in 5min block, and find mean)\n",
    "cons_seg_5min <- sapply(chunk(cons_seg,length(cons_seg)/t.ems.seg),mean)\n",
    "# calculate mean 30s consumption (from secondly data)\n",
    "cons_seg_30seg <- sapply(chunk(cons_seg,length(cons_seg)/t.int.seg),mean)\n",
    "# calculate mean 30min consumption (from secondly data)\n",
    "cons_seg_for <- sapply(chunk(cons_seg,length(cons_seg)/t.for.seg),mean)\n"
   ]
  },
  {
   "cell_type": "code",
   "execution_count": 22,
   "metadata": {
    "collapsed": true
   },
   "outputs": [],
   "source": [
    "### 1.C) Calculating Perfect Forecast Error (when going from 30min to 30s):\n",
    "\n",
    "cons_perf_for_30seg <- spline(1:length(cons_seg_for), cons_seg_for, n = length(cons_seg_30seg))$y\n",
    "\n",
    "err_cons_30seg_perfect <- cons_seg_30seg-cons_perf_for_30seg\n",
    "mean_err_cons_perf <- mean(err_cons_30seg_perfect)\n",
    "sd_err_cons_perf <- sd(err_cons_30seg_perfect)\n",
    "\n",
    "rm(cons_perf_for_30seg,err_cons_30seg_perfect,mean_err_cons_perf)"
   ]
  },
  {
   "cell_type": "markdown",
   "metadata": {},
   "source": [
    "### 2) 5min Data Processing:\n",
    "    A) Loading Data (5min samples)\n",
    "    B) Aggregating Data (5min -> 30min)\n",
    "    C) Fitting the ARIMA model"
   ]
  },
  {
   "cell_type": "code",
   "execution_count": 23,
   "metadata": {
    "collapsed": true
   },
   "outputs": [],
   "source": [
    "### A) Load 5min data: \n",
    "\n",
    "# Data given with 5min resulotion (only weekdays, no weekends)\n",
    "\n",
    "# Reading data\n",
    "day = c(3:7,10:14,17:21,24:25)\n",
    "month = rep(\"Agost\",length(day))  \n",
    "\n",
    "## Read in the data from CSV files\n",
    "\n",
    "range.interest = 1:288 # Data is given with 5min timestep ((60/5=12)*24)=288\n",
    "cons2.all = c()\n",
    "for(n in 1:length(month))\n",
    "{\n",
    "  # paste() - str convatenation !!!\n",
    "  str = paste('X <- read.table(\"../../Data/Original Data/TS ANALYSIS/',month[n],day[n],'.csv\",header=T, fill = T, sep = \";\")',sep='')\n",
    "  # Parse the above string as an R command\n",
    "  eval(parse(text = str))\n",
    "  # Just keep the last 2 columns (required data)\n",
    "  X <- X[,6:7]\n",
    "  # Name them cons and pv.gen\n",
    "  names(X) <- c(\"cons\",\"pv.gen\")\n",
    "  # Replace , with . (decimal representation) and parse as numeric\n",
    "  X$cons <- as.numeric(gsub(\",\",\".\",levels(X$cons)))[X$cons]\n",
    "  \n",
    "  cons2.all = c(cons2.all,X$cons[range.interest]) # c() - attach to whole vector\n",
    "}\n",
    "\n",
    "cons.ts = cons2.all\n",
    "\n",
    "rm(cons2.all)"
   ]
  },
  {
   "cell_type": "code",
   "execution_count": 24,
   "metadata": {
    "collapsed": true
   },
   "outputs": [],
   "source": [
    "### A2) Load 5min data for the 26th of Aug\n",
    "month = \"Agost\" \n",
    "day = 26\n",
    "cons.ts.26 = c()\n",
    "for(n in 1:length(month))\n",
    "{\n",
    "  str = paste('X <- read.table(\"../../Data/Original Data/DIA ',n,' - 5min/',month[n],day[n],'.csv\",header=T, fill = T, sep = \";\")',sep='')\n",
    "  eval(parse(text = str))\n",
    "  X <- X[,6:7]\n",
    "  names(X) <- c(\"cons\",\"pv.gen\")\n",
    "  X$cons <- as.numeric(gsub(\",\",\".\",levels(X$cons)))[X$cons]\n",
    "  \n",
    "  cons.ts.26 = c(cons.ts.26,X$cons)\n",
    "}\n",
    "rm(month,day,X,str)"
   ]
  },
  {
   "cell_type": "code",
   "execution_count": 25,
   "metadata": {
    "collapsed": true
   },
   "outputs": [],
   "source": [
    "### B) Redefine resolution and convert to time series:\n",
    "\n",
    "## This command redefines cons.ts with cons.ts (1 7 13 ...) - each 30th minute\n",
    "cons.ts = cons.ts[seq(from = 1, to = length(cons.ts), by = my.resolution)]\n",
    "cons.ts.26 = cons.ts.26[seq(from = 1, to = length(cons.ts.26), by = my.resolution)]\n",
    "\n",
    "## creates a time series with a given frequency (number of observations per unit time - 288/7 obs/day)\n",
    "cons.ts = ts(cons.ts, frequency = floor(my.41)) # Originally it was 288 obs/day, but we used 30min spacing => 288/7\n",
    "cons.ts.26 = ts(cons.ts.26, frequency = floor(my.41))\n",
    "# plot.ts(cons.ts)\n"
   ]
  },
  {
   "cell_type": "code",
   "execution_count": 26,
   "metadata": {
    "collapsed": true
   },
   "outputs": [],
   "source": [
    "# C) Model definition (from 2-TS analysis)\n",
    "\n",
    "# model estimation\n",
    "# 1) ARMA(0,1) MA(1)48 - AIC = 11016.9\n",
    "# 2) ARMA(1,0) MA(1)48 - AIC = 11016.61\n",
    "# 3) ARMA(1,1) MA(1)48 - AIC = 10989.16\n",
    "\n",
    "cons.ts.arima3 <- arima(cons.ts,order=c(1,1,1),\n",
    "                        seasonal=list(order=c(0,1,1),period=(my.41)))\n",
    "# cons.ts.arima3\n",
    "\n",
    "# pred2 <- predict(cons.ts.arima3,n.ahead=my.41, level=c(0.3,.7))\n",
    "# mean.cons=pred2$pred;\n",
    "# sd.cons=pred2$se\n",
    "# # plot(pred2$se)"
   ]
  },
  {
   "cell_type": "markdown",
   "metadata": {
    "collapsed": true
   },
   "source": [
    "### 3) Forecast Generation\n",
    "    A) Generating 24h ahead forecast for each 30min interval"
   ]
  },
  {
   "cell_type": "code",
   "execution_count": 27,
   "metadata": {
    "collapsed": true
   },
   "outputs": [],
   "source": [
    "### A) Generate 24h ahead forecast for each 30min interval of Aug 26th\n",
    "\n",
    "# Aggregate the 5min consumption for the 26th of Aug (cons.ts - just till 25th)\n",
    "total_real_values = c(cons.ts,cons.ts.26)\n",
    "\n",
    "# Initialize the forecast matrices:\n",
    "my.42 = my.41+1 # we need 1 more point to have 24h prediction for each T_EMS\n",
    "for_mean_mat = matrix(data=c(1:(my.41*my.42)),ncol=my.42)\n",
    "for_sd_mat   = matrix(data=c(1:(my.41*my.42)),ncol=my.42)\n",
    "\n",
    "for(bloc in 1:my.41)\n",
    "{   \n",
    "  # Data available at the time we're doing the prediction\n",
    "  known_data = total_real_values[1:(length(cons.ts)+bloc-1)]\n",
    "  \n",
    "  # Refit the model to this data and predict next 24h (48 values):\n",
    "  refit <- Arima(known_data, model=cons.ts.arima3) \n",
    "  pred <- predict(refit,n.ahead=my.42)\n",
    "  \n",
    "  for_mean_mat[bloc,] <- pred$pred\n",
    "  for_sd_mat[bloc,]   <- pred$se\n",
    "  \n",
    "}\n",
    "\n",
    "rm(refit,bloc,pred,total_real_values)"
   ]
  },
  {
   "cell_type": "markdown",
   "metadata": {},
   "source": [
    "### 4) Scenario Generation\n",
    "    A) Initializing the scenario matrices\n",
    "    B) Generating the scenarios for each T_EMS\n",
    "    C) Saving the data"
   ]
  },
  {
   "cell_type": "code",
   "execution_count": 28,
   "metadata": {
    "collapsed": true
   },
   "outputs": [],
   "source": [
    "#### A) Initialize the scenario matrices:\n",
    "\n",
    "scen.cons <- matrix(0,nrow = my.2880, ncol = n_scen)\n",
    "\n",
    "scen.cons.all <- array(rep(1, my.2880*n_scen*my.288), dim=c(my.2880, n_scen, my.288))"
   ]
  },
  {
   "cell_type": "code",
   "execution_count": 29,
   "metadata": {
    "collapsed": true
   },
   "outputs": [],
   "source": [
    "### B) Create 24h ahead scenarios for each EMS period:\n",
    "\n",
    "# For different EMS periods inside the same forecast period \n",
    "# we just shift the 2880 window to match the EMS's 24h ahead\n",
    "\n",
    "for(p in 1:my.41)\n",
    "{    \n",
    "    # For each EMS period (inside forecast)\n",
    "    for(j in 0:(t.for/t.ems-1)) \n",
    "    {    \n",
    "        # For each scenario\n",
    "        for(i in 1:n_scen)\n",
    "        {\n",
    "          ## Long term (35min) randomness:\n",
    "          # Consumption (based on obtained ARIMA model - looking (24h+T_for) ahead)\n",
    "          f.c <- rnorm(my.42, mean = for_mean_mat[p,], sd = for_sd_mat[p,])\n",
    "          s.c <- spline(1:length(f.c), f.c, n = (my.2880+(t.for/t.int)))$y\n",
    "          # shift the scenario to match current T_ems:\n",
    "          scen.cons[,i] <- s.c[(1+j*(t.ems/t.int)):(my.2880+j*(t.ems/t.int))]\n",
    "\n",
    "          ### Short term (30s) randomness:\n",
    "          ## Consumption (normal) - add the 30s perfect forecast error\n",
    "          scen.cons[,i] <- scen.cons[,i] + rnorm(length(scen.cons[,i]),mean = 0, sd = sd_err_cons_perf) \n",
    "          # sd_err_cons_perf - sd for a perfect 30s forecast (when we mean secondly data to 30s intervals)\n",
    "\n",
    "        }\n",
    "        # str1 = paste(\"Generated Data/Scenarios/Cons/scen_\",((p-1)*t.for/t.ems+j+1),\".mat\",sep = '')\n",
    "        # writeMat(load = scen.cons, con=str1)\n",
    "        scen.cons.all[,,((p-1)*t.for/t.ems+j+1)] <- scen.cons\n",
    "    }\n",
    "}\n",
    "\n"
   ]
  },
  {
   "cell_type": "code",
   "execution_count": 30,
   "metadata": {
    "collapsed": true
   },
   "outputs": [],
   "source": [
    "### C) Save the obtained data:\n",
    "\n",
    "writeMat(cons_seg = cons_seg, con=\"../../Data/Generated Data/1 - Secondly/cons_seg.mat\")\n",
    "writeMat(cons_scen = scen.cons.all, con=\"../../Data/Generated Data/2 - Scenarios/cons_scen.mat\")"
   ]
  }
 ],
 "metadata": {
  "kernelspec": {
   "display_name": "R",
   "language": "R",
   "name": "ir"
  },
  "language_info": {
   "codemirror_mode": "r",
   "file_extension": ".r",
   "mimetype": "text/x-r-source",
   "name": "R",
   "pygments_lexer": "r",
   "version": "3.4.2"
  }
 },
 "nbformat": 4,
 "nbformat_minor": 2
}
