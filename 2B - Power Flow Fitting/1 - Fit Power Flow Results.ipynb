{
 "cells": [
  {
   "cell_type": "code",
   "execution_count": 1,
   "metadata": {},
   "outputs": [
    {
     "name": "stderr",
     "output_type": "stream",
     "text": [
      "Loading required package: R.matlab\n",
      "R.matlab v3.6.1 (2016-10-19) successfully loaded. See ?R.matlab for help.\n",
      "\n",
      "Attaching package: 'R.matlab'\n",
      "\n",
      "The following objects are masked from 'package:base':\n",
      "\n",
      "    getOption, isOpen\n",
      "\n"
     ]
    },
    {
     "data": {
      "text/html": [
       "<table>\n",
       "<thead><tr><th scope=col>n.dies.tot</th><th scope=col>P.bat</th><th scope=col>P.pv</th><th scope=col>P.cons</th><th scope=col>P.loss</th></tr></thead>\n",
       "<tbody>\n",
       "\t<tr><td>3        </td><td>-2.2     </td><td>6        </td><td>5.9450   </td><td>0.2223753</td></tr>\n",
       "\t<tr><td>3        </td><td>-2.2     </td><td>6        </td><td>6.2915   </td><td>0.2461958</td></tr>\n",
       "\t<tr><td>3        </td><td>-2.2     </td><td>6        </td><td>6.6380   </td><td>0.2712272</td></tr>\n",
       "\t<tr><td>3        </td><td>-1.1     </td><td>6        </td><td>6.3520   </td><td>0.1725013</td></tr>\n",
       "\t<tr><td>3        </td><td>-1.1     </td><td>6        </td><td>6.6985   </td><td>0.1864333</td></tr>\n",
       "\t<tr><td>3        </td><td>-1.1     </td><td>6        </td><td>7.0450   </td><td>0.2090702</td></tr>\n",
       "\t<tr><td>3        </td><td>-1.1     </td><td>6        </td><td>7.3915   </td><td>0.2325549</td></tr>\n",
       "\t<tr><td>3        </td><td>-1.1     </td><td>6        </td><td>7.7380   </td><td>0.2589573</td></tr>\n",
       "\t<tr><td>3        </td><td> 0.0     </td><td>6        </td><td>7.4520   </td><td>0.1932914</td></tr>\n",
       "\t<tr><td>3        </td><td> 0.0     </td><td>6        </td><td>7.7985   </td><td>0.2106947</td></tr>\n",
       "\t<tr><td>3        </td><td> 0.0     </td><td>6        </td><td>8.1450   </td><td>0.2314411</td></tr>\n",
       "\t<tr><td>3        </td><td> 0.0     </td><td>6        </td><td>8.4915   </td><td>0.2549230</td></tr>\n",
       "\t<tr><td>3        </td><td> 0.0     </td><td>6        </td><td>8.8380   </td><td>0.2841740</td></tr>\n",
       "</tbody>\n",
       "</table>\n"
      ],
      "text/latex": [
       "\\begin{tabular}{lllll}\n",
       " n.dies.tot & P.bat & P.pv & P.cons & P.loss\\\\\n",
       "\\hline\n",
       "\t 3         & -2.2      & 6         & 5.9450    & 0.2223753\\\\\n",
       "\t 3         & -2.2      & 6         & 6.2915    & 0.2461958\\\\\n",
       "\t 3         & -2.2      & 6         & 6.6380    & 0.2712272\\\\\n",
       "\t 3         & -1.1      & 6         & 6.3520    & 0.1725013\\\\\n",
       "\t 3         & -1.1      & 6         & 6.6985    & 0.1864333\\\\\n",
       "\t 3         & -1.1      & 6         & 7.0450    & 0.2090702\\\\\n",
       "\t 3         & -1.1      & 6         & 7.3915    & 0.2325549\\\\\n",
       "\t 3         & -1.1      & 6         & 7.7380    & 0.2589573\\\\\n",
       "\t 3         &  0.0      & 6         & 7.4520    & 0.1932914\\\\\n",
       "\t 3         &  0.0      & 6         & 7.7985    & 0.2106947\\\\\n",
       "\t 3         &  0.0      & 6         & 8.1450    & 0.2314411\\\\\n",
       "\t 3         &  0.0      & 6         & 8.4915    & 0.2549230\\\\\n",
       "\t 3         &  0.0      & 6         & 8.8380    & 0.2841740\\\\\n",
       "\\end{tabular}\n"
      ],
      "text/markdown": [
       "\n",
       "n.dies.tot | P.bat | P.pv | P.cons | P.loss | \n",
       "|---|---|---|---|---|---|---|---|---|---|---|---|---|\n",
       "| 3         | -2.2      | 6         | 5.9450    | 0.2223753 | \n",
       "| 3         | -2.2      | 6         | 6.2915    | 0.2461958 | \n",
       "| 3         | -2.2      | 6         | 6.6380    | 0.2712272 | \n",
       "| 3         | -1.1      | 6         | 6.3520    | 0.1725013 | \n",
       "| 3         | -1.1      | 6         | 6.6985    | 0.1864333 | \n",
       "| 3         | -1.1      | 6         | 7.0450    | 0.2090702 | \n",
       "| 3         | -1.1      | 6         | 7.3915    | 0.2325549 | \n",
       "| 3         | -1.1      | 6         | 7.7380    | 0.2589573 | \n",
       "| 3         |  0.0      | 6         | 7.4520    | 0.1932914 | \n",
       "| 3         |  0.0      | 6         | 7.7985    | 0.2106947 | \n",
       "| 3         |  0.0      | 6         | 8.1450    | 0.2314411 | \n",
       "| 3         |  0.0      | 6         | 8.4915    | 0.2549230 | \n",
       "| 3         |  0.0      | 6         | 8.8380    | 0.2841740 | \n",
       "\n",
       "\n"
      ],
      "text/plain": [
       "      n.dies.tot P.bat P.pv P.cons P.loss   \n",
       " [1,] 3          -2.2  6    5.9450 0.2223753\n",
       " [2,] 3          -2.2  6    6.2915 0.2461958\n",
       " [3,] 3          -2.2  6    6.6380 0.2712272\n",
       " [4,] 3          -1.1  6    6.3520 0.1725013\n",
       " [5,] 3          -1.1  6    6.6985 0.1864333\n",
       " [6,] 3          -1.1  6    7.0450 0.2090702\n",
       " [7,] 3          -1.1  6    7.3915 0.2325549\n",
       " [8,] 3          -1.1  6    7.7380 0.2589573\n",
       " [9,] 3           0.0  6    7.4520 0.1932914\n",
       "[10,] 3           0.0  6    7.7985 0.2106947\n",
       "[11,] 3           0.0  6    8.1450 0.2314411\n",
       "[12,] 3           0.0  6    8.4915 0.2549230\n",
       "[13,] 3           0.0  6    8.8380 0.2841740"
      ]
     },
     "metadata": {},
     "output_type": "display_data"
    },
    {
     "data": {
      "image/png": "[encoded data removed]",
      "text/plain": [
       "plot without title"
      ]
     },
     "metadata": {},
     "output_type": "display_data"
    }
   ],
   "source": [
    "rm(list=ls())\n",
    "\n",
    "require(R.matlab)\n",
    "\n",
    "# Reading data \n",
    "data <- readMat(con = '../../Data/Generated Data/6 - Power Flows/opt_flow_sim.mat')\n",
    "# data <- readMat(con = '../../Data/Generated Data/6 - Power Flows/opt_flow_sim_u_min.mat')\n",
    "# t() - transpose matrix\n",
    "X <- t(data.frame(data[[1]],stringsAsFactors = F)) \n",
    "X <- as.data.frame(X,row.names = T)\n",
    "y <- (lapply(X,unlist))\n",
    "z <- lapply(y,as.numeric)\n",
    "j <- matrix(unlist(z), ncol = length(z), byrow = F)\n",
    "cols <- c(1,2,3,4,5,6,7,8,9,10)\n",
    "cols <- c(1,5,6,7,8,9,10)\n",
    "# cols <- c(1,5,6,7,10)\n",
    "k <- j[,cols]\n",
    "colnames(k) <- names(X[,cols])\n",
    "k[57:69,]\n",
    "\n",
    "# comportament de la variable freq vs variables\n",
    "\n",
    "# windows()\n",
    "pairs(j[,cols], labels =  names(X[,cols]))\n",
    "pairs(j[,cols], labels =  colnames(k))"
   ]
  },
  {
   "cell_type": "code",
   "execution_count": 11,
   "metadata": {
    "collapsed": true
   },
   "outputs": [],
   "source": [
    "# fit <- lm(P.loss ~ n.dies.1 + n.dies.2 + n.dies.3 + P.bat + P.pv + P.cons, data=data.frame(k))\n",
    "# fit <- lm(U.min  ~ n.dies.1 + n.dies.2 + n.dies.3 + P.bat + P.pv + P.cons, data=data.frame(k))\n",
    "# fit <- lm(U.max  ~ n.dies.1 + n.dies.2 + n.dies.3 + P.bat + P.pv + P.cons, data=data.frame(k))\n",
    "\n",
    "# fit <- lm(P.loss ~ n.dies.tot + P.bat + P.pv + P.cons, data=data.frame(k))\n",
    "# fit <- lm(U.min  ~ n.dies.tot + P.bat + P.pv + P.cons, data=data.frame(k))\n",
    "# fit <- lm(U.max  ~ n.dies.tot + P.bat + P.pv + P.cons, data=data.frame(k))\n",
    "\n",
    "# summary(fit) # show results"
   ]
  },
  {
   "cell_type": "code",
   "execution_count": null,
   "metadata": {
    "collapsed": true
   },
   "outputs": [],
   "source": []
  },
  {
   "cell_type": "code",
   "execution_count": 12,
   "metadata": {},
   "outputs": [
    {
     "data": {
      "text/plain": [
       "\n",
       "Call:\n",
       "lm(formula = P.loss ~ n.dies.tot + P.bat + P.pv + P.cons, data = data.frame(k))\n",
       "\n",
       "Residuals:\n",
       "     Min       1Q   Median       3Q      Max \n",
       "-0.10360 -0.03681 -0.01154  0.02376  0.53400 \n",
       "\n",
       "Coefficients:\n",
       "              Estimate Std. Error t value Pr(>|t|)    \n",
       "(Intercept) -0.2599420  0.0033010  -78.75   <2e-16 ***\n",
       "n.dies.tot  -0.0131251  0.0005053  -25.97   <2e-16 ***\n",
       "P.bat       -0.0556892  0.0007087  -78.58   <2e-16 ***\n",
       "P.pv        -0.0398837  0.0005986  -66.63   <2e-16 ***\n",
       "P.cons       0.1018080  0.0005989  170.00   <2e-16 ***\n",
       "---\n",
       "Signif. codes:  0 '***' 0.001 '**' 0.01 '*' 0.05 '.' 0.1 ' ' 1\n",
       "\n",
       "Residual standard error: 0.05531 on 6814 degrees of freedom\n",
       "Multiple R-squared:  0.9036,\tAdjusted R-squared:  0.9036 \n",
       "F-statistic: 1.597e+04 on 4 and 6814 DF,  p-value: < 2.2e-16\n"
      ]
     },
     "metadata": {},
     "output_type": "display_data"
    }
   ],
   "source": [
    "# Power Losses Model:\n",
    "\n",
    "fit <- lm(P.loss ~ n.dies.tot + P.bat + P.pv + P.cons, data=data.frame(k))\n",
    "\n",
    "summary(fit) # show results\n",
    "\n",
    "# matrix(fit$coefficients)\n",
    "\n",
    "psi_loss_i = matrix(fit$coefficients)[1];\n",
    "psi_loss_d = matrix(fit$coefficients)[2];\n",
    "psi_loss_b = matrix(fit$coefficients)[3];\n",
    "psi_loss_p = matrix(fit$coefficients)[4];\n",
    "psi_loss_c = matrix(fit$coefficients)[5];\n",
    "\n",
    "writeMat(psi_loss_i = psi_loss_i, psi_loss_d = psi_loss_d, psi_loss_b = psi_loss_b, psi_loss_p = psi_loss_p, psi_loss_c=psi_loss_c, con=\"../../Data/Generated Data/6 - Power Flows/psi_loss.mat\")"
   ]
  },
  {
   "cell_type": "code",
   "execution_count": 13,
   "metadata": {},
   "outputs": [
    {
     "data": {
      "text/plain": [
       "\n",
       "Call:\n",
       "lm(formula = U.min ~ n.dies.tot + P.bat + P.pv + P.cons, data = data.frame(k))\n",
       "\n",
       "Residuals:\n",
       "      Min        1Q    Median        3Q       Max \n",
       "-0.061262 -0.003434  0.001695  0.005667  0.019804 \n",
       "\n",
       "Coefficients:\n",
       "              Estimate Std. Error t value Pr(>|t|)    \n",
       "(Intercept)  1.044e+00  5.463e-04 1910.30  < 2e-16 ***\n",
       "n.dies.tot   2.221e-03  8.363e-05   26.56  < 2e-16 ***\n",
       "P.bat        4.880e-04  1.173e-04    4.16 3.22e-05 ***\n",
       "P.pv         4.190e-03  9.907e-05   42.30  < 2e-16 ***\n",
       "P.cons      -5.678e-03  9.911e-05  -57.29  < 2e-16 ***\n",
       "---\n",
       "Signif. codes:  0 '***' 0.001 '**' 0.01 '*' 0.05 '.' 0.1 ' ' 1\n",
       "\n",
       "Residual standard error: 0.009154 on 6814 degrees of freedom\n",
       "Multiple R-squared:  0.5047,\tAdjusted R-squared:  0.5044 \n",
       "F-statistic:  1736 on 4 and 6814 DF,  p-value: < 2.2e-16\n"
      ]
     },
     "metadata": {},
     "output_type": "display_data"
    }
   ],
   "source": [
    "# Minimum Voltage Model:\n",
    "\n",
    "fit <- lm(U.min  ~ n.dies.tot + P.bat + P.pv + P.cons, data=data.frame(k))\n",
    "\n",
    "summary(fit) # show results\n",
    "\n",
    "# matrix(fit$coefficients)\n",
    "\n",
    "psi_min_i = matrix(fit$coefficients)[1];\n",
    "psi_min_d = matrix(fit$coefficients)[2];\n",
    "psi_min_b = matrix(fit$coefficients)[3];\n",
    "psi_min_p = matrix(fit$coefficients)[4];\n",
    "psi_min_c = matrix(fit$coefficients)[5];\n",
    "\n",
    "writeMat(psi_min_i = psi_min_i, psi_min_d = psi_min_d, psi_min_b = psi_min_b, psi_min_p = psi_min_p, psi_min_c=psi_min_c, con=\"../../Data/Generated Data/6 - Power Flows/psi_min.mat\")"
   ]
  },
  {
   "cell_type": "code",
   "execution_count": 14,
   "metadata": {},
   "outputs": [
    {
     "data": {
      "text/plain": [
       "\n",
       "Call:\n",
       "lm(formula = U.max ~ n.dies.tot + P.bat + P.pv + P.cons, data = data.frame(k))\n",
       "\n",
       "Residuals:\n",
       "      Min        1Q    Median        3Q       Max \n",
       "-0.041158 -0.001533  0.000843  0.002975  0.009503 \n",
       "\n",
       "Coefficients:\n",
       "              Estimate Std. Error t value Pr(>|t|)    \n",
       "(Intercept)  1.053e+00  3.069e-04 3431.43   <2e-16 ***\n",
       "n.dies.tot   1.269e-03  4.697e-05   27.02   <2e-16 ***\n",
       "P.bat        2.766e-03  6.588e-05   41.99   <2e-16 ***\n",
       "P.pv         1.983e-03  5.564e-05   35.65   <2e-16 ***\n",
       "P.cons      -2.547e-03  5.567e-05  -45.75   <2e-16 ***\n",
       "---\n",
       "Signif. codes:  0 '***' 0.001 '**' 0.01 '*' 0.05 '.' 0.1 ' ' 1\n",
       "\n",
       "Residual standard error: 0.005141 on 6814 degrees of freedom\n",
       "Multiple R-squared:  0.2603,\tAdjusted R-squared:  0.2599 \n",
       "F-statistic: 599.5 on 4 and 6814 DF,  p-value: < 2.2e-16\n"
      ]
     },
     "metadata": {},
     "output_type": "display_data"
    }
   ],
   "source": [
    "# Maximum Voltage Model (disregarding diesel gens):\n",
    "\n",
    "fit <- lm(U.max  ~ n.dies.tot + P.bat + P.pv + P.cons, data=data.frame(k))\n",
    "\n",
    "summary(fit) # show results\n",
    "\n",
    "# matrix(fit$coefficients)\n",
    "\n",
    "psi_max_i = matrix(fit$coefficients)[1];\n",
    "psi_max_d = matrix(fit$coefficients)[2];\n",
    "psi_max_b = matrix(fit$coefficients)[3];\n",
    "psi_max_p = matrix(fit$coefficients)[4];\n",
    "psi_max_c = matrix(fit$coefficients)[5];\n",
    "\n",
    "writeMat(psi_max_i = psi_max_i, psi_max_d = psi_max_d, psi_max_b = psi_max_b, psi_max_p = psi_max_p, psi_max_c=psi_max_c, con=\"../../Data/Generated Data/6 - Power Flows/psi_max.mat\")"
   ]
  },
  {
   "cell_type": "code",
   "execution_count": null,
   "metadata": {
    "collapsed": true
   },
   "outputs": [],
   "source": []
  },
  {
   "cell_type": "code",
   "execution_count": null,
   "metadata": {
    "collapsed": true
   },
   "outputs": [],
   "source": []
  },
  {
   "cell_type": "code",
   "execution_count": 15,
   "metadata": {
    "collapsed": true
   },
   "outputs": [],
   "source": [
    "##### 70%\n",
    "# \n",
    "# (Intercept)  1.1198374  0.0049378 226.788  < 2e-16 ***\n",
    "# n.dies.tot   0.0081692  0.0008955   9.123  < 2e-16 ***\n",
    "# P.bat        0.0104238  0.0014746   7.069 3.17e-12 ***\n",
    "# P.pv         0.0229799  0.0012747  18.028  < 2e-16 ***\n",
    "# P.cons      -0.0391187  0.0013653 -28.652  < 2e-16 ***\n",
    "# ---\n",
    "# Signif. codes:  0 '***' 0.001 '**' 0.01 '*' 0.05 '.' 0.1 ' ' 1\n",
    "\n",
    "# Residual standard error: 0.02923 on 881 degrees of freedom\n",
    "# Multiple R-squared:  0.7318,\tAdjusted R-squared:  0.7306 \n",
    "\n",
    "##### 80%\n",
    "#\n",
    "# (Intercept)  1.1101206  0.0024274  457.33   <2e-16 ***\n",
    "# n.dies.tot   0.0076488  0.0004445   17.21   <2e-16 ***\n",
    "# P.bat        0.0091381  0.0007987   11.44   <2e-16 ***\n",
    "# P.pv         0.0222390  0.0006180   35.99   <2e-16 ***\n",
    "# P.cons      -0.0371704  0.0006653  -55.87   <2e-16 ***\n",
    "# ---\n",
    "# Signif. codes:  0 '***' 0.001 '**' 0.01 '*' 0.05 '.' 0.1 ' ' 1\n",
    "#\n",
    "# Residual standard error: 0.02752 on 3024 degrees of freedom\n",
    "# Multiple R-squared:  0.7431,\tAdjusted R-squared:  0.7427 \n",
    "\n",
    "##### 90%\n",
    "# \n",
    "# Coefficients:\n",
    "#               Estimate Std. Error t value Pr(>|t|)    \n",
    "# (Intercept)  1.0864475  0.0017707  613.59   <2e-16 ***\n",
    "# n.dies.tot   0.0042109  0.0003010   13.99   <2e-16 ***\n",
    "# P.bat        0.0058317  0.0005719   10.20   <2e-16 ***\n",
    "# P.pv         0.0158056  0.0004644   34.04   <2e-16 ***\n",
    "# P.cons      -0.0274820  0.0005031  -54.62   <2e-16 ***\n",
    "# ---\n",
    "# Signif. codes:  0 '***' 0.001 '**' 0.01 '*' 0.05 '.' 0.1 ' ' 1\n",
    "# \n",
    "# Residual standard error: 0.01623 on 2221 degrees of freedom\n",
    "# Multiple R-squared:  0.7884,\tAdjusted R-squared:  0.788 \n",
    "\n",
    "##### 91%\n",
    "#\n",
    "# Coefficients:\n",
    "#               Estimate Std. Error t value Pr(>|t|)    \n",
    "# (Intercept)  1.0841752  0.0017863 606.944   <2e-16 ***\n",
    "# n.dies.tot   0.0037037  0.0002976  12.443   <2e-16 ***\n",
    "# P.bat        0.0052305  0.0005706   9.167   <2e-16 ***\n",
    "# P.pv         0.0148329  0.0004701  31.553   <2e-16 ***\n",
    "# P.cons      -0.0261143  0.0005051 -51.703   <2e-16 ***\n",
    "# ---\n",
    "# Signif. codes:  0 '***' 0.001 '**' 0.01 '*' 0.05 '.' 0.1 ' ' 1\n",
    "#\n",
    "# Residual standard error: 0.01529 on 2002 degrees of freedom\n",
    "# Multiple R-squared:  0.7808,\tAdjusted R-squared:  0.7804 \n",
    "\n",
    "##### 92.5%\n",
    "#\n",
    "# (Intercept)  1.0788287  0.0017028 633.578  < 2e-16 ***\n",
    "# n.dies.tot   0.0031841  0.0002805  11.350  < 2e-16 ***\n",
    "# P.bat        0.0045225  0.0005466   8.273 2.52e-16 ***\n",
    "# P.pv         0.0136344  0.0004596  29.668  < 2e-16 ***\n",
    "# P.cons      -0.0240730  0.0004978 -48.361  < 2e-16 ***\n",
    "# ---\n",
    "# Signif. codes:  0 '***' 0.001 '**' 0.01 '*' 0.05 '.' 0.1 ' ' 1\n",
    "#\n",
    "# Residual standard error: 0.01346 on 1786 degrees of freedom\n",
    "# Multiple R-squared:  0.7804,\tAdjusted R-squared:  0.7799\n",
    "\n",
    "##### 95%\n",
    "#\n",
    "# Coefficients:\n",
    "#               Estimate Std. Error t value Pr(>|t|)    \n",
    "# (Intercept)  1.0719970  0.0016795 638.269  < 2e-16 ***\n",
    "# n.dies.tot   0.0025944  0.0002688   9.651  < 2e-16 ***\n",
    "# P.bat        0.0041020  0.0005426   7.560 7.54e-14 ***\n",
    "# P.pv         0.0121325  0.0004762  25.479  < 2e-16 ***\n",
    "# P.cons      -0.0212271  0.0005197 -40.843  < 2e-16 ***\n",
    "# ---\n",
    "# Signif. codes:  0 '***' 0.001 '**' 0.01 '*' 0.05 '.' 0.1 ' ' 1\n",
    "#\n",
    "# Residual standard error: 0.01074 on 1310 degrees of freedom\n",
    "# Multiple R-squared:  0.766,\tAdjusted R-squared:  0.7653 "
   ]
  }
 ],
 "metadata": {
  "kernelspec": {
   "display_name": "R",
   "language": "R",
   "name": "ir"
  },
  "language_info": {
   "codemirror_mode": "r",
   "file_extension": ".r",
   "mimetype": "text/x-r-source",
   "name": "R",
   "pygments_lexer": "r",
   "version": "3.4.2"
  }
 },
 "nbformat": 4,
 "nbformat_minor": 2
}
